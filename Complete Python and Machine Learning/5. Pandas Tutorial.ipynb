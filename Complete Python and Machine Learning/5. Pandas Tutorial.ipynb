{
 "cells": [
  {
   "cell_type": "markdown",
   "id": "8b4fb389",
   "metadata": {},
   "source": [
    "## Pandas Tutorial\n",
    "Pandas is an open source, BSD-licensed library providing high-performance, easy-to-use data structures and data analysis tools for the Python programming language."
   ]
  },
  {
   "cell_type": "code",
   "execution_count": 1,
   "id": "2860349f",
   "metadata": {},
   "outputs": [],
   "source": [
    "## First step is to import pandas\n",
    "\n",
    "import pandas as pd\n",
    "import numpy as np"
   ]
  },
  {
   "cell_type": "code",
   "execution_count": 14,
   "id": "d06a0572",
   "metadata": {},
   "outputs": [],
   "source": [
    "## Playing with Dataframe\n",
    "\n",
    "df = pd.DataFrame(np.arange(0,20).reshape(5,4),index=['Row1', 'Row2', 'Row3', 'Row4', 'Row5'], columns = ['Column1', 'Column2', 'Column3', 'Column4'])"
   ]
  },
  {
   "cell_type": "code",
   "execution_count": 15,
   "id": "21e04944",
   "metadata": {},
   "outputs": [
    {
     "data": {
      "text/html": [
       "<div>\n",
       "<style scoped>\n",
       "    .dataframe tbody tr th:only-of-type {\n",
       "        vertical-align: middle;\n",
       "    }\n",
       "\n",
       "    .dataframe tbody tr th {\n",
       "        vertical-align: top;\n",
       "    }\n",
       "\n",
       "    .dataframe thead th {\n",
       "        text-align: right;\n",
       "    }\n",
       "</style>\n",
       "<table border=\"1\" class=\"dataframe\">\n",
       "  <thead>\n",
       "    <tr style=\"text-align: right;\">\n",
       "      <th></th>\n",
       "      <th>Column1</th>\n",
       "      <th>Column2</th>\n",
       "      <th>Column3</th>\n",
       "      <th>Column4</th>\n",
       "    </tr>\n",
       "  </thead>\n",
       "  <tbody>\n",
       "    <tr>\n",
       "      <th>Row1</th>\n",
       "      <td>0</td>\n",
       "      <td>1</td>\n",
       "      <td>2</td>\n",
       "      <td>3</td>\n",
       "    </tr>\n",
       "    <tr>\n",
       "      <th>Row2</th>\n",
       "      <td>4</td>\n",
       "      <td>5</td>\n",
       "      <td>6</td>\n",
       "      <td>7</td>\n",
       "    </tr>\n",
       "    <tr>\n",
       "      <th>Row3</th>\n",
       "      <td>8</td>\n",
       "      <td>9</td>\n",
       "      <td>10</td>\n",
       "      <td>11</td>\n",
       "    </tr>\n",
       "    <tr>\n",
       "      <th>Row4</th>\n",
       "      <td>12</td>\n",
       "      <td>13</td>\n",
       "      <td>14</td>\n",
       "      <td>15</td>\n",
       "    </tr>\n",
       "    <tr>\n",
       "      <th>Row5</th>\n",
       "      <td>16</td>\n",
       "      <td>17</td>\n",
       "      <td>18</td>\n",
       "      <td>19</td>\n",
       "    </tr>\n",
       "  </tbody>\n",
       "</table>\n",
       "</div>"
      ],
      "text/plain": [
       "      Column1  Column2  Column3  Column4\n",
       "Row1        0        1        2        3\n",
       "Row2        4        5        6        7\n",
       "Row3        8        9       10       11\n",
       "Row4       12       13       14       15\n",
       "Row5       16       17       18       19"
      ]
     },
     "execution_count": 15,
     "metadata": {},
     "output_type": "execute_result"
    }
   ],
   "source": [
    "df.head()"
   ]
  },
  {
   "cell_type": "code",
   "execution_count": 16,
   "id": "c3e203de",
   "metadata": {},
   "outputs": [
    {
     "data": {
      "text/plain": [
       "Column1    0\n",
       "Column2    1\n",
       "Column3    2\n",
       "Column4    3\n",
       "Name: Row1, dtype: int32"
      ]
     },
     "execution_count": 16,
     "metadata": {},
     "output_type": "execute_result"
    }
   ],
   "source": [
    "## Accessing the elements\n",
    "\n",
    "df.loc['Row1']"
   ]
  },
  {
   "cell_type": "code",
   "execution_count": 17,
   "id": "c0b3a891",
   "metadata": {},
   "outputs": [
    {
     "data": {
      "text/plain": [
       "pandas.core.series.Series"
      ]
     },
     "execution_count": 17,
     "metadata": {},
     "output_type": "execute_result"
    }
   ],
   "source": [
    "## Check the type\n",
    "\n",
    "type(df.loc['Row1'])"
   ]
  },
  {
   "cell_type": "code",
   "execution_count": 18,
   "id": "3ec6d649",
   "metadata": {},
   "outputs": [
    {
     "data": {
      "text/html": [
       "<div>\n",
       "<style scoped>\n",
       "    .dataframe tbody tr th:only-of-type {\n",
       "        vertical-align: middle;\n",
       "    }\n",
       "\n",
       "    .dataframe tbody tr th {\n",
       "        vertical-align: top;\n",
       "    }\n",
       "\n",
       "    .dataframe thead th {\n",
       "        text-align: right;\n",
       "    }\n",
       "</style>\n",
       "<table border=\"1\" class=\"dataframe\">\n",
       "  <thead>\n",
       "    <tr style=\"text-align: right;\">\n",
       "      <th></th>\n",
       "      <th>Column1</th>\n",
       "      <th>Column2</th>\n",
       "      <th>Column3</th>\n",
       "      <th>Column4</th>\n",
       "    </tr>\n",
       "  </thead>\n",
       "  <tbody>\n",
       "    <tr>\n",
       "      <th>Row1</th>\n",
       "      <td>0</td>\n",
       "      <td>1</td>\n",
       "      <td>2</td>\n",
       "      <td>3</td>\n",
       "    </tr>\n",
       "    <tr>\n",
       "      <th>Row2</th>\n",
       "      <td>4</td>\n",
       "      <td>5</td>\n",
       "      <td>6</td>\n",
       "      <td>7</td>\n",
       "    </tr>\n",
       "    <tr>\n",
       "      <th>Row3</th>\n",
       "      <td>8</td>\n",
       "      <td>9</td>\n",
       "      <td>10</td>\n",
       "      <td>11</td>\n",
       "    </tr>\n",
       "    <tr>\n",
       "      <th>Row4</th>\n",
       "      <td>12</td>\n",
       "      <td>13</td>\n",
       "      <td>14</td>\n",
       "      <td>15</td>\n",
       "    </tr>\n",
       "    <tr>\n",
       "      <th>Row5</th>\n",
       "      <td>16</td>\n",
       "      <td>17</td>\n",
       "      <td>18</td>\n",
       "      <td>19</td>\n",
       "    </tr>\n",
       "  </tbody>\n",
       "</table>\n",
       "</div>"
      ],
      "text/plain": [
       "      Column1  Column2  Column3  Column4\n",
       "Row1        0        1        2        3\n",
       "Row2        4        5        6        7\n",
       "Row3        8        9       10       11\n",
       "Row4       12       13       14       15\n",
       "Row5       16       17       18       19"
      ]
     },
     "execution_count": 18,
     "metadata": {},
     "output_type": "execute_result"
    }
   ],
   "source": [
    "df.iloc[:,:] # all rows and columns"
   ]
  },
  {
   "cell_type": "code",
   "execution_count": 19,
   "id": "a4d7a24b",
   "metadata": {},
   "outputs": [
    {
     "data": {
      "text/html": [
       "<div>\n",
       "<style scoped>\n",
       "    .dataframe tbody tr th:only-of-type {\n",
       "        vertical-align: middle;\n",
       "    }\n",
       "\n",
       "    .dataframe tbody tr th {\n",
       "        vertical-align: top;\n",
       "    }\n",
       "\n",
       "    .dataframe thead th {\n",
       "        text-align: right;\n",
       "    }\n",
       "</style>\n",
       "<table border=\"1\" class=\"dataframe\">\n",
       "  <thead>\n",
       "    <tr style=\"text-align: right;\">\n",
       "      <th></th>\n",
       "      <th>Column2</th>\n",
       "      <th>Column3</th>\n",
       "      <th>Column4</th>\n",
       "    </tr>\n",
       "  </thead>\n",
       "  <tbody>\n",
       "    <tr>\n",
       "      <th>Row1</th>\n",
       "      <td>1</td>\n",
       "      <td>2</td>\n",
       "      <td>3</td>\n",
       "    </tr>\n",
       "    <tr>\n",
       "      <th>Row2</th>\n",
       "      <td>5</td>\n",
       "      <td>6</td>\n",
       "      <td>7</td>\n",
       "    </tr>\n",
       "    <tr>\n",
       "      <th>Row3</th>\n",
       "      <td>9</td>\n",
       "      <td>10</td>\n",
       "      <td>11</td>\n",
       "    </tr>\n",
       "    <tr>\n",
       "      <th>Row4</th>\n",
       "      <td>13</td>\n",
       "      <td>14</td>\n",
       "      <td>15</td>\n",
       "    </tr>\n",
       "    <tr>\n",
       "      <th>Row5</th>\n",
       "      <td>17</td>\n",
       "      <td>18</td>\n",
       "      <td>19</td>\n",
       "    </tr>\n",
       "  </tbody>\n",
       "</table>\n",
       "</div>"
      ],
      "text/plain": [
       "      Column2  Column3  Column4\n",
       "Row1        1        2        3\n",
       "Row2        5        6        7\n",
       "Row3        9       10       11\n",
       "Row4       13       14       15\n",
       "Row5       17       18       19"
      ]
     },
     "execution_count": 19,
     "metadata": {},
     "output_type": "execute_result"
    }
   ],
   "source": [
    "## Take the elements from the Column2\n",
    "df.iloc[:,1:]"
   ]
  },
  {
   "cell_type": "code",
   "execution_count": 20,
   "id": "576071c8",
   "metadata": {},
   "outputs": [
    {
     "data": {
      "text/plain": [
       "array([[ 1,  2,  3],\n",
       "       [ 5,  6,  7],\n",
       "       [ 9, 10, 11],\n",
       "       [13, 14, 15],\n",
       "       [17, 18, 19]])"
      ]
     },
     "execution_count": 20,
     "metadata": {},
     "output_type": "execute_result"
    }
   ],
   "source": [
    "#convert Dataframes into array\n",
    "df.iloc[:,1:].values"
   ]
  },
  {
   "cell_type": "code",
   "execution_count": 22,
   "id": "c33b8a05",
   "metadata": {},
   "outputs": [
    {
     "data": {
      "text/plain": [
       "0     1\n",
       "4     1\n",
       "8     1\n",
       "12    1\n",
       "16    1\n",
       "Name: Column1, dtype: int64"
      ]
     },
     "execution_count": 22,
     "metadata": {},
     "output_type": "execute_result"
    }
   ],
   "source": [
    "df['Column1'].value_counts() # counts no of occurrence"
   ]
  },
  {
   "cell_type": "code",
   "execution_count": 24,
   "id": "77ca0772",
   "metadata": {},
   "outputs": [
    {
     "data": {
      "text/plain": [
       "array([ 0,  4,  8, 12, 16])"
      ]
     },
     "execution_count": 24,
     "metadata": {},
     "output_type": "execute_result"
    }
   ],
   "source": [
    "df['Column1'].unique() # Gives array if unique values from column1"
   ]
  },
  {
   "cell_type": "code",
   "execution_count": 25,
   "id": "80b3340f",
   "metadata": {},
   "outputs": [
    {
     "name": "stdout",
     "output_type": "stream",
     "text": [
      "<class 'pandas.core.frame.DataFrame'>\n",
      "Index: 5 entries, Row1 to Row5\n",
      "Data columns (total 4 columns):\n",
      " #   Column   Non-Null Count  Dtype\n",
      "---  ------   --------------  -----\n",
      " 0   Column1  5 non-null      int32\n",
      " 1   Column2  5 non-null      int32\n",
      " 2   Column3  5 non-null      int32\n",
      " 3   Column4  5 non-null      int32\n",
      "dtypes: int32(4)\n",
      "memory usage: 292.0+ bytes\n"
     ]
    }
   ],
   "source": [
    "df.info()"
   ]
  },
  {
   "cell_type": "code",
   "execution_count": 26,
   "id": "c6613332",
   "metadata": {},
   "outputs": [
    {
     "data": {
      "text/html": [
       "<div>\n",
       "<style scoped>\n",
       "    .dataframe tbody tr th:only-of-type {\n",
       "        vertical-align: middle;\n",
       "    }\n",
       "\n",
       "    .dataframe tbody tr th {\n",
       "        vertical-align: top;\n",
       "    }\n",
       "\n",
       "    .dataframe thead th {\n",
       "        text-align: right;\n",
       "    }\n",
       "</style>\n",
       "<table border=\"1\" class=\"dataframe\">\n",
       "  <thead>\n",
       "    <tr style=\"text-align: right;\">\n",
       "      <th></th>\n",
       "      <th>Column1</th>\n",
       "      <th>Column2</th>\n",
       "      <th>Column3</th>\n",
       "      <th>Column4</th>\n",
       "    </tr>\n",
       "  </thead>\n",
       "  <tbody>\n",
       "    <tr>\n",
       "      <th>count</th>\n",
       "      <td>5.000000</td>\n",
       "      <td>5.000000</td>\n",
       "      <td>5.000000</td>\n",
       "      <td>5.000000</td>\n",
       "    </tr>\n",
       "    <tr>\n",
       "      <th>mean</th>\n",
       "      <td>8.000000</td>\n",
       "      <td>9.000000</td>\n",
       "      <td>10.000000</td>\n",
       "      <td>11.000000</td>\n",
       "    </tr>\n",
       "    <tr>\n",
       "      <th>std</th>\n",
       "      <td>6.324555</td>\n",
       "      <td>6.324555</td>\n",
       "      <td>6.324555</td>\n",
       "      <td>6.324555</td>\n",
       "    </tr>\n",
       "    <tr>\n",
       "      <th>min</th>\n",
       "      <td>0.000000</td>\n",
       "      <td>1.000000</td>\n",
       "      <td>2.000000</td>\n",
       "      <td>3.000000</td>\n",
       "    </tr>\n",
       "    <tr>\n",
       "      <th>25%</th>\n",
       "      <td>4.000000</td>\n",
       "      <td>5.000000</td>\n",
       "      <td>6.000000</td>\n",
       "      <td>7.000000</td>\n",
       "    </tr>\n",
       "    <tr>\n",
       "      <th>50%</th>\n",
       "      <td>8.000000</td>\n",
       "      <td>9.000000</td>\n",
       "      <td>10.000000</td>\n",
       "      <td>11.000000</td>\n",
       "    </tr>\n",
       "    <tr>\n",
       "      <th>75%</th>\n",
       "      <td>12.000000</td>\n",
       "      <td>13.000000</td>\n",
       "      <td>14.000000</td>\n",
       "      <td>15.000000</td>\n",
       "    </tr>\n",
       "    <tr>\n",
       "      <th>max</th>\n",
       "      <td>16.000000</td>\n",
       "      <td>17.000000</td>\n",
       "      <td>18.000000</td>\n",
       "      <td>19.000000</td>\n",
       "    </tr>\n",
       "  </tbody>\n",
       "</table>\n",
       "</div>"
      ],
      "text/plain": [
       "         Column1    Column2    Column3    Column4\n",
       "count   5.000000   5.000000   5.000000   5.000000\n",
       "mean    8.000000   9.000000  10.000000  11.000000\n",
       "std     6.324555   6.324555   6.324555   6.324555\n",
       "min     0.000000   1.000000   2.000000   3.000000\n",
       "25%     4.000000   5.000000   6.000000   7.000000\n",
       "50%     8.000000   9.000000  10.000000  11.000000\n",
       "75%    12.000000  13.000000  14.000000  15.000000\n",
       "max    16.000000  17.000000  18.000000  19.000000"
      ]
     },
     "execution_count": 26,
     "metadata": {},
     "output_type": "execute_result"
    }
   ],
   "source": [
    "df.describe()"
   ]
  },
  {
   "cell_type": "markdown",
   "id": "fe374554",
   "metadata": {},
   "source": [
    "## CSV"
   ]
  },
  {
   "cell_type": "code",
   "execution_count": 27,
   "id": "935d3a45",
   "metadata": {},
   "outputs": [],
   "source": [
    "from io import StringIO, BytesIO"
   ]
  },
  {
   "cell_type": "code",
   "execution_count": 28,
   "id": "943198a9",
   "metadata": {},
   "outputs": [],
   "source": [
    "data = ('col1,col2,col3\\n'\n",
    "            'x,y,1\\n'\n",
    "            'a,b,2\\n'\n",
    "            'c,d,3')"
   ]
  },
  {
   "cell_type": "code",
   "execution_count": 29,
   "id": "34fabfcf",
   "metadata": {},
   "outputs": [
    {
     "data": {
      "text/plain": [
       "str"
      ]
     },
     "execution_count": 29,
     "metadata": {},
     "output_type": "execute_result"
    }
   ],
   "source": [
    "type(data)"
   ]
  },
  {
   "cell_type": "code",
   "execution_count": 30,
   "id": "7a1a6a34",
   "metadata": {},
   "outputs": [
    {
     "data": {
      "text/html": [
       "<div>\n",
       "<style scoped>\n",
       "    .dataframe tbody tr th:only-of-type {\n",
       "        vertical-align: middle;\n",
       "    }\n",
       "\n",
       "    .dataframe tbody tr th {\n",
       "        vertical-align: top;\n",
       "    }\n",
       "\n",
       "    .dataframe thead th {\n",
       "        text-align: right;\n",
       "    }\n",
       "</style>\n",
       "<table border=\"1\" class=\"dataframe\">\n",
       "  <thead>\n",
       "    <tr style=\"text-align: right;\">\n",
       "      <th></th>\n",
       "      <th>col1</th>\n",
       "      <th>col2</th>\n",
       "      <th>col3</th>\n",
       "    </tr>\n",
       "  </thead>\n",
       "  <tbody>\n",
       "    <tr>\n",
       "      <th>0</th>\n",
       "      <td>x</td>\n",
       "      <td>y</td>\n",
       "      <td>1</td>\n",
       "    </tr>\n",
       "    <tr>\n",
       "      <th>1</th>\n",
       "      <td>a</td>\n",
       "      <td>b</td>\n",
       "      <td>2</td>\n",
       "    </tr>\n",
       "    <tr>\n",
       "      <th>2</th>\n",
       "      <td>c</td>\n",
       "      <td>d</td>\n",
       "      <td>3</td>\n",
       "    </tr>\n",
       "  </tbody>\n",
       "</table>\n",
       "</div>"
      ],
      "text/plain": [
       "  col1 col2  col3\n",
       "0    x    y     1\n",
       "1    a    b     2\n",
       "2    c    d     3"
      ]
     },
     "execution_count": 30,
     "metadata": {},
     "output_type": "execute_result"
    }
   ],
   "source": [
    "pd.read_csv(StringIO(data))"
   ]
  },
  {
   "cell_type": "code",
   "execution_count": 33,
   "id": "3ced0fb3",
   "metadata": {},
   "outputs": [
    {
     "data": {
      "text/html": [
       "<div>\n",
       "<style scoped>\n",
       "    .dataframe tbody tr th:only-of-type {\n",
       "        vertical-align: middle;\n",
       "    }\n",
       "\n",
       "    .dataframe tbody tr th {\n",
       "        vertical-align: top;\n",
       "    }\n",
       "\n",
       "    .dataframe thead th {\n",
       "        text-align: right;\n",
       "    }\n",
       "</style>\n",
       "<table border=\"1\" class=\"dataframe\">\n",
       "  <thead>\n",
       "    <tr style=\"text-align: right;\">\n",
       "      <th></th>\n",
       "      <th>col1</th>\n",
       "      <th>col3</th>\n",
       "    </tr>\n",
       "  </thead>\n",
       "  <tbody>\n",
       "    <tr>\n",
       "      <th>0</th>\n",
       "      <td>x</td>\n",
       "      <td>1</td>\n",
       "    </tr>\n",
       "    <tr>\n",
       "      <th>1</th>\n",
       "      <td>a</td>\n",
       "      <td>2</td>\n",
       "    </tr>\n",
       "    <tr>\n",
       "      <th>2</th>\n",
       "      <td>c</td>\n",
       "      <td>3</td>\n",
       "    </tr>\n",
       "  </tbody>\n",
       "</table>\n",
       "</div>"
      ],
      "text/plain": [
       "  col1  col3\n",
       "0    x     1\n",
       "1    a     2\n",
       "2    c     3"
      ]
     },
     "execution_count": 33,
     "metadata": {},
     "output_type": "execute_result"
    }
   ],
   "source": [
    "## Read from specific columns\n",
    "df=pd.read_csv(StringIO(data), usecols=lambda x: x.upper() in ['COL1', 'COL3'])\n",
    "df"
   ]
  },
  {
   "cell_type": "code",
   "execution_count": 32,
   "id": "99f01c3d",
   "metadata": {},
   "outputs": [],
   "source": [
    "df.to_csv('Test.csv')"
   ]
  },
  {
   "cell_type": "code",
   "execution_count": 34,
   "id": "455b4215",
   "metadata": {},
   "outputs": [],
   "source": [
    "## Specifying columns data types\n",
    "\n",
    "data = ('a,b,c,d\\n'\n",
    "            '1,2,3,4\\n'\n",
    "            '5,6,7,8\\n'\n",
    "            '9,10,11')"
   ]
  },
  {
   "cell_type": "code",
   "execution_count": 35,
   "id": "52743826",
   "metadata": {},
   "outputs": [
    {
     "name": "stdout",
     "output_type": "stream",
     "text": [
      "a,b,c,d\n",
      "1,2,3,4\n",
      "5,6,7,8\n",
      "9,10,11\n"
     ]
    }
   ],
   "source": [
    "print(data)"
   ]
  },
  {
   "cell_type": "code",
   "execution_count": 36,
   "id": "2bd6f388",
   "metadata": {},
   "outputs": [],
   "source": [
    "df=pd.read_csv(StringIO(data),dtype=object)"
   ]
  },
  {
   "cell_type": "code",
   "execution_count": 37,
   "id": "cad5f251",
   "metadata": {},
   "outputs": [
    {
     "data": {
      "text/html": [
       "<div>\n",
       "<style scoped>\n",
       "    .dataframe tbody tr th:only-of-type {\n",
       "        vertical-align: middle;\n",
       "    }\n",
       "\n",
       "    .dataframe tbody tr th {\n",
       "        vertical-align: top;\n",
       "    }\n",
       "\n",
       "    .dataframe thead th {\n",
       "        text-align: right;\n",
       "    }\n",
       "</style>\n",
       "<table border=\"1\" class=\"dataframe\">\n",
       "  <thead>\n",
       "    <tr style=\"text-align: right;\">\n",
       "      <th></th>\n",
       "      <th>a</th>\n",
       "      <th>b</th>\n",
       "      <th>c</th>\n",
       "      <th>d</th>\n",
       "    </tr>\n",
       "  </thead>\n",
       "  <tbody>\n",
       "    <tr>\n",
       "      <th>0</th>\n",
       "      <td>1</td>\n",
       "      <td>2</td>\n",
       "      <td>3</td>\n",
       "      <td>4</td>\n",
       "    </tr>\n",
       "    <tr>\n",
       "      <th>1</th>\n",
       "      <td>5</td>\n",
       "      <td>6</td>\n",
       "      <td>7</td>\n",
       "      <td>8</td>\n",
       "    </tr>\n",
       "    <tr>\n",
       "      <th>2</th>\n",
       "      <td>9</td>\n",
       "      <td>10</td>\n",
       "      <td>11</td>\n",
       "      <td>NaN</td>\n",
       "    </tr>\n",
       "  </tbody>\n",
       "</table>\n",
       "</div>"
      ],
      "text/plain": [
       "   a   b   c    d\n",
       "0  1   2   3    4\n",
       "1  5   6   7    8\n",
       "2  9  10  11  NaN"
      ]
     },
     "execution_count": 37,
     "metadata": {},
     "output_type": "execute_result"
    }
   ],
   "source": [
    "df"
   ]
  },
  {
   "cell_type": "code",
   "execution_count": 38,
   "id": "0549f050",
   "metadata": {},
   "outputs": [
    {
     "data": {
      "text/plain": [
       "'5'"
      ]
     },
     "execution_count": 38,
     "metadata": {},
     "output_type": "execute_result"
    }
   ],
   "source": [
    "df['a'][1]"
   ]
  },
  {
   "cell_type": "code",
   "execution_count": 40,
   "id": "e155d080",
   "metadata": {},
   "outputs": [],
   "source": [
    "df=pd.read_csv(StringIO(data),dtype={'b':int,'c':float,'a':'Int64'}) # datatypes passed as a dictionary"
   ]
  },
  {
   "cell_type": "code",
   "execution_count": 41,
   "id": "bcb70d60",
   "metadata": {},
   "outputs": [
    {
     "data": {
      "text/html": [
       "<div>\n",
       "<style scoped>\n",
       "    .dataframe tbody tr th:only-of-type {\n",
       "        vertical-align: middle;\n",
       "    }\n",
       "\n",
       "    .dataframe tbody tr th {\n",
       "        vertical-align: top;\n",
       "    }\n",
       "\n",
       "    .dataframe thead th {\n",
       "        text-align: right;\n",
       "    }\n",
       "</style>\n",
       "<table border=\"1\" class=\"dataframe\">\n",
       "  <thead>\n",
       "    <tr style=\"text-align: right;\">\n",
       "      <th></th>\n",
       "      <th>a</th>\n",
       "      <th>b</th>\n",
       "      <th>c</th>\n",
       "      <th>d</th>\n",
       "    </tr>\n",
       "  </thead>\n",
       "  <tbody>\n",
       "    <tr>\n",
       "      <th>0</th>\n",
       "      <td>1</td>\n",
       "      <td>2</td>\n",
       "      <td>3.0</td>\n",
       "      <td>4.0</td>\n",
       "    </tr>\n",
       "    <tr>\n",
       "      <th>1</th>\n",
       "      <td>5</td>\n",
       "      <td>6</td>\n",
       "      <td>7.0</td>\n",
       "      <td>8.0</td>\n",
       "    </tr>\n",
       "    <tr>\n",
       "      <th>2</th>\n",
       "      <td>9</td>\n",
       "      <td>10</td>\n",
       "      <td>11.0</td>\n",
       "      <td>NaN</td>\n",
       "    </tr>\n",
       "  </tbody>\n",
       "</table>\n",
       "</div>"
      ],
      "text/plain": [
       "   a   b     c    d\n",
       "0  1   2   3.0  4.0\n",
       "1  5   6   7.0  8.0\n",
       "2  9  10  11.0  NaN"
      ]
     },
     "execution_count": 41,
     "metadata": {},
     "output_type": "execute_result"
    }
   ],
   "source": [
    "df"
   ]
  },
  {
   "cell_type": "code",
   "execution_count": 42,
   "id": "d06c578c",
   "metadata": {},
   "outputs": [
    {
     "data": {
      "text/plain": [
       "5"
      ]
     },
     "execution_count": 42,
     "metadata": {},
     "output_type": "execute_result"
    }
   ],
   "source": [
    "df['a'][1]"
   ]
  },
  {
   "cell_type": "code",
   "execution_count": 43,
   "id": "c729f92b",
   "metadata": {},
   "outputs": [
    {
     "data": {
      "text/plain": [
       "a      Int64\n",
       "b      int32\n",
       "c    float64\n",
       "d    float64\n",
       "dtype: object"
      ]
     },
     "execution_count": 43,
     "metadata": {},
     "output_type": "execute_result"
    }
   ],
   "source": [
    "## check the datatype\n",
    "df.dtypes"
   ]
  },
  {
   "cell_type": "code",
   "execution_count": 71,
   "id": "66eba5f6",
   "metadata": {},
   "outputs": [],
   "source": [
    "## Index columns\n",
    "data = ('index,a,b,c\\n'\n",
    "           '4,apple,bat,5.7\\n'\n",
    "            '8,orange,cow,10') # all rows has 4 values so default indexing introduced"
   ]
  },
  {
   "cell_type": "code",
   "execution_count": 57,
   "id": "53845f36",
   "metadata": {},
   "outputs": [
    {
     "data": {
      "text/html": [
       "<div>\n",
       "<style scoped>\n",
       "    .dataframe tbody tr th:only-of-type {\n",
       "        vertical-align: middle;\n",
       "    }\n",
       "\n",
       "    .dataframe tbody tr th {\n",
       "        vertical-align: top;\n",
       "    }\n",
       "\n",
       "    .dataframe thead th {\n",
       "        text-align: right;\n",
       "    }\n",
       "</style>\n",
       "<table border=\"1\" class=\"dataframe\">\n",
       "  <thead>\n",
       "    <tr style=\"text-align: right;\">\n",
       "      <th></th>\n",
       "      <th>index</th>\n",
       "      <th>a</th>\n",
       "      <th>b</th>\n",
       "      <th>c</th>\n",
       "    </tr>\n",
       "  </thead>\n",
       "  <tbody>\n",
       "    <tr>\n",
       "      <th>0</th>\n",
       "      <td>4</td>\n",
       "      <td>apple</td>\n",
       "      <td>bat</td>\n",
       "      <td>5.7</td>\n",
       "    </tr>\n",
       "    <tr>\n",
       "      <th>1</th>\n",
       "      <td>8</td>\n",
       "      <td>orange</td>\n",
       "      <td>cow</td>\n",
       "      <td>10.0</td>\n",
       "    </tr>\n",
       "  </tbody>\n",
       "</table>\n",
       "</div>"
      ],
      "text/plain": [
       "   index       a    b     c\n",
       "0      4   apple  bat   5.7\n",
       "1      8  orange  cow  10.0"
      ]
     },
     "execution_count": 57,
     "metadata": {},
     "output_type": "execute_result"
    }
   ],
   "source": [
    "pd.read_csv(StringIO(data)) # by default a new no name column is introduced and rows are numbered"
   ]
  },
  {
   "cell_type": "code",
   "execution_count": 58,
   "id": "7b652f55",
   "metadata": {},
   "outputs": [
    {
     "data": {
      "text/html": [
       "<div>\n",
       "<style scoped>\n",
       "    .dataframe tbody tr th:only-of-type {\n",
       "        vertical-align: middle;\n",
       "    }\n",
       "\n",
       "    .dataframe tbody tr th {\n",
       "        vertical-align: top;\n",
       "    }\n",
       "\n",
       "    .dataframe thead th {\n",
       "        text-align: right;\n",
       "    }\n",
       "</style>\n",
       "<table border=\"1\" class=\"dataframe\">\n",
       "  <thead>\n",
       "    <tr style=\"text-align: right;\">\n",
       "      <th></th>\n",
       "      <th>a</th>\n",
       "      <th>b</th>\n",
       "      <th>c</th>\n",
       "    </tr>\n",
       "    <tr>\n",
       "      <th>index</th>\n",
       "      <th></th>\n",
       "      <th></th>\n",
       "      <th></th>\n",
       "    </tr>\n",
       "  </thead>\n",
       "  <tbody>\n",
       "    <tr>\n",
       "      <th>4</th>\n",
       "      <td>apple</td>\n",
       "      <td>bat</td>\n",
       "      <td>5.7</td>\n",
       "    </tr>\n",
       "    <tr>\n",
       "      <th>8</th>\n",
       "      <td>orange</td>\n",
       "      <td>cow</td>\n",
       "      <td>10.0</td>\n",
       "    </tr>\n",
       "  </tbody>\n",
       "</table>\n",
       "</div>"
      ],
      "text/plain": [
       "            a    b     c\n",
       "index                   \n",
       "4       apple  bat   5.7\n",
       "8      orange  cow  10.0"
      ]
     },
     "execution_count": 58,
     "metadata": {},
     "output_type": "execute_result"
    }
   ],
   "source": [
    "pd.read_csv(StringIO(data),index_col=0) # specify that use the column 0 as first column"
   ]
  },
  {
   "cell_type": "code",
   "execution_count": 72,
   "id": "1c2403ff",
   "metadata": {},
   "outputs": [
    {
     "data": {
      "text/html": [
       "<div>\n",
       "<style scoped>\n",
       "    .dataframe tbody tr th:only-of-type {\n",
       "        vertical-align: middle;\n",
       "    }\n",
       "\n",
       "    .dataframe tbody tr th {\n",
       "        vertical-align: top;\n",
       "    }\n",
       "\n",
       "    .dataframe thead th {\n",
       "        text-align: right;\n",
       "    }\n",
       "</style>\n",
       "<table border=\"1\" class=\"dataframe\">\n",
       "  <thead>\n",
       "    <tr style=\"text-align: right;\">\n",
       "      <th></th>\n",
       "      <th>index</th>\n",
       "      <th>a</th>\n",
       "      <th>c</th>\n",
       "    </tr>\n",
       "    <tr>\n",
       "      <th>b</th>\n",
       "      <th></th>\n",
       "      <th></th>\n",
       "      <th></th>\n",
       "    </tr>\n",
       "  </thead>\n",
       "  <tbody>\n",
       "    <tr>\n",
       "      <th>bat</th>\n",
       "      <td>4</td>\n",
       "      <td>apple</td>\n",
       "      <td>5.7</td>\n",
       "    </tr>\n",
       "    <tr>\n",
       "      <th>cow</th>\n",
       "      <td>8</td>\n",
       "      <td>orange</td>\n",
       "      <td>10.0</td>\n",
       "    </tr>\n",
       "  </tbody>\n",
       "</table>\n",
       "</div>"
      ],
      "text/plain": [
       "     index       a     c\n",
       "b                       \n",
       "bat      4   apple   5.7\n",
       "cow      8  orange  10.0"
      ]
     },
     "execution_count": 72,
     "metadata": {},
     "output_type": "execute_result"
    }
   ],
   "source": [
    "pd.read_csv(StringIO(data),index_col=2) # specify that use the column 2 as first column"
   ]
  },
  {
   "cell_type": "code",
   "execution_count": 115,
   "id": "fa7f0cd1",
   "metadata": {},
   "outputs": [],
   "source": [
    " data = ('a,b,c\\n'\n",
    "           '4,apple,bat, \\n'\n",
    "            '8,orange,cow, ') # see the extra commas in the row2 and row 3 so there are 4 columns in total\n",
    "                              # all rows don't have same no of items so the first element in row 2 and row 3 \n",
    "                              # are pushed in column 0 to handle this index_col = false will ensure that \n",
    "                              # no data is used under column 0 or row 0"
   ]
  },
  {
   "cell_type": "code",
   "execution_count": 87,
   "id": "ac6ff915",
   "metadata": {},
   "outputs": [
    {
     "data": {
      "text/html": [
       "<div>\n",
       "<style scoped>\n",
       "    .dataframe tbody tr th:only-of-type {\n",
       "        vertical-align: middle;\n",
       "    }\n",
       "\n",
       "    .dataframe tbody tr th {\n",
       "        vertical-align: top;\n",
       "    }\n",
       "\n",
       "    .dataframe thead th {\n",
       "        text-align: right;\n",
       "    }\n",
       "</style>\n",
       "<table border=\"1\" class=\"dataframe\">\n",
       "  <thead>\n",
       "    <tr style=\"text-align: right;\">\n",
       "      <th></th>\n",
       "      <th>a</th>\n",
       "      <th>b</th>\n",
       "      <th>c</th>\n",
       "    </tr>\n",
       "  </thead>\n",
       "  <tbody>\n",
       "    <tr>\n",
       "      <th>4</th>\n",
       "      <td>apple</td>\n",
       "      <td>bat</td>\n",
       "      <td></td>\n",
       "    </tr>\n",
       "    <tr>\n",
       "      <th>8</th>\n",
       "      <td>orange</td>\n",
       "      <td>cow</td>\n",
       "      <td></td>\n",
       "    </tr>\n",
       "  </tbody>\n",
       "</table>\n",
       "</div>"
      ],
      "text/plain": [
       "        a    b  c\n",
       "4   apple  bat   \n",
       "8  orange  cow   "
      ]
     },
     "execution_count": 87,
     "metadata": {},
     "output_type": "execute_result"
    }
   ],
   "source": [
    "pd.read_csv(StringIO(data)) # a b c are taken as columns the dtyoe is none and\n",
    "                            # in row 2 and row 3 , 4 and 8 are numbers so taken as indexes(x and y works same way)"
   ]
  },
  {
   "cell_type": "code",
   "execution_count": 116,
   "id": "dc74ed30",
   "metadata": {},
   "outputs": [
    {
     "name": "stderr",
     "output_type": "stream",
     "text": [
      "C:\\Users\\manpr\\AppData\\Local\\Temp\\ipykernel_21080\\264139308.py:1: ParserWarning: Length of header or names does not match length of data. This leads to a loss of data with index_col=False.\n",
      "  pd.read_csv(StringIO(data),index_col=False)\n"
     ]
    },
    {
     "data": {
      "text/html": [
       "<div>\n",
       "<style scoped>\n",
       "    .dataframe tbody tr th:only-of-type {\n",
       "        vertical-align: middle;\n",
       "    }\n",
       "\n",
       "    .dataframe tbody tr th {\n",
       "        vertical-align: top;\n",
       "    }\n",
       "\n",
       "    .dataframe thead th {\n",
       "        text-align: right;\n",
       "    }\n",
       "</style>\n",
       "<table border=\"1\" class=\"dataframe\">\n",
       "  <thead>\n",
       "    <tr style=\"text-align: right;\">\n",
       "      <th></th>\n",
       "      <th>a</th>\n",
       "      <th>b</th>\n",
       "      <th>c</th>\n",
       "    </tr>\n",
       "  </thead>\n",
       "  <tbody>\n",
       "    <tr>\n",
       "      <th>0</th>\n",
       "      <td>4</td>\n",
       "      <td>apple</td>\n",
       "      <td>bat</td>\n",
       "    </tr>\n",
       "    <tr>\n",
       "      <th>1</th>\n",
       "      <td>8</td>\n",
       "      <td>orange</td>\n",
       "      <td>cow</td>\n",
       "    </tr>\n",
       "  </tbody>\n",
       "</table>\n",
       "</div>"
      ],
      "text/plain": [
       "   a       b    c\n",
       "0  4   apple  bat\n",
       "1  8  orange  cow"
      ]
     },
     "execution_count": 116,
     "metadata": {},
     "output_type": "execute_result"
    }
   ],
   "source": [
    "pd.read_csv(StringIO(data),index_col=False)"
   ]
  },
  {
   "cell_type": "code",
   "execution_count": 117,
   "id": "fabe8d53",
   "metadata": {},
   "outputs": [],
   "source": [
    "## Combining usecols and index_col\n",
    "data = ('a,b,c\\n'\n",
    "           '4,apple,bat,\\n'\n",
    "            '8,orange,cow,')"
   ]
  },
  {
   "cell_type": "code",
   "execution_count": 118,
   "id": "c2aedce7",
   "metadata": {},
   "outputs": [
    {
     "data": {
      "text/html": [
       "<div>\n",
       "<style scoped>\n",
       "    .dataframe tbody tr th:only-of-type {\n",
       "        vertical-align: middle;\n",
       "    }\n",
       "\n",
       "    .dataframe tbody tr th {\n",
       "        vertical-align: top;\n",
       "    }\n",
       "\n",
       "    .dataframe thead th {\n",
       "        text-align: right;\n",
       "    }\n",
       "</style>\n",
       "<table border=\"1\" class=\"dataframe\">\n",
       "  <thead>\n",
       "    <tr style=\"text-align: right;\">\n",
       "      <th></th>\n",
       "      <th>b</th>\n",
       "      <th>c</th>\n",
       "    </tr>\n",
       "  </thead>\n",
       "  <tbody>\n",
       "    <tr>\n",
       "      <th>0</th>\n",
       "      <td>apple</td>\n",
       "      <td>bat</td>\n",
       "    </tr>\n",
       "    <tr>\n",
       "      <th>1</th>\n",
       "      <td>orange</td>\n",
       "      <td>cow</td>\n",
       "    </tr>\n",
       "  </tbody>\n",
       "</table>\n",
       "</div>"
      ],
      "text/plain": [
       "        b    c\n",
       "0   apple  bat\n",
       "1  orange  cow"
      ]
     },
     "execution_count": 118,
     "metadata": {},
     "output_type": "execute_result"
    }
   ],
   "source": [
    "pd.read_csv(StringIO(data), usecols=['b', 'c'],index_col=False)"
   ]
  },
  {
   "cell_type": "code",
   "execution_count": 98,
   "id": "c0681311",
   "metadata": {},
   "outputs": [],
   "source": [
    "## Quoting and Escape Characters¶. Very useful in NLP\n",
    "\n",
    "data = 'a,b\\n\"hello, \\\\\"Bob\\\\\", nice to see you\",5'"
   ]
  },
  {
   "cell_type": "code",
   "execution_count": 99,
   "id": "23aa2b92",
   "metadata": {},
   "outputs": [
    {
     "data": {
      "text/html": [
       "<div>\n",
       "<style scoped>\n",
       "    .dataframe tbody tr th:only-of-type {\n",
       "        vertical-align: middle;\n",
       "    }\n",
       "\n",
       "    .dataframe tbody tr th {\n",
       "        vertical-align: top;\n",
       "    }\n",
       "\n",
       "    .dataframe thead th {\n",
       "        text-align: right;\n",
       "    }\n",
       "</style>\n",
       "<table border=\"1\" class=\"dataframe\">\n",
       "  <thead>\n",
       "    <tr style=\"text-align: right;\">\n",
       "      <th></th>\n",
       "      <th>a</th>\n",
       "      <th>b</th>\n",
       "    </tr>\n",
       "  </thead>\n",
       "  <tbody>\n",
       "    <tr>\n",
       "      <th>0</th>\n",
       "      <td>hello, \"Bob\", nice to see you</td>\n",
       "      <td>5</td>\n",
       "    </tr>\n",
       "  </tbody>\n",
       "</table>\n",
       "</div>"
      ],
      "text/plain": [
       "                               a  b\n",
       "0  hello, \"Bob\", nice to see you  5"
      ]
     },
     "execution_count": 99,
     "metadata": {},
     "output_type": "execute_result"
    }
   ],
   "source": [
    "pd.read_csv(StringIO(data),escapechar='\\\\')"
   ]
  },
  {
   "cell_type": "code",
   "execution_count": 109,
   "id": "66236a0c",
   "metadata": {},
   "outputs": [],
   "source": [
    "## URL to CSV\n",
    "\n",
    "## url = \"https://download.bls.gov/pub/time.series/cu/cu.item\"\n",
    "\n",
    "## df = pd.read_csv(url, sep=\"\\t\", engine=\"python\") # blocking the request\n",
    "\n",
    "df = pd.read_csv(\"cu.item\", sep=\"\\t\")"
   ]
  },
  {
   "cell_type": "code",
   "execution_count": 110,
   "id": "46b620bb",
   "metadata": {},
   "outputs": [
    {
     "data": {
      "text/html": [
       "<div>\n",
       "<style scoped>\n",
       "    .dataframe tbody tr th:only-of-type {\n",
       "        vertical-align: middle;\n",
       "    }\n",
       "\n",
       "    .dataframe tbody tr th {\n",
       "        vertical-align: top;\n",
       "    }\n",
       "\n",
       "    .dataframe thead th {\n",
       "        text-align: right;\n",
       "    }\n",
       "</style>\n",
       "<table border=\"1\" class=\"dataframe\">\n",
       "  <thead>\n",
       "    <tr style=\"text-align: right;\">\n",
       "      <th></th>\n",
       "      <th>item_code</th>\n",
       "      <th>item_name</th>\n",
       "      <th>display_level</th>\n",
       "      <th>selectable</th>\n",
       "      <th>sort_sequence</th>\n",
       "    </tr>\n",
       "  </thead>\n",
       "  <tbody>\n",
       "    <tr>\n",
       "      <th>0</th>\n",
       "      <td>AA0</td>\n",
       "      <td>All items - old base</td>\n",
       "      <td>0</td>\n",
       "      <td>T</td>\n",
       "      <td>2</td>\n",
       "    </tr>\n",
       "    <tr>\n",
       "      <th>1</th>\n",
       "      <td>AA0R</td>\n",
       "      <td>Purchasing power of the consumer dollar - old ...</td>\n",
       "      <td>0</td>\n",
       "      <td>T</td>\n",
       "      <td>400</td>\n",
       "    </tr>\n",
       "    <tr>\n",
       "      <th>2</th>\n",
       "      <td>SA0</td>\n",
       "      <td>All items</td>\n",
       "      <td>0</td>\n",
       "      <td>T</td>\n",
       "      <td>1</td>\n",
       "    </tr>\n",
       "    <tr>\n",
       "      <th>3</th>\n",
       "      <td>SA0E</td>\n",
       "      <td>Energy</td>\n",
       "      <td>1</td>\n",
       "      <td>T</td>\n",
       "      <td>375</td>\n",
       "    </tr>\n",
       "    <tr>\n",
       "      <th>4</th>\n",
       "      <td>SA0L1</td>\n",
       "      <td>All items less food</td>\n",
       "      <td>1</td>\n",
       "      <td>T</td>\n",
       "      <td>359</td>\n",
       "    </tr>\n",
       "  </tbody>\n",
       "</table>\n",
       "</div>"
      ],
      "text/plain": [
       "  item_code                                          item_name  display_level  \\\n",
       "0       AA0                               All items - old base              0   \n",
       "1      AA0R  Purchasing power of the consumer dollar - old ...              0   \n",
       "2       SA0                                          All items              0   \n",
       "3      SA0E                                             Energy              1   \n",
       "4     SA0L1                                All items less food              1   \n",
       "\n",
       "  selectable  sort_sequence  \n",
       "0          T              2  \n",
       "1          T            400  \n",
       "2          T              1  \n",
       "3          T            375  \n",
       "4          T            359  "
      ]
     },
     "execution_count": 110,
     "metadata": {},
     "output_type": "execute_result"
    }
   ],
   "source": [
    "df.head()"
   ]
  },
  {
   "cell_type": "markdown",
   "id": "83889233",
   "metadata": {},
   "source": [
    "## Read Json to CSV"
   ]
  },
  {
   "cell_type": "code",
   "execution_count": 126,
   "id": "d494af21",
   "metadata": {},
   "outputs": [],
   "source": [
    "Data = '{\"employee_name\": \"James\", \"email\": \"james@gmail.com\", \"job_profile\": [{\"title1\":\"Team Lead\", \"title2\":\"Sr. Developer\"}]}'\n",
    "df1 = pd.read_json(Data)"
   ]
  },
  {
   "cell_type": "code",
   "execution_count": 129,
   "id": "2c32dc0e",
   "metadata": {},
   "outputs": [
    {
     "data": {
      "text/html": [
       "<div>\n",
       "<style scoped>\n",
       "    .dataframe tbody tr th:only-of-type {\n",
       "        vertical-align: middle;\n",
       "    }\n",
       "\n",
       "    .dataframe tbody tr th {\n",
       "        vertical-align: top;\n",
       "    }\n",
       "\n",
       "    .dataframe thead th {\n",
       "        text-align: right;\n",
       "    }\n",
       "</style>\n",
       "<table border=\"1\" class=\"dataframe\">\n",
       "  <thead>\n",
       "    <tr style=\"text-align: right;\">\n",
       "      <th></th>\n",
       "      <th>employee_name</th>\n",
       "      <th>email</th>\n",
       "      <th>job_profile</th>\n",
       "    </tr>\n",
       "  </thead>\n",
       "  <tbody>\n",
       "    <tr>\n",
       "      <th>0</th>\n",
       "      <td>James</td>\n",
       "      <td>james@gmail.com</td>\n",
       "      <td>{'title1': 'Team Lead', 'title2': 'Sr. Develop...</td>\n",
       "    </tr>\n",
       "  </tbody>\n",
       "</table>\n",
       "</div>"
      ],
      "text/plain": [
       "  employee_name            email  \\\n",
       "0         James  james@gmail.com   \n",
       "\n",
       "                                         job_profile  \n",
       "0  {'title1': 'Team Lead', 'title2': 'Sr. Develop...  "
      ]
     },
     "execution_count": 129,
     "metadata": {},
     "output_type": "execute_result"
    }
   ],
   "source": [
    "df1"
   ]
  },
  {
   "cell_type": "code",
   "execution_count": 131,
   "id": "8ffaff10",
   "metadata": {},
   "outputs": [
    {
     "data": {
      "text/plain": [
       "'{\"employee_name\":{\"0\":\"James\"},\"email\":{\"0\":\"james@gmail.com\"},\"job_profile\":{\"0\":{\"title1\":\"Team Lead\",\"title2\":\"Sr. Developer\"}}}'"
      ]
     },
     "execution_count": 131,
     "metadata": {},
     "output_type": "execute_result"
    }
   ],
   "source": [
    "df1.to_json()"
   ]
  },
  {
   "cell_type": "code",
   "execution_count": 133,
   "id": "2f41aa5c",
   "metadata": {},
   "outputs": [
    {
     "data": {
      "text/plain": [
       "'[{\"employee_name\":\"James\",\"email\":\"james@gmail.com\",\"job_profile\":{\"title1\":\"Team Lead\",\"title2\":\"Sr. Developer\"}}]'"
      ]
     },
     "execution_count": 133,
     "metadata": {},
     "output_type": "execute_result"
    }
   ],
   "source": [
    "df1.to_json(orient=\"records\")"
   ]
  },
  {
   "cell_type": "code",
   "execution_count": 120,
   "id": "6e7e9ab3",
   "metadata": {},
   "outputs": [],
   "source": [
    "df = pd.read_csv('https://archive.ics.uci.edu/ml/machine-learning-databases/wine/wine.data', header=None)"
   ]
  },
  {
   "cell_type": "code",
   "execution_count": 121,
   "id": "530dde9a",
   "metadata": {},
   "outputs": [
    {
     "data": {
      "text/html": [
       "<div>\n",
       "<style scoped>\n",
       "    .dataframe tbody tr th:only-of-type {\n",
       "        vertical-align: middle;\n",
       "    }\n",
       "\n",
       "    .dataframe tbody tr th {\n",
       "        vertical-align: top;\n",
       "    }\n",
       "\n",
       "    .dataframe thead th {\n",
       "        text-align: right;\n",
       "    }\n",
       "</style>\n",
       "<table border=\"1\" class=\"dataframe\">\n",
       "  <thead>\n",
       "    <tr style=\"text-align: right;\">\n",
       "      <th></th>\n",
       "      <th>0</th>\n",
       "      <th>1</th>\n",
       "      <th>2</th>\n",
       "      <th>3</th>\n",
       "      <th>4</th>\n",
       "      <th>5</th>\n",
       "      <th>6</th>\n",
       "      <th>7</th>\n",
       "      <th>8</th>\n",
       "      <th>9</th>\n",
       "      <th>10</th>\n",
       "      <th>11</th>\n",
       "      <th>12</th>\n",
       "      <th>13</th>\n",
       "    </tr>\n",
       "  </thead>\n",
       "  <tbody>\n",
       "    <tr>\n",
       "      <th>0</th>\n",
       "      <td>1</td>\n",
       "      <td>14.23</td>\n",
       "      <td>1.71</td>\n",
       "      <td>2.43</td>\n",
       "      <td>15.6</td>\n",
       "      <td>127</td>\n",
       "      <td>2.80</td>\n",
       "      <td>3.06</td>\n",
       "      <td>0.28</td>\n",
       "      <td>2.29</td>\n",
       "      <td>5.64</td>\n",
       "      <td>1.04</td>\n",
       "      <td>3.92</td>\n",
       "      <td>1065</td>\n",
       "    </tr>\n",
       "    <tr>\n",
       "      <th>1</th>\n",
       "      <td>1</td>\n",
       "      <td>13.20</td>\n",
       "      <td>1.78</td>\n",
       "      <td>2.14</td>\n",
       "      <td>11.2</td>\n",
       "      <td>100</td>\n",
       "      <td>2.65</td>\n",
       "      <td>2.76</td>\n",
       "      <td>0.26</td>\n",
       "      <td>1.28</td>\n",
       "      <td>4.38</td>\n",
       "      <td>1.05</td>\n",
       "      <td>3.40</td>\n",
       "      <td>1050</td>\n",
       "    </tr>\n",
       "    <tr>\n",
       "      <th>2</th>\n",
       "      <td>1</td>\n",
       "      <td>13.16</td>\n",
       "      <td>2.36</td>\n",
       "      <td>2.67</td>\n",
       "      <td>18.6</td>\n",
       "      <td>101</td>\n",
       "      <td>2.80</td>\n",
       "      <td>3.24</td>\n",
       "      <td>0.30</td>\n",
       "      <td>2.81</td>\n",
       "      <td>5.68</td>\n",
       "      <td>1.03</td>\n",
       "      <td>3.17</td>\n",
       "      <td>1185</td>\n",
       "    </tr>\n",
       "    <tr>\n",
       "      <th>3</th>\n",
       "      <td>1</td>\n",
       "      <td>14.37</td>\n",
       "      <td>1.95</td>\n",
       "      <td>2.50</td>\n",
       "      <td>16.8</td>\n",
       "      <td>113</td>\n",
       "      <td>3.85</td>\n",
       "      <td>3.49</td>\n",
       "      <td>0.24</td>\n",
       "      <td>2.18</td>\n",
       "      <td>7.80</td>\n",
       "      <td>0.86</td>\n",
       "      <td>3.45</td>\n",
       "      <td>1480</td>\n",
       "    </tr>\n",
       "    <tr>\n",
       "      <th>4</th>\n",
       "      <td>1</td>\n",
       "      <td>13.24</td>\n",
       "      <td>2.59</td>\n",
       "      <td>2.87</td>\n",
       "      <td>21.0</td>\n",
       "      <td>118</td>\n",
       "      <td>2.80</td>\n",
       "      <td>2.69</td>\n",
       "      <td>0.39</td>\n",
       "      <td>1.82</td>\n",
       "      <td>4.32</td>\n",
       "      <td>1.04</td>\n",
       "      <td>2.93</td>\n",
       "      <td>735</td>\n",
       "    </tr>\n",
       "  </tbody>\n",
       "</table>\n",
       "</div>"
      ],
      "text/plain": [
       "   0      1     2     3     4    5     6     7     8     9     10    11    12  \\\n",
       "0   1  14.23  1.71  2.43  15.6  127  2.80  3.06  0.28  2.29  5.64  1.04  3.92   \n",
       "1   1  13.20  1.78  2.14  11.2  100  2.65  2.76  0.26  1.28  4.38  1.05  3.40   \n",
       "2   1  13.16  2.36  2.67  18.6  101  2.80  3.24  0.30  2.81  5.68  1.03  3.17   \n",
       "3   1  14.37  1.95  2.50  16.8  113  3.85  3.49  0.24  2.18  7.80  0.86  3.45   \n",
       "4   1  13.24  2.59  2.87  21.0  118  2.80  2.69  0.39  1.82  4.32  1.04  2.93   \n",
       "\n",
       "     13  \n",
       "0  1065  \n",
       "1  1050  \n",
       "2  1185  \n",
       "3  1480  \n",
       "4   735  "
      ]
     },
     "execution_count": 121,
     "metadata": {},
     "output_type": "execute_result"
    }
   ],
   "source": [
    "df.head()"
   ]
  },
  {
   "cell_type": "code",
   "execution_count": 123,
   "id": "27abe1a1",
   "metadata": {},
   "outputs": [],
   "source": [
    "# convert Json to csv\n",
    "df.to_csv('wine.csv')"
   ]
  },
  {
   "cell_type": "code",
   "execution_count": 124,
   "id": "4b24ed33",
   "metadata": {},
   "outputs": [],
   "source": [
    "# convert Json to different json formats"
   ]
  },
  {
   "cell_type": "code",
   "execution_count": 136,
   "id": "36bcbb74",
   "metadata": {},
   "outputs": [
    {
     "data": {
      "text/plain": [
       "'[{\"0\":1,\"1\":14.23,\"2\":1.71,\"3\":2.43,\"4\":15.6,\"5\":127,\"6\":2.8,\"7\":3.06,\"8\":0.28,\"9\":2.29,\"10\":5.64,\"11\":1.04,\"12\":3.92,\"13\":1065},{\"0\":1,\"1\":13.2,\"2\":1.78,\"3\":2.14,\"4\":11.2,\"5\":100,\"6\":2.65,\"7\":2.76,\"8\":0.26,\"9\":1.28,\"10\":4.38,\"11\":1.05,\"12\":3.4,\"13\":1050},{\"0\":1,\"1\":13.16,\"2\":2.36,\"3\":2.67,\"4\":18.6,\"5\":101,\"6\":2.8,\"7\":3.24,\"8\":0.3,\"9\":2.81,\"10\":5.68,\"11\":1.03,\"12\":3.17,\"13\":1185},{\"0\":1,\"1\":14.37,\"2\":1.95,\"3\":2.5,\"4\":16.8,\"5\":113,\"6\":3.85,\"7\":3.49,\"8\":0.24,\"9\":2.18,\"10\":7.8,\"11\":0.86,\"12\":3.45,\"13\":1480},{\"0\":1,\"1\":13.24,\"2\":2.59,\"3\":2.87,\"4\":21.0,\"5\":118,\"6\":2.8,\"7\":2.69,\"8\":0.39,\"9\":1.82,\"10\":4.32,\"11\":1.04,\"12\":2.93,\"13\":735},{\"0\":1,\"1\":14.2,\"2\":1.76,\"3\":2.45,\"4\":15.2,\"5\":112,\"6\":3.27,\"7\":3.39,\"8\":0.34,\"9\":1.97,\"10\":6.75,\"11\":1.05,\"12\":2.85,\"13\":1450},{\"0\":1,\"1\":14.39,\"2\":1.87,\"3\":2.45,\"4\":14.6,\"5\":96,\"6\":2.5,\"7\":2.52,\"8\":0.3,\"9\":1.98,\"10\":5.25,\"11\":1.02,\"12\":3.58,\"13\":1290},{\"0\":1,\"1\":14.06,\"2\":2.15,\"3\":2.61,\"4\":17.6,\"5\":121,\"6\":2.6,\"7\":2.51,\"8\":0.31,\"9\":1.25,\"10\":5.05,\"11\":1.06,\"12\":3.58,\"13\":1295},{\"0\":1,\"1\":14.83,\"2\":1.64,\"3\":2.17,\"4\":14.0,\"5\":97,\"6\":2.8,\"7\":2.98,\"8\":0.29,\"9\":1.98,\"10\":5.2,\"11\":1.08,\"12\":2.85,\"13\":1045},{\"0\":1,\"1\":13.86,\"2\":1.35,\"3\":2.27,\"4\":16.0,\"5\":98,\"6\":2.98,\"7\":3.15,\"8\":0.22,\"9\":1.85,\"10\":7.22,\"11\":1.01,\"12\":3.55,\"13\":1045},{\"0\":1,\"1\":14.1,\"2\":2.16,\"3\":2.3,\"4\":18.0,\"5\":105,\"6\":2.95,\"7\":3.32,\"8\":0.22,\"9\":2.38,\"10\":5.75,\"11\":1.25,\"12\":3.17,\"13\":1510},{\"0\":1,\"1\":14.12,\"2\":1.48,\"3\":2.32,\"4\":16.8,\"5\":95,\"6\":2.2,\"7\":2.43,\"8\":0.26,\"9\":1.57,\"10\":5.0,\"11\":1.17,\"12\":2.82,\"13\":1280},{\"0\":1,\"1\":13.75,\"2\":1.73,\"3\":2.41,\"4\":16.0,\"5\":89,\"6\":2.6,\"7\":2.76,\"8\":0.29,\"9\":1.81,\"10\":5.6,\"11\":1.15,\"12\":2.9,\"13\":1320},{\"0\":1,\"1\":14.75,\"2\":1.73,\"3\":2.39,\"4\":11.4,\"5\":91,\"6\":3.1,\"7\":3.69,\"8\":0.43,\"9\":2.81,\"10\":5.4,\"11\":1.25,\"12\":2.73,\"13\":1150},{\"0\":1,\"1\":14.38,\"2\":1.87,\"3\":2.38,\"4\":12.0,\"5\":102,\"6\":3.3,\"7\":3.64,\"8\":0.29,\"9\":2.96,\"10\":7.5,\"11\":1.2,\"12\":3.0,\"13\":1547},{\"0\":1,\"1\":13.63,\"2\":1.81,\"3\":2.7,\"4\":17.2,\"5\":112,\"6\":2.85,\"7\":2.91,\"8\":0.3,\"9\":1.46,\"10\":7.3,\"11\":1.28,\"12\":2.88,\"13\":1310},{\"0\":1,\"1\":14.3,\"2\":1.92,\"3\":2.72,\"4\":20.0,\"5\":120,\"6\":2.8,\"7\":3.14,\"8\":0.33,\"9\":1.97,\"10\":6.2,\"11\":1.07,\"12\":2.65,\"13\":1280},{\"0\":1,\"1\":13.83,\"2\":1.57,\"3\":2.62,\"4\":20.0,\"5\":115,\"6\":2.95,\"7\":3.4,\"8\":0.4,\"9\":1.72,\"10\":6.6,\"11\":1.13,\"12\":2.57,\"13\":1130},{\"0\":1,\"1\":14.19,\"2\":1.59,\"3\":2.48,\"4\":16.5,\"5\":108,\"6\":3.3,\"7\":3.93,\"8\":0.32,\"9\":1.86,\"10\":8.7,\"11\":1.23,\"12\":2.82,\"13\":1680},{\"0\":1,\"1\":13.64,\"2\":3.1,\"3\":2.56,\"4\":15.2,\"5\":116,\"6\":2.7,\"7\":3.03,\"8\":0.17,\"9\":1.66,\"10\":5.1,\"11\":0.96,\"12\":3.36,\"13\":845},{\"0\":1,\"1\":14.06,\"2\":1.63,\"3\":2.28,\"4\":16.0,\"5\":126,\"6\":3.0,\"7\":3.17,\"8\":0.24,\"9\":2.1,\"10\":5.65,\"11\":1.09,\"12\":3.71,\"13\":780},{\"0\":1,\"1\":12.93,\"2\":3.8,\"3\":2.65,\"4\":18.6,\"5\":102,\"6\":2.41,\"7\":2.41,\"8\":0.25,\"9\":1.98,\"10\":4.5,\"11\":1.03,\"12\":3.52,\"13\":770},{\"0\":1,\"1\":13.71,\"2\":1.86,\"3\":2.36,\"4\":16.6,\"5\":101,\"6\":2.61,\"7\":2.88,\"8\":0.27,\"9\":1.69,\"10\":3.8,\"11\":1.11,\"12\":4.0,\"13\":1035},{\"0\":1,\"1\":12.85,\"2\":1.6,\"3\":2.52,\"4\":17.8,\"5\":95,\"6\":2.48,\"7\":2.37,\"8\":0.26,\"9\":1.46,\"10\":3.93,\"11\":1.09,\"12\":3.63,\"13\":1015},{\"0\":1,\"1\":13.5,\"2\":1.81,\"3\":2.61,\"4\":20.0,\"5\":96,\"6\":2.53,\"7\":2.61,\"8\":0.28,\"9\":1.66,\"10\":3.52,\"11\":1.12,\"12\":3.82,\"13\":845},{\"0\":1,\"1\":13.05,\"2\":2.05,\"3\":3.22,\"4\":25.0,\"5\":124,\"6\":2.63,\"7\":2.68,\"8\":0.47,\"9\":1.92,\"10\":3.58,\"11\":1.13,\"12\":3.2,\"13\":830},{\"0\":1,\"1\":13.39,\"2\":1.77,\"3\":2.62,\"4\":16.1,\"5\":93,\"6\":2.85,\"7\":2.94,\"8\":0.34,\"9\":1.45,\"10\":4.8,\"11\":0.92,\"12\":3.22,\"13\":1195},{\"0\":1,\"1\":13.3,\"2\":1.72,\"3\":2.14,\"4\":17.0,\"5\":94,\"6\":2.4,\"7\":2.19,\"8\":0.27,\"9\":1.35,\"10\":3.95,\"11\":1.02,\"12\":2.77,\"13\":1285},{\"0\":1,\"1\":13.87,\"2\":1.9,\"3\":2.8,\"4\":19.4,\"5\":107,\"6\":2.95,\"7\":2.97,\"8\":0.37,\"9\":1.76,\"10\":4.5,\"11\":1.25,\"12\":3.4,\"13\":915},{\"0\":1,\"1\":14.02,\"2\":1.68,\"3\":2.21,\"4\":16.0,\"5\":96,\"6\":2.65,\"7\":2.33,\"8\":0.26,\"9\":1.98,\"10\":4.7,\"11\":1.04,\"12\":3.59,\"13\":1035},{\"0\":1,\"1\":13.73,\"2\":1.5,\"3\":2.7,\"4\":22.5,\"5\":101,\"6\":3.0,\"7\":3.25,\"8\":0.29,\"9\":2.38,\"10\":5.7,\"11\":1.19,\"12\":2.71,\"13\":1285},{\"0\":1,\"1\":13.58,\"2\":1.66,\"3\":2.36,\"4\":19.1,\"5\":106,\"6\":2.86,\"7\":3.19,\"8\":0.22,\"9\":1.95,\"10\":6.9,\"11\":1.09,\"12\":2.88,\"13\":1515},{\"0\":1,\"1\":13.68,\"2\":1.83,\"3\":2.36,\"4\":17.2,\"5\":104,\"6\":2.42,\"7\":2.69,\"8\":0.42,\"9\":1.97,\"10\":3.84,\"11\":1.23,\"12\":2.87,\"13\":990},{\"0\":1,\"1\":13.76,\"2\":1.53,\"3\":2.7,\"4\":19.5,\"5\":132,\"6\":2.95,\"7\":2.74,\"8\":0.5,\"9\":1.35,\"10\":5.4,\"11\":1.25,\"12\":3.0,\"13\":1235},{\"0\":1,\"1\":13.51,\"2\":1.8,\"3\":2.65,\"4\":19.0,\"5\":110,\"6\":2.35,\"7\":2.53,\"8\":0.29,\"9\":1.54,\"10\":4.2,\"11\":1.1,\"12\":2.87,\"13\":1095},{\"0\":1,\"1\":13.48,\"2\":1.81,\"3\":2.41,\"4\":20.5,\"5\":100,\"6\":2.7,\"7\":2.98,\"8\":0.26,\"9\":1.86,\"10\":5.1,\"11\":1.04,\"12\":3.47,\"13\":920},{\"0\":1,\"1\":13.28,\"2\":1.64,\"3\":2.84,\"4\":15.5,\"5\":110,\"6\":2.6,\"7\":2.68,\"8\":0.34,\"9\":1.36,\"10\":4.6,\"11\":1.09,\"12\":2.78,\"13\":880},{\"0\":1,\"1\":13.05,\"2\":1.65,\"3\":2.55,\"4\":18.0,\"5\":98,\"6\":2.45,\"7\":2.43,\"8\":0.29,\"9\":1.44,\"10\":4.25,\"11\":1.12,\"12\":2.51,\"13\":1105},{\"0\":1,\"1\":13.07,\"2\":1.5,\"3\":2.1,\"4\":15.5,\"5\":98,\"6\":2.4,\"7\":2.64,\"8\":0.28,\"9\":1.37,\"10\":3.7,\"11\":1.18,\"12\":2.69,\"13\":1020},{\"0\":1,\"1\":14.22,\"2\":3.99,\"3\":2.51,\"4\":13.2,\"5\":128,\"6\":3.0,\"7\":3.04,\"8\":0.2,\"9\":2.08,\"10\":5.1,\"11\":0.89,\"12\":3.53,\"13\":760},{\"0\":1,\"1\":13.56,\"2\":1.71,\"3\":2.31,\"4\":16.2,\"5\":117,\"6\":3.15,\"7\":3.29,\"8\":0.34,\"9\":2.34,\"10\":6.13,\"11\":0.95,\"12\":3.38,\"13\":795},{\"0\":1,\"1\":13.41,\"2\":3.84,\"3\":2.12,\"4\":18.8,\"5\":90,\"6\":2.45,\"7\":2.68,\"8\":0.27,\"9\":1.48,\"10\":4.28,\"11\":0.91,\"12\":3.0,\"13\":1035},{\"0\":1,\"1\":13.88,\"2\":1.89,\"3\":2.59,\"4\":15.0,\"5\":101,\"6\":3.25,\"7\":3.56,\"8\":0.17,\"9\":1.7,\"10\":5.43,\"11\":0.88,\"12\":3.56,\"13\":1095},{\"0\":1,\"1\":13.24,\"2\":3.98,\"3\":2.29,\"4\":17.5,\"5\":103,\"6\":2.64,\"7\":2.63,\"8\":0.32,\"9\":1.66,\"10\":4.36,\"11\":0.82,\"12\":3.0,\"13\":680},{\"0\":1,\"1\":13.05,\"2\":1.77,\"3\":2.1,\"4\":17.0,\"5\":107,\"6\":3.0,\"7\":3.0,\"8\":0.28,\"9\":2.03,\"10\":5.04,\"11\":0.88,\"12\":3.35,\"13\":885},{\"0\":1,\"1\":14.21,\"2\":4.04,\"3\":2.44,\"4\":18.9,\"5\":111,\"6\":2.85,\"7\":2.65,\"8\":0.3,\"9\":1.25,\"10\":5.24,\"11\":0.87,\"12\":3.33,\"13\":1080},{\"0\":1,\"1\":14.38,\"2\":3.59,\"3\":2.28,\"4\":16.0,\"5\":102,\"6\":3.25,\"7\":3.17,\"8\":0.27,\"9\":2.19,\"10\":4.9,\"11\":1.04,\"12\":3.44,\"13\":1065},{\"0\":1,\"1\":13.9,\"2\":1.68,\"3\":2.12,\"4\":16.0,\"5\":101,\"6\":3.1,\"7\":3.39,\"8\":0.21,\"9\":2.14,\"10\":6.1,\"11\":0.91,\"12\":3.33,\"13\":985},{\"0\":1,\"1\":14.1,\"2\":2.02,\"3\":2.4,\"4\":18.8,\"5\":103,\"6\":2.75,\"7\":2.92,\"8\":0.32,\"9\":2.38,\"10\":6.2,\"11\":1.07,\"12\":2.75,\"13\":1060},{\"0\":1,\"1\":13.94,\"2\":1.73,\"3\":2.27,\"4\":17.4,\"5\":108,\"6\":2.88,\"7\":3.54,\"8\":0.32,\"9\":2.08,\"10\":8.9,\"11\":1.12,\"12\":3.1,\"13\":1260},{\"0\":1,\"1\":13.05,\"2\":1.73,\"3\":2.04,\"4\":12.4,\"5\":92,\"6\":2.72,\"7\":3.27,\"8\":0.17,\"9\":2.91,\"10\":7.2,\"11\":1.12,\"12\":2.91,\"13\":1150},{\"0\":1,\"1\":13.83,\"2\":1.65,\"3\":2.6,\"4\":17.2,\"5\":94,\"6\":2.45,\"7\":2.99,\"8\":0.22,\"9\":2.29,\"10\":5.6,\"11\":1.24,\"12\":3.37,\"13\":1265},{\"0\":1,\"1\":13.82,\"2\":1.75,\"3\":2.42,\"4\":14.0,\"5\":111,\"6\":3.88,\"7\":3.74,\"8\":0.32,\"9\":1.87,\"10\":7.05,\"11\":1.01,\"12\":3.26,\"13\":1190},{\"0\":1,\"1\":13.77,\"2\":1.9,\"3\":2.68,\"4\":17.1,\"5\":115,\"6\":3.0,\"7\":2.79,\"8\":0.39,\"9\":1.68,\"10\":6.3,\"11\":1.13,\"12\":2.93,\"13\":1375},{\"0\":1,\"1\":13.74,\"2\":1.67,\"3\":2.25,\"4\":16.4,\"5\":118,\"6\":2.6,\"7\":2.9,\"8\":0.21,\"9\":1.62,\"10\":5.85,\"11\":0.92,\"12\":3.2,\"13\":1060},{\"0\":1,\"1\":13.56,\"2\":1.73,\"3\":2.46,\"4\":20.5,\"5\":116,\"6\":2.96,\"7\":2.78,\"8\":0.2,\"9\":2.45,\"10\":6.25,\"11\":0.98,\"12\":3.03,\"13\":1120},{\"0\":1,\"1\":14.22,\"2\":1.7,\"3\":2.3,\"4\":16.3,\"5\":118,\"6\":3.2,\"7\":3.0,\"8\":0.26,\"9\":2.03,\"10\":6.38,\"11\":0.94,\"12\":3.31,\"13\":970},{\"0\":1,\"1\":13.29,\"2\":1.97,\"3\":2.68,\"4\":16.8,\"5\":102,\"6\":3.0,\"7\":3.23,\"8\":0.31,\"9\":1.66,\"10\":6.0,\"11\":1.07,\"12\":2.84,\"13\":1270},{\"0\":1,\"1\":13.72,\"2\":1.43,\"3\":2.5,\"4\":16.7,\"5\":108,\"6\":3.4,\"7\":3.67,\"8\":0.19,\"9\":2.04,\"10\":6.8,\"11\":0.89,\"12\":2.87,\"13\":1285},{\"0\":2,\"1\":12.37,\"2\":0.94,\"3\":1.36,\"4\":10.6,\"5\":88,\"6\":1.98,\"7\":0.57,\"8\":0.28,\"9\":0.42,\"10\":1.95,\"11\":1.05,\"12\":1.82,\"13\":520},{\"0\":2,\"1\":12.33,\"2\":1.1,\"3\":2.28,\"4\":16.0,\"5\":101,\"6\":2.05,\"7\":1.09,\"8\":0.63,\"9\":0.41,\"10\":3.27,\"11\":1.25,\"12\":1.67,\"13\":680},{\"0\":2,\"1\":12.64,\"2\":1.36,\"3\":2.02,\"4\":16.8,\"5\":100,\"6\":2.02,\"7\":1.41,\"8\":0.53,\"9\":0.62,\"10\":5.75,\"11\":0.98,\"12\":1.59,\"13\":450},{\"0\":2,\"1\":13.67,\"2\":1.25,\"3\":1.92,\"4\":18.0,\"5\":94,\"6\":2.1,\"7\":1.79,\"8\":0.32,\"9\":0.73,\"10\":3.8,\"11\":1.23,\"12\":2.46,\"13\":630},{\"0\":2,\"1\":12.37,\"2\":1.13,\"3\":2.16,\"4\":19.0,\"5\":87,\"6\":3.5,\"7\":3.1,\"8\":0.19,\"9\":1.87,\"10\":4.45,\"11\":1.22,\"12\":2.87,\"13\":420},{\"0\":2,\"1\":12.17,\"2\":1.45,\"3\":2.53,\"4\":19.0,\"5\":104,\"6\":1.89,\"7\":1.75,\"8\":0.45,\"9\":1.03,\"10\":2.95,\"11\":1.45,\"12\":2.23,\"13\":355},{\"0\":2,\"1\":12.37,\"2\":1.21,\"3\":2.56,\"4\":18.1,\"5\":98,\"6\":2.42,\"7\":2.65,\"8\":0.37,\"9\":2.08,\"10\":4.6,\"11\":1.19,\"12\":2.3,\"13\":678},{\"0\":2,\"1\":13.11,\"2\":1.01,\"3\":1.7,\"4\":15.0,\"5\":78,\"6\":2.98,\"7\":3.18,\"8\":0.26,\"9\":2.28,\"10\":5.3,\"11\":1.12,\"12\":3.18,\"13\":502},{\"0\":2,\"1\":12.37,\"2\":1.17,\"3\":1.92,\"4\":19.6,\"5\":78,\"6\":2.11,\"7\":2.0,\"8\":0.27,\"9\":1.04,\"10\":4.68,\"11\":1.12,\"12\":3.48,\"13\":510},{\"0\":2,\"1\":13.34,\"2\":0.94,\"3\":2.36,\"4\":17.0,\"5\":110,\"6\":2.53,\"7\":1.3,\"8\":0.55,\"9\":0.42,\"10\":3.17,\"11\":1.02,\"12\":1.93,\"13\":750},{\"0\":2,\"1\":12.21,\"2\":1.19,\"3\":1.75,\"4\":16.8,\"5\":151,\"6\":1.85,\"7\":1.28,\"8\":0.14,\"9\":2.5,\"10\":2.85,\"11\":1.28,\"12\":3.07,\"13\":718},{\"0\":2,\"1\":12.29,\"2\":1.61,\"3\":2.21,\"4\":20.4,\"5\":103,\"6\":1.1,\"7\":1.02,\"8\":0.37,\"9\":1.46,\"10\":3.05,\"11\":0.906,\"12\":1.82,\"13\":870},{\"0\":2,\"1\":13.86,\"2\":1.51,\"3\":2.67,\"4\":25.0,\"5\":86,\"6\":2.95,\"7\":2.86,\"8\":0.21,\"9\":1.87,\"10\":3.38,\"11\":1.36,\"12\":3.16,\"13\":410},{\"0\":2,\"1\":13.49,\"2\":1.66,\"3\":2.24,\"4\":24.0,\"5\":87,\"6\":1.88,\"7\":1.84,\"8\":0.27,\"9\":1.03,\"10\":3.74,\"11\":0.98,\"12\":2.78,\"13\":472},{\"0\":2,\"1\":12.99,\"2\":1.67,\"3\":2.6,\"4\":30.0,\"5\":139,\"6\":3.3,\"7\":2.89,\"8\":0.21,\"9\":1.96,\"10\":3.35,\"11\":1.31,\"12\":3.5,\"13\":985},{\"0\":2,\"1\":11.96,\"2\":1.09,\"3\":2.3,\"4\":21.0,\"5\":101,\"6\":3.38,\"7\":2.14,\"8\":0.13,\"9\":1.65,\"10\":3.21,\"11\":0.99,\"12\":3.13,\"13\":886},{\"0\":2,\"1\":11.66,\"2\":1.88,\"3\":1.92,\"4\":16.0,\"5\":97,\"6\":1.61,\"7\":1.57,\"8\":0.34,\"9\":1.15,\"10\":3.8,\"11\":1.23,\"12\":2.14,\"13\":428},{\"0\":2,\"1\":13.03,\"2\":0.9,\"3\":1.71,\"4\":16.0,\"5\":86,\"6\":1.95,\"7\":2.03,\"8\":0.24,\"9\":1.46,\"10\":4.6,\"11\":1.19,\"12\":2.48,\"13\":392},{\"0\":2,\"1\":11.84,\"2\":2.89,\"3\":2.23,\"4\":18.0,\"5\":112,\"6\":1.72,\"7\":1.32,\"8\":0.43,\"9\":0.95,\"10\":2.65,\"11\":0.96,\"12\":2.52,\"13\":500},{\"0\":2,\"1\":12.33,\"2\":0.99,\"3\":1.95,\"4\":14.8,\"5\":136,\"6\":1.9,\"7\":1.85,\"8\":0.35,\"9\":2.76,\"10\":3.4,\"11\":1.06,\"12\":2.31,\"13\":750},{\"0\":2,\"1\":12.7,\"2\":3.87,\"3\":2.4,\"4\":23.0,\"5\":101,\"6\":2.83,\"7\":2.55,\"8\":0.43,\"9\":1.95,\"10\":2.57,\"11\":1.19,\"12\":3.13,\"13\":463},{\"0\":2,\"1\":12.0,\"2\":0.92,\"3\":2.0,\"4\":19.0,\"5\":86,\"6\":2.42,\"7\":2.26,\"8\":0.3,\"9\":1.43,\"10\":2.5,\"11\":1.38,\"12\":3.12,\"13\":278},{\"0\":2,\"1\":12.72,\"2\":1.81,\"3\":2.2,\"4\":18.8,\"5\":86,\"6\":2.2,\"7\":2.53,\"8\":0.26,\"9\":1.77,\"10\":3.9,\"11\":1.16,\"12\":3.14,\"13\":714},{\"0\":2,\"1\":12.08,\"2\":1.13,\"3\":2.51,\"4\":24.0,\"5\":78,\"6\":2.0,\"7\":1.58,\"8\":0.4,\"9\":1.4,\"10\":2.2,\"11\":1.31,\"12\":2.72,\"13\":630},{\"0\":2,\"1\":13.05,\"2\":3.86,\"3\":2.32,\"4\":22.5,\"5\":85,\"6\":1.65,\"7\":1.59,\"8\":0.61,\"9\":1.62,\"10\":4.8,\"11\":0.84,\"12\":2.01,\"13\":515},{\"0\":2,\"1\":11.84,\"2\":0.89,\"3\":2.58,\"4\":18.0,\"5\":94,\"6\":2.2,\"7\":2.21,\"8\":0.22,\"9\":2.35,\"10\":3.05,\"11\":0.79,\"12\":3.08,\"13\":520},{\"0\":2,\"1\":12.67,\"2\":0.98,\"3\":2.24,\"4\":18.0,\"5\":99,\"6\":2.2,\"7\":1.94,\"8\":0.3,\"9\":1.46,\"10\":2.62,\"11\":1.23,\"12\":3.16,\"13\":450},{\"0\":2,\"1\":12.16,\"2\":1.61,\"3\":2.31,\"4\":22.8,\"5\":90,\"6\":1.78,\"7\":1.69,\"8\":0.43,\"9\":1.56,\"10\":2.45,\"11\":1.33,\"12\":2.26,\"13\":495},{\"0\":2,\"1\":11.65,\"2\":1.67,\"3\":2.62,\"4\":26.0,\"5\":88,\"6\":1.92,\"7\":1.61,\"8\":0.4,\"9\":1.34,\"10\":2.6,\"11\":1.36,\"12\":3.21,\"13\":562},{\"0\":2,\"1\":11.64,\"2\":2.06,\"3\":2.46,\"4\":21.6,\"5\":84,\"6\":1.95,\"7\":1.69,\"8\":0.48,\"9\":1.35,\"10\":2.8,\"11\":1.0,\"12\":2.75,\"13\":680},{\"0\":2,\"1\":12.08,\"2\":1.33,\"3\":2.3,\"4\":23.6,\"5\":70,\"6\":2.2,\"7\":1.59,\"8\":0.42,\"9\":1.38,\"10\":1.74,\"11\":1.07,\"12\":3.21,\"13\":625},{\"0\":2,\"1\":12.08,\"2\":1.83,\"3\":2.32,\"4\":18.5,\"5\":81,\"6\":1.6,\"7\":1.5,\"8\":0.52,\"9\":1.64,\"10\":2.4,\"11\":1.08,\"12\":2.27,\"13\":480},{\"0\":2,\"1\":12.0,\"2\":1.51,\"3\":2.42,\"4\":22.0,\"5\":86,\"6\":1.45,\"7\":1.25,\"8\":0.5,\"9\":1.63,\"10\":3.6,\"11\":1.05,\"12\":2.65,\"13\":450},{\"0\":2,\"1\":12.69,\"2\":1.53,\"3\":2.26,\"4\":20.7,\"5\":80,\"6\":1.38,\"7\":1.46,\"8\":0.58,\"9\":1.62,\"10\":3.05,\"11\":0.96,\"12\":2.06,\"13\":495},{\"0\":2,\"1\":12.29,\"2\":2.83,\"3\":2.22,\"4\":18.0,\"5\":88,\"6\":2.45,\"7\":2.25,\"8\":0.25,\"9\":1.99,\"10\":2.15,\"11\":1.15,\"12\":3.3,\"13\":290},{\"0\":2,\"1\":11.62,\"2\":1.99,\"3\":2.28,\"4\":18.0,\"5\":98,\"6\":3.02,\"7\":2.26,\"8\":0.17,\"9\":1.35,\"10\":3.25,\"11\":1.16,\"12\":2.96,\"13\":345},{\"0\":2,\"1\":12.47,\"2\":1.52,\"3\":2.2,\"4\":19.0,\"5\":162,\"6\":2.5,\"7\":2.27,\"8\":0.32,\"9\":3.28,\"10\":2.6,\"11\":1.16,\"12\":2.63,\"13\":937},{\"0\":2,\"1\":11.81,\"2\":2.12,\"3\":2.74,\"4\":21.5,\"5\":134,\"6\":1.6,\"7\":0.99,\"8\":0.14,\"9\":1.56,\"10\":2.5,\"11\":0.95,\"12\":2.26,\"13\":625},{\"0\":2,\"1\":12.29,\"2\":1.41,\"3\":1.98,\"4\":16.0,\"5\":85,\"6\":2.55,\"7\":2.5,\"8\":0.29,\"9\":1.77,\"10\":2.9,\"11\":1.23,\"12\":2.74,\"13\":428},{\"0\":2,\"1\":12.37,\"2\":1.07,\"3\":2.1,\"4\":18.5,\"5\":88,\"6\":3.52,\"7\":3.75,\"8\":0.24,\"9\":1.95,\"10\":4.5,\"11\":1.04,\"12\":2.77,\"13\":660},{\"0\":2,\"1\":12.29,\"2\":3.17,\"3\":2.21,\"4\":18.0,\"5\":88,\"6\":2.85,\"7\":2.99,\"8\":0.45,\"9\":2.81,\"10\":2.3,\"11\":1.42,\"12\":2.83,\"13\":406},{\"0\":2,\"1\":12.08,\"2\":2.08,\"3\":1.7,\"4\":17.5,\"5\":97,\"6\":2.23,\"7\":2.17,\"8\":0.26,\"9\":1.4,\"10\":3.3,\"11\":1.27,\"12\":2.96,\"13\":710},{\"0\":2,\"1\":12.6,\"2\":1.34,\"3\":1.9,\"4\":18.5,\"5\":88,\"6\":1.45,\"7\":1.36,\"8\":0.29,\"9\":1.35,\"10\":2.45,\"11\":1.04,\"12\":2.77,\"13\":562},{\"0\":2,\"1\":12.34,\"2\":2.45,\"3\":2.46,\"4\":21.0,\"5\":98,\"6\":2.56,\"7\":2.11,\"8\":0.34,\"9\":1.31,\"10\":2.8,\"11\":0.8,\"12\":3.38,\"13\":438},{\"0\":2,\"1\":11.82,\"2\":1.72,\"3\":1.88,\"4\":19.5,\"5\":86,\"6\":2.5,\"7\":1.64,\"8\":0.37,\"9\":1.42,\"10\":2.06,\"11\":0.94,\"12\":2.44,\"13\":415},{\"0\":2,\"1\":12.51,\"2\":1.73,\"3\":1.98,\"4\":20.5,\"5\":85,\"6\":2.2,\"7\":1.92,\"8\":0.32,\"9\":1.48,\"10\":2.94,\"11\":1.04,\"12\":3.57,\"13\":672},{\"0\":2,\"1\":12.42,\"2\":2.55,\"3\":2.27,\"4\":22.0,\"5\":90,\"6\":1.68,\"7\":1.84,\"8\":0.66,\"9\":1.42,\"10\":2.7,\"11\":0.86,\"12\":3.3,\"13\":315},{\"0\":2,\"1\":12.25,\"2\":1.73,\"3\":2.12,\"4\":19.0,\"5\":80,\"6\":1.65,\"7\":2.03,\"8\":0.37,\"9\":1.63,\"10\":3.4,\"11\":1.0,\"12\":3.17,\"13\":510},{\"0\":2,\"1\":12.72,\"2\":1.75,\"3\":2.28,\"4\":22.5,\"5\":84,\"6\":1.38,\"7\":1.76,\"8\":0.48,\"9\":1.63,\"10\":3.3,\"11\":0.88,\"12\":2.42,\"13\":488},{\"0\":2,\"1\":12.22,\"2\":1.29,\"3\":1.94,\"4\":19.0,\"5\":92,\"6\":2.36,\"7\":2.04,\"8\":0.39,\"9\":2.08,\"10\":2.7,\"11\":0.86,\"12\":3.02,\"13\":312},{\"0\":2,\"1\":11.61,\"2\":1.35,\"3\":2.7,\"4\":20.0,\"5\":94,\"6\":2.74,\"7\":2.92,\"8\":0.29,\"9\":2.49,\"10\":2.65,\"11\":0.96,\"12\":3.26,\"13\":680},{\"0\":2,\"1\":11.46,\"2\":3.74,\"3\":1.82,\"4\":19.5,\"5\":107,\"6\":3.18,\"7\":2.58,\"8\":0.24,\"9\":3.58,\"10\":2.9,\"11\":0.75,\"12\":2.81,\"13\":562},{\"0\":2,\"1\":12.52,\"2\":2.43,\"3\":2.17,\"4\":21.0,\"5\":88,\"6\":2.55,\"7\":2.27,\"8\":0.26,\"9\":1.22,\"10\":2.0,\"11\":0.9,\"12\":2.78,\"13\":325},{\"0\":2,\"1\":11.76,\"2\":2.68,\"3\":2.92,\"4\":20.0,\"5\":103,\"6\":1.75,\"7\":2.03,\"8\":0.6,\"9\":1.05,\"10\":3.8,\"11\":1.23,\"12\":2.5,\"13\":607},{\"0\":2,\"1\":11.41,\"2\":0.74,\"3\":2.5,\"4\":21.0,\"5\":88,\"6\":2.48,\"7\":2.01,\"8\":0.42,\"9\":1.44,\"10\":3.08,\"11\":1.1,\"12\":2.31,\"13\":434},{\"0\":2,\"1\":12.08,\"2\":1.39,\"3\":2.5,\"4\":22.5,\"5\":84,\"6\":2.56,\"7\":2.29,\"8\":0.43,\"9\":1.04,\"10\":2.9,\"11\":0.93,\"12\":3.19,\"13\":385},{\"0\":2,\"1\":11.03,\"2\":1.51,\"3\":2.2,\"4\":21.5,\"5\":85,\"6\":2.46,\"7\":2.17,\"8\":0.52,\"9\":2.01,\"10\":1.9,\"11\":1.71,\"12\":2.87,\"13\":407},{\"0\":2,\"1\":11.82,\"2\":1.47,\"3\":1.99,\"4\":20.8,\"5\":86,\"6\":1.98,\"7\":1.6,\"8\":0.3,\"9\":1.53,\"10\":1.95,\"11\":0.95,\"12\":3.33,\"13\":495},{\"0\":2,\"1\":12.42,\"2\":1.61,\"3\":2.19,\"4\":22.5,\"5\":108,\"6\":2.0,\"7\":2.09,\"8\":0.34,\"9\":1.61,\"10\":2.06,\"11\":1.06,\"12\":2.96,\"13\":345},{\"0\":2,\"1\":12.77,\"2\":3.43,\"3\":1.98,\"4\":16.0,\"5\":80,\"6\":1.63,\"7\":1.25,\"8\":0.43,\"9\":0.83,\"10\":3.4,\"11\":0.7,\"12\":2.12,\"13\":372},{\"0\":2,\"1\":12.0,\"2\":3.43,\"3\":2.0,\"4\":19.0,\"5\":87,\"6\":2.0,\"7\":1.64,\"8\":0.37,\"9\":1.87,\"10\":1.28,\"11\":0.93,\"12\":3.05,\"13\":564},{\"0\":2,\"1\":11.45,\"2\":2.4,\"3\":2.42,\"4\":20.0,\"5\":96,\"6\":2.9,\"7\":2.79,\"8\":0.32,\"9\":1.83,\"10\":3.25,\"11\":0.8,\"12\":3.39,\"13\":625},{\"0\":2,\"1\":11.56,\"2\":2.05,\"3\":3.23,\"4\":28.5,\"5\":119,\"6\":3.18,\"7\":5.08,\"8\":0.47,\"9\":1.87,\"10\":6.0,\"11\":0.93,\"12\":3.69,\"13\":465},{\"0\":2,\"1\":12.42,\"2\":4.43,\"3\":2.73,\"4\":26.5,\"5\":102,\"6\":2.2,\"7\":2.13,\"8\":0.43,\"9\":1.71,\"10\":2.08,\"11\":0.92,\"12\":3.12,\"13\":365},{\"0\":2,\"1\":13.05,\"2\":5.8,\"3\":2.13,\"4\":21.5,\"5\":86,\"6\":2.62,\"7\":2.65,\"8\":0.3,\"9\":2.01,\"10\":2.6,\"11\":0.73,\"12\":3.1,\"13\":380},{\"0\":2,\"1\":11.87,\"2\":4.31,\"3\":2.39,\"4\":21.0,\"5\":82,\"6\":2.86,\"7\":3.03,\"8\":0.21,\"9\":2.91,\"10\":2.8,\"11\":0.75,\"12\":3.64,\"13\":380},{\"0\":2,\"1\":12.07,\"2\":2.16,\"3\":2.17,\"4\":21.0,\"5\":85,\"6\":2.6,\"7\":2.65,\"8\":0.37,\"9\":1.35,\"10\":2.76,\"11\":0.86,\"12\":3.28,\"13\":378},{\"0\":2,\"1\":12.43,\"2\":1.53,\"3\":2.29,\"4\":21.5,\"5\":86,\"6\":2.74,\"7\":3.15,\"8\":0.39,\"9\":1.77,\"10\":3.94,\"11\":0.69,\"12\":2.84,\"13\":352},{\"0\":2,\"1\":11.79,\"2\":2.13,\"3\":2.78,\"4\":28.5,\"5\":92,\"6\":2.13,\"7\":2.24,\"8\":0.58,\"9\":1.76,\"10\":3.0,\"11\":0.97,\"12\":2.44,\"13\":466},{\"0\":2,\"1\":12.37,\"2\":1.63,\"3\":2.3,\"4\":24.5,\"5\":88,\"6\":2.22,\"7\":2.45,\"8\":0.4,\"9\":1.9,\"10\":2.12,\"11\":0.89,\"12\":2.78,\"13\":342},{\"0\":2,\"1\":12.04,\"2\":4.3,\"3\":2.38,\"4\":22.0,\"5\":80,\"6\":2.1,\"7\":1.75,\"8\":0.42,\"9\":1.35,\"10\":2.6,\"11\":0.79,\"12\":2.57,\"13\":580},{\"0\":3,\"1\":12.86,\"2\":1.35,\"3\":2.32,\"4\":18.0,\"5\":122,\"6\":1.51,\"7\":1.25,\"8\":0.21,\"9\":0.94,\"10\":4.1,\"11\":0.76,\"12\":1.29,\"13\":630},{\"0\":3,\"1\":12.88,\"2\":2.99,\"3\":2.4,\"4\":20.0,\"5\":104,\"6\":1.3,\"7\":1.22,\"8\":0.24,\"9\":0.83,\"10\":5.4,\"11\":0.74,\"12\":1.42,\"13\":530},{\"0\":3,\"1\":12.81,\"2\":2.31,\"3\":2.4,\"4\":24.0,\"5\":98,\"6\":1.15,\"7\":1.09,\"8\":0.27,\"9\":0.83,\"10\":5.7,\"11\":0.66,\"12\":1.36,\"13\":560},{\"0\":3,\"1\":12.7,\"2\":3.55,\"3\":2.36,\"4\":21.5,\"5\":106,\"6\":1.7,\"7\":1.2,\"8\":0.17,\"9\":0.84,\"10\":5.0,\"11\":0.78,\"12\":1.29,\"13\":600},{\"0\":3,\"1\":12.51,\"2\":1.24,\"3\":2.25,\"4\":17.5,\"5\":85,\"6\":2.0,\"7\":0.58,\"8\":0.6,\"9\":1.25,\"10\":5.45,\"11\":0.75,\"12\":1.51,\"13\":650},{\"0\":3,\"1\":12.6,\"2\":2.46,\"3\":2.2,\"4\":18.5,\"5\":94,\"6\":1.62,\"7\":0.66,\"8\":0.63,\"9\":0.94,\"10\":7.1,\"11\":0.73,\"12\":1.58,\"13\":695},{\"0\":3,\"1\":12.25,\"2\":4.72,\"3\":2.54,\"4\":21.0,\"5\":89,\"6\":1.38,\"7\":0.47,\"8\":0.53,\"9\":0.8,\"10\":3.85,\"11\":0.75,\"12\":1.27,\"13\":720},{\"0\":3,\"1\":12.53,\"2\":5.51,\"3\":2.64,\"4\":25.0,\"5\":96,\"6\":1.79,\"7\":0.6,\"8\":0.63,\"9\":1.1,\"10\":5.0,\"11\":0.82,\"12\":1.69,\"13\":515},{\"0\":3,\"1\":13.49,\"2\":3.59,\"3\":2.19,\"4\":19.5,\"5\":88,\"6\":1.62,\"7\":0.48,\"8\":0.58,\"9\":0.88,\"10\":5.7,\"11\":0.81,\"12\":1.82,\"13\":580},{\"0\":3,\"1\":12.84,\"2\":2.96,\"3\":2.61,\"4\":24.0,\"5\":101,\"6\":2.32,\"7\":0.6,\"8\":0.53,\"9\":0.81,\"10\":4.92,\"11\":0.89,\"12\":2.15,\"13\":590},{\"0\":3,\"1\":12.93,\"2\":2.81,\"3\":2.7,\"4\":21.0,\"5\":96,\"6\":1.54,\"7\":0.5,\"8\":0.53,\"9\":0.75,\"10\":4.6,\"11\":0.77,\"12\":2.31,\"13\":600},{\"0\":3,\"1\":13.36,\"2\":2.56,\"3\":2.35,\"4\":20.0,\"5\":89,\"6\":1.4,\"7\":0.5,\"8\":0.37,\"9\":0.64,\"10\":5.6,\"11\":0.7,\"12\":2.47,\"13\":780},{\"0\":3,\"1\":13.52,\"2\":3.17,\"3\":2.72,\"4\":23.5,\"5\":97,\"6\":1.55,\"7\":0.52,\"8\":0.5,\"9\":0.55,\"10\":4.35,\"11\":0.89,\"12\":2.06,\"13\":520},{\"0\":3,\"1\":13.62,\"2\":4.95,\"3\":2.35,\"4\":20.0,\"5\":92,\"6\":2.0,\"7\":0.8,\"8\":0.47,\"9\":1.02,\"10\":4.4,\"11\":0.91,\"12\":2.05,\"13\":550},{\"0\":3,\"1\":12.25,\"2\":3.88,\"3\":2.2,\"4\":18.5,\"5\":112,\"6\":1.38,\"7\":0.78,\"8\":0.29,\"9\":1.14,\"10\":8.21,\"11\":0.65,\"12\":2.0,\"13\":855},{\"0\":3,\"1\":13.16,\"2\":3.57,\"3\":2.15,\"4\":21.0,\"5\":102,\"6\":1.5,\"7\":0.55,\"8\":0.43,\"9\":1.3,\"10\":4.0,\"11\":0.6,\"12\":1.68,\"13\":830},{\"0\":3,\"1\":13.88,\"2\":5.04,\"3\":2.23,\"4\":20.0,\"5\":80,\"6\":0.98,\"7\":0.34,\"8\":0.4,\"9\":0.68,\"10\":4.9,\"11\":0.58,\"12\":1.33,\"13\":415},{\"0\":3,\"1\":12.87,\"2\":4.61,\"3\":2.48,\"4\":21.5,\"5\":86,\"6\":1.7,\"7\":0.65,\"8\":0.47,\"9\":0.86,\"10\":7.65,\"11\":0.54,\"12\":1.86,\"13\":625},{\"0\":3,\"1\":13.32,\"2\":3.24,\"3\":2.38,\"4\":21.5,\"5\":92,\"6\":1.93,\"7\":0.76,\"8\":0.45,\"9\":1.25,\"10\":8.42,\"11\":0.55,\"12\":1.62,\"13\":650},{\"0\":3,\"1\":13.08,\"2\":3.9,\"3\":2.36,\"4\":21.5,\"5\":113,\"6\":1.41,\"7\":1.39,\"8\":0.34,\"9\":1.14,\"10\":9.4,\"11\":0.57,\"12\":1.33,\"13\":550},{\"0\":3,\"1\":13.5,\"2\":3.12,\"3\":2.62,\"4\":24.0,\"5\":123,\"6\":1.4,\"7\":1.57,\"8\":0.22,\"9\":1.25,\"10\":8.6,\"11\":0.59,\"12\":1.3,\"13\":500},{\"0\":3,\"1\":12.79,\"2\":2.67,\"3\":2.48,\"4\":22.0,\"5\":112,\"6\":1.48,\"7\":1.36,\"8\":0.24,\"9\":1.26,\"10\":10.8,\"11\":0.48,\"12\":1.47,\"13\":480},{\"0\":3,\"1\":13.11,\"2\":1.9,\"3\":2.75,\"4\":25.5,\"5\":116,\"6\":2.2,\"7\":1.28,\"8\":0.26,\"9\":1.56,\"10\":7.1,\"11\":0.61,\"12\":1.33,\"13\":425},{\"0\":3,\"1\":13.23,\"2\":3.3,\"3\":2.28,\"4\":18.5,\"5\":98,\"6\":1.8,\"7\":0.83,\"8\":0.61,\"9\":1.87,\"10\":10.52,\"11\":0.56,\"12\":1.51,\"13\":675},{\"0\":3,\"1\":12.58,\"2\":1.29,\"3\":2.1,\"4\":20.0,\"5\":103,\"6\":1.48,\"7\":0.58,\"8\":0.53,\"9\":1.4,\"10\":7.6,\"11\":0.58,\"12\":1.55,\"13\":640},{\"0\":3,\"1\":13.17,\"2\":5.19,\"3\":2.32,\"4\":22.0,\"5\":93,\"6\":1.74,\"7\":0.63,\"8\":0.61,\"9\":1.55,\"10\":7.9,\"11\":0.6,\"12\":1.48,\"13\":725},{\"0\":3,\"1\":13.84,\"2\":4.12,\"3\":2.38,\"4\":19.5,\"5\":89,\"6\":1.8,\"7\":0.83,\"8\":0.48,\"9\":1.56,\"10\":9.01,\"11\":0.57,\"12\":1.64,\"13\":480},{\"0\":3,\"1\":12.45,\"2\":3.03,\"3\":2.64,\"4\":27.0,\"5\":97,\"6\":1.9,\"7\":0.58,\"8\":0.63,\"9\":1.14,\"10\":7.5,\"11\":0.67,\"12\":1.73,\"13\":880},{\"0\":3,\"1\":14.34,\"2\":1.68,\"3\":2.7,\"4\":25.0,\"5\":98,\"6\":2.8,\"7\":1.31,\"8\":0.53,\"9\":2.7,\"10\":13.0,\"11\":0.57,\"12\":1.96,\"13\":660},{\"0\":3,\"1\":13.48,\"2\":1.67,\"3\":2.64,\"4\":22.5,\"5\":89,\"6\":2.6,\"7\":1.1,\"8\":0.52,\"9\":2.29,\"10\":11.75,\"11\":0.57,\"12\":1.78,\"13\":620},{\"0\":3,\"1\":12.36,\"2\":3.83,\"3\":2.38,\"4\":21.0,\"5\":88,\"6\":2.3,\"7\":0.92,\"8\":0.5,\"9\":1.04,\"10\":7.65,\"11\":0.56,\"12\":1.58,\"13\":520},{\"0\":3,\"1\":13.69,\"2\":3.26,\"3\":2.54,\"4\":20.0,\"5\":107,\"6\":1.83,\"7\":0.56,\"8\":0.5,\"9\":0.8,\"10\":5.88,\"11\":0.96,\"12\":1.82,\"13\":680},{\"0\":3,\"1\":12.85,\"2\":3.27,\"3\":2.58,\"4\":22.0,\"5\":106,\"6\":1.65,\"7\":0.6,\"8\":0.6,\"9\":0.96,\"10\":5.58,\"11\":0.87,\"12\":2.11,\"13\":570},{\"0\":3,\"1\":12.96,\"2\":3.45,\"3\":2.35,\"4\":18.5,\"5\":106,\"6\":1.39,\"7\":0.7,\"8\":0.4,\"9\":0.94,\"10\":5.28,\"11\":0.68,\"12\":1.75,\"13\":675},{\"0\":3,\"1\":13.78,\"2\":2.76,\"3\":2.3,\"4\":22.0,\"5\":90,\"6\":1.35,\"7\":0.68,\"8\":0.41,\"9\":1.03,\"10\":9.58,\"11\":0.7,\"12\":1.68,\"13\":615},{\"0\":3,\"1\":13.73,\"2\":4.36,\"3\":2.26,\"4\":22.5,\"5\":88,\"6\":1.28,\"7\":0.47,\"8\":0.52,\"9\":1.15,\"10\":6.62,\"11\":0.78,\"12\":1.75,\"13\":520},{\"0\":3,\"1\":13.45,\"2\":3.7,\"3\":2.6,\"4\":23.0,\"5\":111,\"6\":1.7,\"7\":0.92,\"8\":0.43,\"9\":1.46,\"10\":10.68,\"11\":0.85,\"12\":1.56,\"13\":695},{\"0\":3,\"1\":12.82,\"2\":3.37,\"3\":2.3,\"4\":19.5,\"5\":88,\"6\":1.48,\"7\":0.66,\"8\":0.4,\"9\":0.97,\"10\":10.26,\"11\":0.72,\"12\":1.75,\"13\":685},{\"0\":3,\"1\":13.58,\"2\":2.58,\"3\":2.69,\"4\":24.5,\"5\":105,\"6\":1.55,\"7\":0.84,\"8\":0.39,\"9\":1.54,\"10\":8.66,\"11\":0.74,\"12\":1.8,\"13\":750},{\"0\":3,\"1\":13.4,\"2\":4.6,\"3\":2.86,\"4\":25.0,\"5\":112,\"6\":1.98,\"7\":0.96,\"8\":0.27,\"9\":1.11,\"10\":8.5,\"11\":0.67,\"12\":1.92,\"13\":630},{\"0\":3,\"1\":12.2,\"2\":3.03,\"3\":2.32,\"4\":19.0,\"5\":96,\"6\":1.25,\"7\":0.49,\"8\":0.4,\"9\":0.73,\"10\":5.5,\"11\":0.66,\"12\":1.83,\"13\":510},{\"0\":3,\"1\":12.77,\"2\":2.39,\"3\":2.28,\"4\":19.5,\"5\":86,\"6\":1.39,\"7\":0.51,\"8\":0.48,\"9\":0.64,\"10\":9.899999,\"11\":0.57,\"12\":1.63,\"13\":470},{\"0\":3,\"1\":14.16,\"2\":2.51,\"3\":2.48,\"4\":20.0,\"5\":91,\"6\":1.68,\"7\":0.7,\"8\":0.44,\"9\":1.24,\"10\":9.7,\"11\":0.62,\"12\":1.71,\"13\":660},{\"0\":3,\"1\":13.71,\"2\":5.65,\"3\":2.45,\"4\":20.5,\"5\":95,\"6\":1.68,\"7\":0.61,\"8\":0.52,\"9\":1.06,\"10\":7.7,\"11\":0.64,\"12\":1.74,\"13\":740},{\"0\":3,\"1\":13.4,\"2\":3.91,\"3\":2.48,\"4\":23.0,\"5\":102,\"6\":1.8,\"7\":0.75,\"8\":0.43,\"9\":1.41,\"10\":7.3,\"11\":0.7,\"12\":1.56,\"13\":750},{\"0\":3,\"1\":13.27,\"2\":4.28,\"3\":2.26,\"4\":20.0,\"5\":120,\"6\":1.59,\"7\":0.69,\"8\":0.43,\"9\":1.35,\"10\":10.2,\"11\":0.59,\"12\":1.56,\"13\":835},{\"0\":3,\"1\":13.17,\"2\":2.59,\"3\":2.37,\"4\":20.0,\"5\":120,\"6\":1.65,\"7\":0.68,\"8\":0.53,\"9\":1.46,\"10\":9.3,\"11\":0.6,\"12\":1.62,\"13\":840},{\"0\":3,\"1\":14.13,\"2\":4.1,\"3\":2.74,\"4\":24.5,\"5\":96,\"6\":2.05,\"7\":0.76,\"8\":0.56,\"9\":1.35,\"10\":9.2,\"11\":0.61,\"12\":1.6,\"13\":560}]'"
      ]
     },
     "execution_count": 136,
     "metadata": {},
     "output_type": "execute_result"
    }
   ],
   "source": [
    "df.to_json(orient=\"records\")"
   ]
  },
  {
   "cell_type": "markdown",
   "id": "1fdd8f7b",
   "metadata": {},
   "source": [
    "## Reading HTML content"
   ]
  },
  {
   "cell_type": "code",
   "execution_count": 137,
   "id": "8682aa0d",
   "metadata": {},
   "outputs": [],
   "source": [
    "url = 'https://www.fdic.gov/bank/individual/failed/banklist.html'\n",
    "\n",
    "dfs = pd.read_html(url)"
   ]
  },
  {
   "cell_type": "code",
   "execution_count": 138,
   "id": "056a7c35",
   "metadata": {},
   "outputs": [
    {
     "data": {
      "text/html": [
       "<div>\n",
       "<style scoped>\n",
       "    .dataframe tbody tr th:only-of-type {\n",
       "        vertical-align: middle;\n",
       "    }\n",
       "\n",
       "    .dataframe tbody tr th {\n",
       "        vertical-align: top;\n",
       "    }\n",
       "\n",
       "    .dataframe thead th {\n",
       "        text-align: right;\n",
       "    }\n",
       "</style>\n",
       "<table border=\"1\" class=\"dataframe\">\n",
       "  <thead>\n",
       "    <tr style=\"text-align: right;\">\n",
       "      <th></th>\n",
       "      <th>Bank Name</th>\n",
       "      <th>City</th>\n",
       "      <th>State</th>\n",
       "      <th>Cert</th>\n",
       "      <th>Acquiring Institution</th>\n",
       "      <th>Closing Date</th>\n",
       "      <th>Fund  Sort ascending</th>\n",
       "    </tr>\n",
       "  </thead>\n",
       "  <tbody>\n",
       "    <tr>\n",
       "      <th>0</th>\n",
       "      <td>The Santa Anna National Bank</td>\n",
       "      <td>Santa Anna</td>\n",
       "      <td>Texas</td>\n",
       "      <td>5520</td>\n",
       "      <td>Coleman County State Bank</td>\n",
       "      <td>June 27, 2025</td>\n",
       "      <td>10549</td>\n",
       "    </tr>\n",
       "    <tr>\n",
       "      <th>1</th>\n",
       "      <td>Pulaski Savings Bank</td>\n",
       "      <td>Chicago</td>\n",
       "      <td>Illinois</td>\n",
       "      <td>28611</td>\n",
       "      <td>Millennium Bank</td>\n",
       "      <td>January 17, 2025</td>\n",
       "      <td>10548</td>\n",
       "    </tr>\n",
       "    <tr>\n",
       "      <th>2</th>\n",
       "      <td>The First National Bank of Lindsay</td>\n",
       "      <td>Lindsay</td>\n",
       "      <td>Oklahoma</td>\n",
       "      <td>4134</td>\n",
       "      <td>First Bank &amp; Trust Co.</td>\n",
       "      <td>October 18, 2024</td>\n",
       "      <td>10547</td>\n",
       "    </tr>\n",
       "    <tr>\n",
       "      <th>3</th>\n",
       "      <td>Republic First Bank dba Republic Bank</td>\n",
       "      <td>Philadelphia</td>\n",
       "      <td>Pennsylvania</td>\n",
       "      <td>27332</td>\n",
       "      <td>Fulton Bank, National Association</td>\n",
       "      <td>April 26, 2024</td>\n",
       "      <td>10546</td>\n",
       "    </tr>\n",
       "    <tr>\n",
       "      <th>4</th>\n",
       "      <td>Citizens Bank</td>\n",
       "      <td>Sac City</td>\n",
       "      <td>Iowa</td>\n",
       "      <td>8758</td>\n",
       "      <td>Iowa Trust &amp; Savings Bank</td>\n",
       "      <td>November 3, 2023</td>\n",
       "      <td>10545</td>\n",
       "    </tr>\n",
       "    <tr>\n",
       "      <th>5</th>\n",
       "      <td>Heartland Tri-State Bank</td>\n",
       "      <td>Elkhart</td>\n",
       "      <td>Kansas</td>\n",
       "      <td>25851</td>\n",
       "      <td>Dream First Bank, N.A.</td>\n",
       "      <td>July 28, 2023</td>\n",
       "      <td>10544</td>\n",
       "    </tr>\n",
       "    <tr>\n",
       "      <th>6</th>\n",
       "      <td>First Republic Bank</td>\n",
       "      <td>San Francisco</td>\n",
       "      <td>California</td>\n",
       "      <td>59017</td>\n",
       "      <td>JPMorgan Chase Bank, N.A.</td>\n",
       "      <td>May 1, 2023</td>\n",
       "      <td>10543</td>\n",
       "    </tr>\n",
       "    <tr>\n",
       "      <th>7</th>\n",
       "      <td>Signature Bank</td>\n",
       "      <td>New York</td>\n",
       "      <td>New York</td>\n",
       "      <td>57053</td>\n",
       "      <td>Flagstar Bank, N.A.</td>\n",
       "      <td>March 12, 2023</td>\n",
       "      <td>10540</td>\n",
       "    </tr>\n",
       "    <tr>\n",
       "      <th>8</th>\n",
       "      <td>Silicon Valley Bank</td>\n",
       "      <td>Santa Clara</td>\n",
       "      <td>California</td>\n",
       "      <td>24735</td>\n",
       "      <td>First Citizens Bank &amp; Trust Company</td>\n",
       "      <td>March 10, 2023</td>\n",
       "      <td>10539</td>\n",
       "    </tr>\n",
       "    <tr>\n",
       "      <th>9</th>\n",
       "      <td>Almena State Bank</td>\n",
       "      <td>Almena</td>\n",
       "      <td>Kansas</td>\n",
       "      <td>15426</td>\n",
       "      <td>Equity Bank</td>\n",
       "      <td>October 23, 2020</td>\n",
       "      <td>10538</td>\n",
       "    </tr>\n",
       "    <tr>\n",
       "      <th>10</th>\n",
       "      <td>First City Bank of Florida</td>\n",
       "      <td>Fort Walton Beach</td>\n",
       "      <td>Florida</td>\n",
       "      <td>16748</td>\n",
       "      <td>United Fidelity Bank, fsb</td>\n",
       "      <td>October 16, 2020</td>\n",
       "      <td>10537</td>\n",
       "    </tr>\n",
       "    <tr>\n",
       "      <th>11</th>\n",
       "      <td>The First State Bank</td>\n",
       "      <td>Barboursville</td>\n",
       "      <td>West Virginia</td>\n",
       "      <td>14361</td>\n",
       "      <td>MVB Bank, Inc.</td>\n",
       "      <td>April 3, 2020</td>\n",
       "      <td>10536</td>\n",
       "    </tr>\n",
       "    <tr>\n",
       "      <th>12</th>\n",
       "      <td>Ericson State Bank</td>\n",
       "      <td>Ericson</td>\n",
       "      <td>Nebraska</td>\n",
       "      <td>18265</td>\n",
       "      <td>Farmers and Merchants Bank</td>\n",
       "      <td>February 14, 2020</td>\n",
       "      <td>10535</td>\n",
       "    </tr>\n",
       "    <tr>\n",
       "      <th>13</th>\n",
       "      <td>City National Bank of New Jersey</td>\n",
       "      <td>Newark</td>\n",
       "      <td>New Jersey</td>\n",
       "      <td>21111</td>\n",
       "      <td>Industrial Bank</td>\n",
       "      <td>November 1, 2019</td>\n",
       "      <td>10534</td>\n",
       "    </tr>\n",
       "    <tr>\n",
       "      <th>14</th>\n",
       "      <td>Resolute Bank</td>\n",
       "      <td>Maumee</td>\n",
       "      <td>Ohio</td>\n",
       "      <td>58317</td>\n",
       "      <td>Buckeye State Bank</td>\n",
       "      <td>October 25, 2019</td>\n",
       "      <td>10533</td>\n",
       "    </tr>\n",
       "    <tr>\n",
       "      <th>15</th>\n",
       "      <td>Louisa Community Bank</td>\n",
       "      <td>Louisa</td>\n",
       "      <td>Kentucky</td>\n",
       "      <td>58112</td>\n",
       "      <td>Kentucky Farmers Bank Corporation</td>\n",
       "      <td>October 25, 2019</td>\n",
       "      <td>10532</td>\n",
       "    </tr>\n",
       "    <tr>\n",
       "      <th>16</th>\n",
       "      <td>The Enloe State Bank</td>\n",
       "      <td>Cooper</td>\n",
       "      <td>Texas</td>\n",
       "      <td>10716</td>\n",
       "      <td>Legend Bank, N. A.</td>\n",
       "      <td>May 31, 2019</td>\n",
       "      <td>10531</td>\n",
       "    </tr>\n",
       "    <tr>\n",
       "      <th>17</th>\n",
       "      <td>Washington Federal Bank for Savings</td>\n",
       "      <td>Chicago</td>\n",
       "      <td>Illinois</td>\n",
       "      <td>30570</td>\n",
       "      <td>Royal Savings Bank</td>\n",
       "      <td>December 15, 2017</td>\n",
       "      <td>10530</td>\n",
       "    </tr>\n",
       "    <tr>\n",
       "      <th>18</th>\n",
       "      <td>The Farmers and Merchants State Bank of Argonia</td>\n",
       "      <td>Argonia</td>\n",
       "      <td>Kansas</td>\n",
       "      <td>17719</td>\n",
       "      <td>Conway Bank</td>\n",
       "      <td>October 13, 2017</td>\n",
       "      <td>10529</td>\n",
       "    </tr>\n",
       "    <tr>\n",
       "      <th>19</th>\n",
       "      <td>Fayette County Bank</td>\n",
       "      <td>Saint Elmo</td>\n",
       "      <td>Illinois</td>\n",
       "      <td>1802</td>\n",
       "      <td>United Fidelity Bank, fsb</td>\n",
       "      <td>May 26, 2017</td>\n",
       "      <td>10528</td>\n",
       "    </tr>\n",
       "    <tr>\n",
       "      <th>20</th>\n",
       "      <td>Guaranty Bank, (d/b/a BestBank in Georgia &amp; Mi...</td>\n",
       "      <td>Milwaukee</td>\n",
       "      <td>Wisconsin</td>\n",
       "      <td>30003</td>\n",
       "      <td>First-Citizens Bank &amp; Trust Company</td>\n",
       "      <td>May 5, 2017</td>\n",
       "      <td>10527</td>\n",
       "    </tr>\n",
       "    <tr>\n",
       "      <th>21</th>\n",
       "      <td>First NBC Bank</td>\n",
       "      <td>New Orleans</td>\n",
       "      <td>Louisiana</td>\n",
       "      <td>58302</td>\n",
       "      <td>Whitney Bank</td>\n",
       "      <td>April 28, 2017</td>\n",
       "      <td>10526</td>\n",
       "    </tr>\n",
       "    <tr>\n",
       "      <th>22</th>\n",
       "      <td>Proficio Bank</td>\n",
       "      <td>Cottonwood Heights</td>\n",
       "      <td>Utah</td>\n",
       "      <td>35495</td>\n",
       "      <td>Cache Valley Bank</td>\n",
       "      <td>March 3, 2017</td>\n",
       "      <td>10525</td>\n",
       "    </tr>\n",
       "    <tr>\n",
       "      <th>23</th>\n",
       "      <td>Seaway Bank and Trust Company</td>\n",
       "      <td>Chicago</td>\n",
       "      <td>Illinois</td>\n",
       "      <td>19328</td>\n",
       "      <td>State Bank of Texas</td>\n",
       "      <td>January 27, 2017</td>\n",
       "      <td>10524</td>\n",
       "    </tr>\n",
       "    <tr>\n",
       "      <th>24</th>\n",
       "      <td>Harvest Community Bank</td>\n",
       "      <td>Pennsville</td>\n",
       "      <td>New Jersey</td>\n",
       "      <td>34951</td>\n",
       "      <td>First-Citizens Bank &amp; Trust Company</td>\n",
       "      <td>January 13, 2017</td>\n",
       "      <td>10523</td>\n",
       "    </tr>\n",
       "  </tbody>\n",
       "</table>\n",
       "</div>"
      ],
      "text/plain": [
       "                                            Bank Name                City  \\\n",
       "0                        The Santa Anna National Bank          Santa Anna   \n",
       "1                                Pulaski Savings Bank             Chicago   \n",
       "2                  The First National Bank of Lindsay             Lindsay   \n",
       "3               Republic First Bank dba Republic Bank        Philadelphia   \n",
       "4                                       Citizens Bank            Sac City   \n",
       "5                            Heartland Tri-State Bank             Elkhart   \n",
       "6                                 First Republic Bank       San Francisco   \n",
       "7                                      Signature Bank            New York   \n",
       "8                                 Silicon Valley Bank         Santa Clara   \n",
       "9                                   Almena State Bank              Almena   \n",
       "10                         First City Bank of Florida   Fort Walton Beach   \n",
       "11                               The First State Bank       Barboursville   \n",
       "12                                 Ericson State Bank             Ericson   \n",
       "13                   City National Bank of New Jersey              Newark   \n",
       "14                                      Resolute Bank              Maumee   \n",
       "15                              Louisa Community Bank              Louisa   \n",
       "16                               The Enloe State Bank              Cooper   \n",
       "17                Washington Federal Bank for Savings             Chicago   \n",
       "18    The Farmers and Merchants State Bank of Argonia             Argonia   \n",
       "19                                Fayette County Bank          Saint Elmo   \n",
       "20  Guaranty Bank, (d/b/a BestBank in Georgia & Mi...           Milwaukee   \n",
       "21                                     First NBC Bank         New Orleans   \n",
       "22                                      Proficio Bank  Cottonwood Heights   \n",
       "23                      Seaway Bank and Trust Company             Chicago   \n",
       "24                             Harvest Community Bank          Pennsville   \n",
       "\n",
       "            State   Cert                Acquiring Institution  \\\n",
       "0           Texas   5520            Coleman County State Bank   \n",
       "1        Illinois  28611                      Millennium Bank   \n",
       "2        Oklahoma   4134               First Bank & Trust Co.   \n",
       "3    Pennsylvania  27332    Fulton Bank, National Association   \n",
       "4            Iowa   8758            Iowa Trust & Savings Bank   \n",
       "5          Kansas  25851               Dream First Bank, N.A.   \n",
       "6      California  59017            JPMorgan Chase Bank, N.A.   \n",
       "7        New York  57053                  Flagstar Bank, N.A.   \n",
       "8      California  24735  First Citizens Bank & Trust Company   \n",
       "9          Kansas  15426                          Equity Bank   \n",
       "10        Florida  16748            United Fidelity Bank, fsb   \n",
       "11  West Virginia  14361                       MVB Bank, Inc.   \n",
       "12       Nebraska  18265           Farmers and Merchants Bank   \n",
       "13     New Jersey  21111                      Industrial Bank   \n",
       "14           Ohio  58317                   Buckeye State Bank   \n",
       "15       Kentucky  58112    Kentucky Farmers Bank Corporation   \n",
       "16          Texas  10716                   Legend Bank, N. A.   \n",
       "17       Illinois  30570                   Royal Savings Bank   \n",
       "18         Kansas  17719                          Conway Bank   \n",
       "19       Illinois   1802            United Fidelity Bank, fsb   \n",
       "20      Wisconsin  30003  First-Citizens Bank & Trust Company   \n",
       "21      Louisiana  58302                         Whitney Bank   \n",
       "22           Utah  35495                    Cache Valley Bank   \n",
       "23       Illinois  19328                  State Bank of Texas   \n",
       "24     New Jersey  34951  First-Citizens Bank & Trust Company   \n",
       "\n",
       "         Closing Date  Fund  Sort ascending  \n",
       "0       June 27, 2025                 10549  \n",
       "1    January 17, 2025                 10548  \n",
       "2    October 18, 2024                 10547  \n",
       "3      April 26, 2024                 10546  \n",
       "4    November 3, 2023                 10545  \n",
       "5       July 28, 2023                 10544  \n",
       "6         May 1, 2023                 10543  \n",
       "7      March 12, 2023                 10540  \n",
       "8      March 10, 2023                 10539  \n",
       "9    October 23, 2020                 10538  \n",
       "10   October 16, 2020                 10537  \n",
       "11      April 3, 2020                 10536  \n",
       "12  February 14, 2020                 10535  \n",
       "13   November 1, 2019                 10534  \n",
       "14   October 25, 2019                 10533  \n",
       "15   October 25, 2019                 10532  \n",
       "16       May 31, 2019                 10531  \n",
       "17  December 15, 2017                 10530  \n",
       "18   October 13, 2017                 10529  \n",
       "19       May 26, 2017                 10528  \n",
       "20        May 5, 2017                 10527  \n",
       "21     April 28, 2017                 10526  \n",
       "22      March 3, 2017                 10525  \n",
       "23   January 27, 2017                 10524  \n",
       "24   January 13, 2017                 10523  "
      ]
     },
     "execution_count": 138,
     "metadata": {},
     "output_type": "execute_result"
    }
   ],
   "source": [
    "dfs[0]"
   ]
  },
  {
   "cell_type": "code",
   "execution_count": 139,
   "id": "3a9fa991",
   "metadata": {},
   "outputs": [
    {
     "ename": "HTTPError",
     "evalue": "HTTP Error 403: Forbidden",
     "output_type": "error",
     "traceback": [
      "\u001b[1;31m---------------------------------------------------------------------------\u001b[0m",
      "\u001b[1;31mHTTPError\u001b[0m                                 Traceback (most recent call last)",
      "Cell \u001b[1;32mIn[139], line 2\u001b[0m\n\u001b[0;32m      1\u001b[0m url_mcc \u001b[38;5;241m=\u001b[39m \u001b[38;5;124m'\u001b[39m\u001b[38;5;124mhttps://en.wikipedia.org/wiki/Mobile_country_code\u001b[39m\u001b[38;5;124m'\u001b[39m\n\u001b[1;32m----> 2\u001b[0m dfs \u001b[38;5;241m=\u001b[39m \u001b[43mpd\u001b[49m\u001b[38;5;241;43m.\u001b[39;49m\u001b[43mread_html\u001b[49m\u001b[43m(\u001b[49m\u001b[43murl_mcc\u001b[49m\u001b[43m,\u001b[49m\u001b[43m \u001b[49m\u001b[43mmatch\u001b[49m\u001b[38;5;241;43m=\u001b[39;49m\u001b[38;5;124;43m'\u001b[39;49m\u001b[38;5;124;43mCountry\u001b[39;49m\u001b[38;5;124;43m'\u001b[39;49m\u001b[43m,\u001b[49m\u001b[43m \u001b[49m\u001b[43mheader\u001b[49m\u001b[38;5;241;43m=\u001b[39;49m\u001b[38;5;241;43m0\u001b[39;49m\u001b[43m)\u001b[49m\n",
      "File \u001b[1;32m~\\anaconda3\\lib\\site-packages\\pandas\\util\\_decorators.py:331\u001b[0m, in \u001b[0;36mdeprecate_nonkeyword_arguments.<locals>.decorate.<locals>.wrapper\u001b[1;34m(*args, **kwargs)\u001b[0m\n\u001b[0;32m    325\u001b[0m \u001b[38;5;28;01mif\u001b[39;00m \u001b[38;5;28mlen\u001b[39m(args) \u001b[38;5;241m>\u001b[39m num_allow_args:\n\u001b[0;32m    326\u001b[0m     warnings\u001b[38;5;241m.\u001b[39mwarn(\n\u001b[0;32m    327\u001b[0m         msg\u001b[38;5;241m.\u001b[39mformat(arguments\u001b[38;5;241m=\u001b[39m_format_argument_list(allow_args)),\n\u001b[0;32m    328\u001b[0m         \u001b[38;5;167;01mFutureWarning\u001b[39;00m,\n\u001b[0;32m    329\u001b[0m         stacklevel\u001b[38;5;241m=\u001b[39mfind_stack_level(),\n\u001b[0;32m    330\u001b[0m     )\n\u001b[1;32m--> 331\u001b[0m \u001b[38;5;28;01mreturn\u001b[39;00m func(\u001b[38;5;241m*\u001b[39margs, \u001b[38;5;241m*\u001b[39m\u001b[38;5;241m*\u001b[39mkwargs)\n",
      "File \u001b[1;32m~\\anaconda3\\lib\\site-packages\\pandas\\io\\html.py:1205\u001b[0m, in \u001b[0;36mread_html\u001b[1;34m(io, match, flavor, header, index_col, skiprows, attrs, parse_dates, thousands, encoding, decimal, converters, na_values, keep_default_na, displayed_only, extract_links)\u001b[0m\n\u001b[0;32m   1201\u001b[0m validate_header_arg(header)\n\u001b[0;32m   1203\u001b[0m io \u001b[38;5;241m=\u001b[39m stringify_path(io)\n\u001b[1;32m-> 1205\u001b[0m \u001b[38;5;28;01mreturn\u001b[39;00m \u001b[43m_parse\u001b[49m\u001b[43m(\u001b[49m\n\u001b[0;32m   1206\u001b[0m \u001b[43m    \u001b[49m\u001b[43mflavor\u001b[49m\u001b[38;5;241;43m=\u001b[39;49m\u001b[43mflavor\u001b[49m\u001b[43m,\u001b[49m\n\u001b[0;32m   1207\u001b[0m \u001b[43m    \u001b[49m\u001b[43mio\u001b[49m\u001b[38;5;241;43m=\u001b[39;49m\u001b[43mio\u001b[49m\u001b[43m,\u001b[49m\n\u001b[0;32m   1208\u001b[0m \u001b[43m    \u001b[49m\u001b[43mmatch\u001b[49m\u001b[38;5;241;43m=\u001b[39;49m\u001b[43mmatch\u001b[49m\u001b[43m,\u001b[49m\n\u001b[0;32m   1209\u001b[0m \u001b[43m    \u001b[49m\u001b[43mheader\u001b[49m\u001b[38;5;241;43m=\u001b[39;49m\u001b[43mheader\u001b[49m\u001b[43m,\u001b[49m\n\u001b[0;32m   1210\u001b[0m \u001b[43m    \u001b[49m\u001b[43mindex_col\u001b[49m\u001b[38;5;241;43m=\u001b[39;49m\u001b[43mindex_col\u001b[49m\u001b[43m,\u001b[49m\n\u001b[0;32m   1211\u001b[0m \u001b[43m    \u001b[49m\u001b[43mskiprows\u001b[49m\u001b[38;5;241;43m=\u001b[39;49m\u001b[43mskiprows\u001b[49m\u001b[43m,\u001b[49m\n\u001b[0;32m   1212\u001b[0m \u001b[43m    \u001b[49m\u001b[43mparse_dates\u001b[49m\u001b[38;5;241;43m=\u001b[39;49m\u001b[43mparse_dates\u001b[49m\u001b[43m,\u001b[49m\n\u001b[0;32m   1213\u001b[0m \u001b[43m    \u001b[49m\u001b[43mthousands\u001b[49m\u001b[38;5;241;43m=\u001b[39;49m\u001b[43mthousands\u001b[49m\u001b[43m,\u001b[49m\n\u001b[0;32m   1214\u001b[0m \u001b[43m    \u001b[49m\u001b[43mattrs\u001b[49m\u001b[38;5;241;43m=\u001b[39;49m\u001b[43mattrs\u001b[49m\u001b[43m,\u001b[49m\n\u001b[0;32m   1215\u001b[0m \u001b[43m    \u001b[49m\u001b[43mencoding\u001b[49m\u001b[38;5;241;43m=\u001b[39;49m\u001b[43mencoding\u001b[49m\u001b[43m,\u001b[49m\n\u001b[0;32m   1216\u001b[0m \u001b[43m    \u001b[49m\u001b[43mdecimal\u001b[49m\u001b[38;5;241;43m=\u001b[39;49m\u001b[43mdecimal\u001b[49m\u001b[43m,\u001b[49m\n\u001b[0;32m   1217\u001b[0m \u001b[43m    \u001b[49m\u001b[43mconverters\u001b[49m\u001b[38;5;241;43m=\u001b[39;49m\u001b[43mconverters\u001b[49m\u001b[43m,\u001b[49m\n\u001b[0;32m   1218\u001b[0m \u001b[43m    \u001b[49m\u001b[43mna_values\u001b[49m\u001b[38;5;241;43m=\u001b[39;49m\u001b[43mna_values\u001b[49m\u001b[43m,\u001b[49m\n\u001b[0;32m   1219\u001b[0m \u001b[43m    \u001b[49m\u001b[43mkeep_default_na\u001b[49m\u001b[38;5;241;43m=\u001b[39;49m\u001b[43mkeep_default_na\u001b[49m\u001b[43m,\u001b[49m\n\u001b[0;32m   1220\u001b[0m \u001b[43m    \u001b[49m\u001b[43mdisplayed_only\u001b[49m\u001b[38;5;241;43m=\u001b[39;49m\u001b[43mdisplayed_only\u001b[49m\u001b[43m,\u001b[49m\n\u001b[0;32m   1221\u001b[0m \u001b[43m    \u001b[49m\u001b[43mextract_links\u001b[49m\u001b[38;5;241;43m=\u001b[39;49m\u001b[43mextract_links\u001b[49m\u001b[43m,\u001b[49m\n\u001b[0;32m   1222\u001b[0m \u001b[43m\u001b[49m\u001b[43m)\u001b[49m\n",
      "File \u001b[1;32m~\\anaconda3\\lib\\site-packages\\pandas\\io\\html.py:986\u001b[0m, in \u001b[0;36m_parse\u001b[1;34m(flavor, io, match, attrs, encoding, displayed_only, extract_links, **kwargs)\u001b[0m\n\u001b[0;32m    983\u001b[0m p \u001b[38;5;241m=\u001b[39m parser(io, compiled_match, attrs, encoding, displayed_only, extract_links)\n\u001b[0;32m    985\u001b[0m \u001b[38;5;28;01mtry\u001b[39;00m:\n\u001b[1;32m--> 986\u001b[0m     tables \u001b[38;5;241m=\u001b[39m \u001b[43mp\u001b[49m\u001b[38;5;241;43m.\u001b[39;49m\u001b[43mparse_tables\u001b[49m\u001b[43m(\u001b[49m\u001b[43m)\u001b[49m\n\u001b[0;32m    987\u001b[0m \u001b[38;5;28;01mexcept\u001b[39;00m \u001b[38;5;167;01mValueError\u001b[39;00m \u001b[38;5;28;01mas\u001b[39;00m caught:\n\u001b[0;32m    988\u001b[0m     \u001b[38;5;66;03m# if `io` is an io-like object, check if it's seekable\u001b[39;00m\n\u001b[0;32m    989\u001b[0m     \u001b[38;5;66;03m# and try to rewind it before trying the next parser\u001b[39;00m\n\u001b[0;32m    990\u001b[0m     \u001b[38;5;28;01mif\u001b[39;00m \u001b[38;5;28mhasattr\u001b[39m(io, \u001b[38;5;124m\"\u001b[39m\u001b[38;5;124mseekable\u001b[39m\u001b[38;5;124m\"\u001b[39m) \u001b[38;5;129;01mand\u001b[39;00m io\u001b[38;5;241m.\u001b[39mseekable():\n",
      "File \u001b[1;32m~\\anaconda3\\lib\\site-packages\\pandas\\io\\html.py:262\u001b[0m, in \u001b[0;36m_HtmlFrameParser.parse_tables\u001b[1;34m(self)\u001b[0m\n\u001b[0;32m    254\u001b[0m \u001b[38;5;28;01mdef\u001b[39;00m \u001b[38;5;21mparse_tables\u001b[39m(\u001b[38;5;28mself\u001b[39m):\n\u001b[0;32m    255\u001b[0m \u001b[38;5;250m    \u001b[39m\u001b[38;5;124;03m\"\"\"\u001b[39;00m\n\u001b[0;32m    256\u001b[0m \u001b[38;5;124;03m    Parse and return all tables from the DOM.\u001b[39;00m\n\u001b[0;32m    257\u001b[0m \n\u001b[1;32m   (...)\u001b[0m\n\u001b[0;32m    260\u001b[0m \u001b[38;5;124;03m    list of parsed (header, body, footer) tuples from tables.\u001b[39;00m\n\u001b[0;32m    261\u001b[0m \u001b[38;5;124;03m    \"\"\"\u001b[39;00m\n\u001b[1;32m--> 262\u001b[0m     tables \u001b[38;5;241m=\u001b[39m \u001b[38;5;28mself\u001b[39m\u001b[38;5;241m.\u001b[39m_parse_tables(\u001b[38;5;28;43mself\u001b[39;49m\u001b[38;5;241;43m.\u001b[39;49m\u001b[43m_build_doc\u001b[49m\u001b[43m(\u001b[49m\u001b[43m)\u001b[49m, \u001b[38;5;28mself\u001b[39m\u001b[38;5;241m.\u001b[39mmatch, \u001b[38;5;28mself\u001b[39m\u001b[38;5;241m.\u001b[39mattrs)\n\u001b[0;32m    263\u001b[0m     \u001b[38;5;28;01mreturn\u001b[39;00m (\u001b[38;5;28mself\u001b[39m\u001b[38;5;241m.\u001b[39m_parse_thead_tbody_tfoot(table) \u001b[38;5;28;01mfor\u001b[39;00m table \u001b[38;5;129;01min\u001b[39;00m tables)\n",
      "File \u001b[1;32m~\\anaconda3\\lib\\site-packages\\pandas\\io\\html.py:821\u001b[0m, in \u001b[0;36m_LxmlFrameParser._build_doc\u001b[1;34m(self)\u001b[0m\n\u001b[0;32m    819\u001b[0m             \u001b[38;5;28;01mpass\u001b[39;00m\n\u001b[0;32m    820\u001b[0m     \u001b[38;5;28;01melse\u001b[39;00m:\n\u001b[1;32m--> 821\u001b[0m         \u001b[38;5;28;01mraise\u001b[39;00m e\n\u001b[0;32m    822\u001b[0m \u001b[38;5;28;01melse\u001b[39;00m:\n\u001b[0;32m    823\u001b[0m     \u001b[38;5;28;01mif\u001b[39;00m \u001b[38;5;129;01mnot\u001b[39;00m \u001b[38;5;28mhasattr\u001b[39m(r, \u001b[38;5;124m\"\u001b[39m\u001b[38;5;124mtext_content\u001b[39m\u001b[38;5;124m\"\u001b[39m):\n",
      "File \u001b[1;32m~\\anaconda3\\lib\\site-packages\\pandas\\io\\html.py:802\u001b[0m, in \u001b[0;36m_LxmlFrameParser._build_doc\u001b[1;34m(self)\u001b[0m\n\u001b[0;32m    800\u001b[0m \u001b[38;5;28;01mtry\u001b[39;00m:\n\u001b[0;32m    801\u001b[0m     \u001b[38;5;28;01mif\u001b[39;00m is_url(\u001b[38;5;28mself\u001b[39m\u001b[38;5;241m.\u001b[39mio):\n\u001b[1;32m--> 802\u001b[0m         \u001b[38;5;28;01mwith\u001b[39;00m \u001b[43murlopen\u001b[49m\u001b[43m(\u001b[49m\u001b[38;5;28;43mself\u001b[39;49m\u001b[38;5;241;43m.\u001b[39;49m\u001b[43mio\u001b[49m\u001b[43m)\u001b[49m \u001b[38;5;28;01mas\u001b[39;00m f:\n\u001b[0;32m    803\u001b[0m             r \u001b[38;5;241m=\u001b[39m parse(f, parser\u001b[38;5;241m=\u001b[39mparser)\n\u001b[0;32m    804\u001b[0m     \u001b[38;5;28;01melse\u001b[39;00m:\n\u001b[0;32m    805\u001b[0m         \u001b[38;5;66;03m# try to parse the input in the simplest way\u001b[39;00m\n",
      "File \u001b[1;32m~\\anaconda3\\lib\\site-packages\\pandas\\io\\common.py:265\u001b[0m, in \u001b[0;36murlopen\u001b[1;34m(*args, **kwargs)\u001b[0m\n\u001b[0;32m    259\u001b[0m \u001b[38;5;250m\u001b[39m\u001b[38;5;124;03m\"\"\"\u001b[39;00m\n\u001b[0;32m    260\u001b[0m \u001b[38;5;124;03mLazy-import wrapper for stdlib urlopen, as that imports a big chunk of\u001b[39;00m\n\u001b[0;32m    261\u001b[0m \u001b[38;5;124;03mthe stdlib.\u001b[39;00m\n\u001b[0;32m    262\u001b[0m \u001b[38;5;124;03m\"\"\"\u001b[39;00m\n\u001b[0;32m    263\u001b[0m \u001b[38;5;28;01mimport\u001b[39;00m \u001b[38;5;21;01murllib\u001b[39;00m\u001b[38;5;21;01m.\u001b[39;00m\u001b[38;5;21;01mrequest\u001b[39;00m\n\u001b[1;32m--> 265\u001b[0m \u001b[38;5;28;01mreturn\u001b[39;00m urllib\u001b[38;5;241m.\u001b[39mrequest\u001b[38;5;241m.\u001b[39murlopen(\u001b[38;5;241m*\u001b[39margs, \u001b[38;5;241m*\u001b[39m\u001b[38;5;241m*\u001b[39mkwargs)\n",
      "File \u001b[1;32m~\\anaconda3\\lib\\urllib\\request.py:216\u001b[0m, in \u001b[0;36murlopen\u001b[1;34m(url, data, timeout, cafile, capath, cadefault, context)\u001b[0m\n\u001b[0;32m    214\u001b[0m \u001b[38;5;28;01melse\u001b[39;00m:\n\u001b[0;32m    215\u001b[0m     opener \u001b[38;5;241m=\u001b[39m _opener\n\u001b[1;32m--> 216\u001b[0m \u001b[38;5;28;01mreturn\u001b[39;00m \u001b[43mopener\u001b[49m\u001b[38;5;241;43m.\u001b[39;49m\u001b[43mopen\u001b[49m\u001b[43m(\u001b[49m\u001b[43murl\u001b[49m\u001b[43m,\u001b[49m\u001b[43m \u001b[49m\u001b[43mdata\u001b[49m\u001b[43m,\u001b[49m\u001b[43m \u001b[49m\u001b[43mtimeout\u001b[49m\u001b[43m)\u001b[49m\n",
      "File \u001b[1;32m~\\anaconda3\\lib\\urllib\\request.py:525\u001b[0m, in \u001b[0;36mOpenerDirector.open\u001b[1;34m(self, fullurl, data, timeout)\u001b[0m\n\u001b[0;32m    523\u001b[0m \u001b[38;5;28;01mfor\u001b[39;00m processor \u001b[38;5;129;01min\u001b[39;00m \u001b[38;5;28mself\u001b[39m\u001b[38;5;241m.\u001b[39mprocess_response\u001b[38;5;241m.\u001b[39mget(protocol, []):\n\u001b[0;32m    524\u001b[0m     meth \u001b[38;5;241m=\u001b[39m \u001b[38;5;28mgetattr\u001b[39m(processor, meth_name)\n\u001b[1;32m--> 525\u001b[0m     response \u001b[38;5;241m=\u001b[39m \u001b[43mmeth\u001b[49m\u001b[43m(\u001b[49m\u001b[43mreq\u001b[49m\u001b[43m,\u001b[49m\u001b[43m \u001b[49m\u001b[43mresponse\u001b[49m\u001b[43m)\u001b[49m\n\u001b[0;32m    527\u001b[0m \u001b[38;5;28;01mreturn\u001b[39;00m response\n",
      "File \u001b[1;32m~\\anaconda3\\lib\\urllib\\request.py:634\u001b[0m, in \u001b[0;36mHTTPErrorProcessor.http_response\u001b[1;34m(self, request, response)\u001b[0m\n\u001b[0;32m    631\u001b[0m \u001b[38;5;66;03m# According to RFC 2616, \"2xx\" code indicates that the client's\u001b[39;00m\n\u001b[0;32m    632\u001b[0m \u001b[38;5;66;03m# request was successfully received, understood, and accepted.\u001b[39;00m\n\u001b[0;32m    633\u001b[0m \u001b[38;5;28;01mif\u001b[39;00m \u001b[38;5;129;01mnot\u001b[39;00m (\u001b[38;5;241m200\u001b[39m \u001b[38;5;241m<\u001b[39m\u001b[38;5;241m=\u001b[39m code \u001b[38;5;241m<\u001b[39m \u001b[38;5;241m300\u001b[39m):\n\u001b[1;32m--> 634\u001b[0m     response \u001b[38;5;241m=\u001b[39m \u001b[38;5;28;43mself\u001b[39;49m\u001b[38;5;241;43m.\u001b[39;49m\u001b[43mparent\u001b[49m\u001b[38;5;241;43m.\u001b[39;49m\u001b[43merror\u001b[49m\u001b[43m(\u001b[49m\n\u001b[0;32m    635\u001b[0m \u001b[43m        \u001b[49m\u001b[38;5;124;43m'\u001b[39;49m\u001b[38;5;124;43mhttp\u001b[39;49m\u001b[38;5;124;43m'\u001b[39;49m\u001b[43m,\u001b[49m\u001b[43m \u001b[49m\u001b[43mrequest\u001b[49m\u001b[43m,\u001b[49m\u001b[43m \u001b[49m\u001b[43mresponse\u001b[49m\u001b[43m,\u001b[49m\u001b[43m \u001b[49m\u001b[43mcode\u001b[49m\u001b[43m,\u001b[49m\u001b[43m \u001b[49m\u001b[43mmsg\u001b[49m\u001b[43m,\u001b[49m\u001b[43m \u001b[49m\u001b[43mhdrs\u001b[49m\u001b[43m)\u001b[49m\n\u001b[0;32m    637\u001b[0m \u001b[38;5;28;01mreturn\u001b[39;00m response\n",
      "File \u001b[1;32m~\\anaconda3\\lib\\urllib\\request.py:563\u001b[0m, in \u001b[0;36mOpenerDirector.error\u001b[1;34m(self, proto, *args)\u001b[0m\n\u001b[0;32m    561\u001b[0m \u001b[38;5;28;01mif\u001b[39;00m http_err:\n\u001b[0;32m    562\u001b[0m     args \u001b[38;5;241m=\u001b[39m (\u001b[38;5;28mdict\u001b[39m, \u001b[38;5;124m'\u001b[39m\u001b[38;5;124mdefault\u001b[39m\u001b[38;5;124m'\u001b[39m, \u001b[38;5;124m'\u001b[39m\u001b[38;5;124mhttp_error_default\u001b[39m\u001b[38;5;124m'\u001b[39m) \u001b[38;5;241m+\u001b[39m orig_args\n\u001b[1;32m--> 563\u001b[0m     \u001b[38;5;28;01mreturn\u001b[39;00m \u001b[38;5;28;43mself\u001b[39;49m\u001b[38;5;241;43m.\u001b[39;49m\u001b[43m_call_chain\u001b[49m\u001b[43m(\u001b[49m\u001b[38;5;241;43m*\u001b[39;49m\u001b[43margs\u001b[49m\u001b[43m)\u001b[49m\n",
      "File \u001b[1;32m~\\anaconda3\\lib\\urllib\\request.py:496\u001b[0m, in \u001b[0;36mOpenerDirector._call_chain\u001b[1;34m(self, chain, kind, meth_name, *args)\u001b[0m\n\u001b[0;32m    494\u001b[0m \u001b[38;5;28;01mfor\u001b[39;00m handler \u001b[38;5;129;01min\u001b[39;00m handlers:\n\u001b[0;32m    495\u001b[0m     func \u001b[38;5;241m=\u001b[39m \u001b[38;5;28mgetattr\u001b[39m(handler, meth_name)\n\u001b[1;32m--> 496\u001b[0m     result \u001b[38;5;241m=\u001b[39m \u001b[43mfunc\u001b[49m\u001b[43m(\u001b[49m\u001b[38;5;241;43m*\u001b[39;49m\u001b[43margs\u001b[49m\u001b[43m)\u001b[49m\n\u001b[0;32m    497\u001b[0m     \u001b[38;5;28;01mif\u001b[39;00m result \u001b[38;5;129;01mis\u001b[39;00m \u001b[38;5;129;01mnot\u001b[39;00m \u001b[38;5;28;01mNone\u001b[39;00m:\n\u001b[0;32m    498\u001b[0m         \u001b[38;5;28;01mreturn\u001b[39;00m result\n",
      "File \u001b[1;32m~\\anaconda3\\lib\\urllib\\request.py:643\u001b[0m, in \u001b[0;36mHTTPDefaultErrorHandler.http_error_default\u001b[1;34m(self, req, fp, code, msg, hdrs)\u001b[0m\n\u001b[0;32m    642\u001b[0m \u001b[38;5;28;01mdef\u001b[39;00m \u001b[38;5;21mhttp_error_default\u001b[39m(\u001b[38;5;28mself\u001b[39m, req, fp, code, msg, hdrs):\n\u001b[1;32m--> 643\u001b[0m     \u001b[38;5;28;01mraise\u001b[39;00m HTTPError(req\u001b[38;5;241m.\u001b[39mfull_url, code, msg, hdrs, fp)\n",
      "\u001b[1;31mHTTPError\u001b[0m: HTTP Error 403: Forbidden"
     ]
    }
   ],
   "source": [
    "url_mcc = 'https://en.wikipedia.org/wiki/Mobile_country_code'\n",
    "dfs = pd.read_html(url_mcc, match='Country', header=0)"
   ]
  },
  {
   "cell_type": "code",
   "execution_count": 160,
   "id": "0b4bdea6",
   "metadata": {},
   "outputs": [
    {
     "name": "stdout",
     "output_type": "stream",
     "text": [
      "<class 'str'>\n",
      "     Mobile country code                                    Country ISO 3166  \\\n",
      "0                    289                                 A Abkhazia    GE-AB   \n",
      "1                    412                                Afghanistan       AF   \n",
      "2                    276                                    Albania       AL   \n",
      "3                    603                                    Algeria       DZ   \n",
      "4                    544  American Samoa (United States of America)       AS   \n",
      "..                   ...                                        ...      ...   \n",
      "247                  452                                    Vietnam       VN   \n",
      "248                  543                        W Wallis and Futuna       WF   \n",
      "249                  421                                    Y Yemen       YE   \n",
      "250                  645                                   Z Zambia       ZM   \n",
      "251                  648                                   Zimbabwe       ZW   \n",
      "\n",
      "                                  Mobile network codes National MNC authority  \\\n",
      "0             List of mobile network codes in Abkhazia                    NaN   \n",
      "1          List of mobile network codes in Afghanistan                    NaN   \n",
      "2              List of mobile network codes in Albania                    NaN   \n",
      "3              List of mobile network codes in Algeria                    NaN   \n",
      "4       List of mobile network codes in American Samoa                    NaN   \n",
      "..                                                 ...                    ...   \n",
      "247        List of mobile network codes in the Vietnam                    NaN   \n",
      "248  List of mobile network codes in Wallis and Futuna                    NaN   \n",
      "249          List of mobile network codes in the Yemen                    NaN   \n",
      "250             List of mobile network codes in Zambia                    NaN   \n",
      "251           List of mobile network codes in Zimbabwe                    NaN   \n",
      "\n",
      "                      Remarks  \n",
      "0    MCC is not listed by ITU  \n",
      "1                         NaN  \n",
      "2                         NaN  \n",
      "3                         NaN  \n",
      "4                         NaN  \n",
      "..                        ...  \n",
      "247                       NaN  \n",
      "248                       NaN  \n",
      "249                       NaN  \n",
      "250                       NaN  \n",
      "251                       NaN  \n",
      "\n",
      "[252 rows x 6 columns]\n"
     ]
    }
   ],
   "source": [
    "import pandas as pd\n",
    "import requests\n",
    "from io import StringIO\n",
    "\n",
    "url_mcc = \"https://en.wikipedia.org/wiki/Mobile_country_code\"\n",
    "\n",
    "# Set a user-agent so Wikipedia doesn't block the request\n",
    "headers = {\"User-Agent\": \"Mozilla/5.0\"}\n",
    "\n",
    "response = requests.get(url_mcc, headers=headers)\n",
    "response.raise_for_status()   # raises exception if failed\n",
    "print(type(response.text))\n",
    "\n",
    "# Parse HTML content with pandas\n",
    "dfs = pd.read_html(StringIO(response.text), match=\"Country\", header=0)\n",
    "\n",
    "## print(len(dfs))   # number of tables found\n",
    "print(dfs[0])  # first table"
   ]
  },
  {
   "cell_type": "markdown",
   "id": "b2f62952",
   "metadata": {},
   "source": [
    "## Reading Excel Files"
   ]
  },
  {
   "cell_type": "code",
   "execution_count": 166,
   "id": "345697f9",
   "metadata": {},
   "outputs": [],
   "source": [
    "df_excel=pd.read_excel('Excel_Sample.xlsx', index_col=0)"
   ]
  },
  {
   "cell_type": "code",
   "execution_count": 167,
   "id": "cc60369d",
   "metadata": {},
   "outputs": [
    {
     "data": {
      "text/html": [
       "<div>\n",
       "<style scoped>\n",
       "    .dataframe tbody tr th:only-of-type {\n",
       "        vertical-align: middle;\n",
       "    }\n",
       "\n",
       "    .dataframe tbody tr th {\n",
       "        vertical-align: top;\n",
       "    }\n",
       "\n",
       "    .dataframe thead th {\n",
       "        text-align: right;\n",
       "    }\n",
       "</style>\n",
       "<table border=\"1\" class=\"dataframe\">\n",
       "  <thead>\n",
       "    <tr style=\"text-align: right;\">\n",
       "      <th></th>\n",
       "      <th>a</th>\n",
       "      <th>b</th>\n",
       "      <th>c</th>\n",
       "      <th>d</th>\n",
       "    </tr>\n",
       "  </thead>\n",
       "  <tbody>\n",
       "    <tr>\n",
       "      <th>0</th>\n",
       "      <td>0</td>\n",
       "      <td>1</td>\n",
       "      <td>2</td>\n",
       "      <td>3</td>\n",
       "    </tr>\n",
       "    <tr>\n",
       "      <th>1</th>\n",
       "      <td>4</td>\n",
       "      <td>5</td>\n",
       "      <td>6</td>\n",
       "      <td>7</td>\n",
       "    </tr>\n",
       "    <tr>\n",
       "      <th>2</th>\n",
       "      <td>8</td>\n",
       "      <td>9</td>\n",
       "      <td>10</td>\n",
       "      <td>11</td>\n",
       "    </tr>\n",
       "    <tr>\n",
       "      <th>3</th>\n",
       "      <td>12</td>\n",
       "      <td>13</td>\n",
       "      <td>14</td>\n",
       "      <td>15</td>\n",
       "    </tr>\n",
       "  </tbody>\n",
       "</table>\n",
       "</div>"
      ],
      "text/plain": [
       "    a   b   c   d\n",
       "0   0   1   2   3\n",
       "1   4   5   6   7\n",
       "2   8   9  10  11\n",
       "3  12  13  14  15"
      ]
     },
     "execution_count": 167,
     "metadata": {},
     "output_type": "execute_result"
    }
   ],
   "source": [
    "df_excel.head()"
   ]
  },
  {
   "cell_type": "markdown",
   "id": "db36b48d",
   "metadata": {},
   "source": [
    "## Pickling\n",
    "All pandas objects are equipped with to_pickle methods which use Python’s cPickle module to save data structures to disk using the pickle format."
   ]
  },
  {
   "cell_type": "code",
   "execution_count": 168,
   "id": "3d7515cb",
   "metadata": {},
   "outputs": [],
   "source": [
    "df_excel.to_pickle('df_excel')"
   ]
  },
  {
   "cell_type": "code",
   "execution_count": 169,
   "id": "746444a0",
   "metadata": {},
   "outputs": [],
   "source": [
    "df=pd.read_pickle('df_excel')"
   ]
  },
  {
   "cell_type": "code",
   "execution_count": 170,
   "id": "fd992a16",
   "metadata": {},
   "outputs": [
    {
     "data": {
      "text/html": [
       "<div>\n",
       "<style scoped>\n",
       "    .dataframe tbody tr th:only-of-type {\n",
       "        vertical-align: middle;\n",
       "    }\n",
       "\n",
       "    .dataframe tbody tr th {\n",
       "        vertical-align: top;\n",
       "    }\n",
       "\n",
       "    .dataframe thead th {\n",
       "        text-align: right;\n",
       "    }\n",
       "</style>\n",
       "<table border=\"1\" class=\"dataframe\">\n",
       "  <thead>\n",
       "    <tr style=\"text-align: right;\">\n",
       "      <th></th>\n",
       "      <th>a</th>\n",
       "      <th>b</th>\n",
       "      <th>c</th>\n",
       "      <th>d</th>\n",
       "    </tr>\n",
       "  </thead>\n",
       "  <tbody>\n",
       "    <tr>\n",
       "      <th>0</th>\n",
       "      <td>0</td>\n",
       "      <td>1</td>\n",
       "      <td>2</td>\n",
       "      <td>3</td>\n",
       "    </tr>\n",
       "    <tr>\n",
       "      <th>1</th>\n",
       "      <td>4</td>\n",
       "      <td>5</td>\n",
       "      <td>6</td>\n",
       "      <td>7</td>\n",
       "    </tr>\n",
       "    <tr>\n",
       "      <th>2</th>\n",
       "      <td>8</td>\n",
       "      <td>9</td>\n",
       "      <td>10</td>\n",
       "      <td>11</td>\n",
       "    </tr>\n",
       "    <tr>\n",
       "      <th>3</th>\n",
       "      <td>12</td>\n",
       "      <td>13</td>\n",
       "      <td>14</td>\n",
       "      <td>15</td>\n",
       "    </tr>\n",
       "  </tbody>\n",
       "</table>\n",
       "</div>"
      ],
      "text/plain": [
       "    a   b   c   d\n",
       "0   0   1   2   3\n",
       "1   4   5   6   7\n",
       "2   8   9  10  11\n",
       "3  12  13  14  15"
      ]
     },
     "execution_count": 170,
     "metadata": {},
     "output_type": "execute_result"
    }
   ],
   "source": [
    "df.head()"
   ]
  },
  {
   "cell_type": "code",
   "execution_count": null,
   "id": "676904b3",
   "metadata": {},
   "outputs": [],
   "source": []
  }
 ],
 "metadata": {
  "kernelspec": {
   "display_name": "Python 3 (ipykernel)",
   "language": "python",
   "name": "python3"
  },
  "language_info": {
   "codemirror_mode": {
    "name": "ipython",
    "version": 3
   },
   "file_extension": ".py",
   "mimetype": "text/x-python",
   "name": "python",
   "nbconvert_exporter": "python",
   "pygments_lexer": "ipython3",
   "version": "3.10.9"
  }
 },
 "nbformat": 4,
 "nbformat_minor": 5
}
