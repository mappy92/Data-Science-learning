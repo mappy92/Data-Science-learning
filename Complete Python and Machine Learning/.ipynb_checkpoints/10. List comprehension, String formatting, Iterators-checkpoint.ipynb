{
 "cells": [
  {
   "cell_type": "markdown",
   "id": "5d1a44a6",
   "metadata": {},
   "source": [
    "## List comprehension\n",
    "\n",
    "List comprehension provides a concise way to create lists. It conssists of brackets containing an expression followed by for clause, then zero or more if clauses. The expressions can be anything, meaning you can put in all kinds of objects in lists."
   ]
  },
  {
   "cell_type": "code",
   "execution_count": 1,
   "id": "6224eaf1",
   "metadata": {},
   "outputs": [],
   "source": [
    "lst1=[]\n",
    "def lst_square(lst):\n",
    "    for i in lst:\n",
    "        lst1.append(i*i)\n",
    "    return lst1\n",
    "    "
   ]
  },
  {
   "cell_type": "code",
   "execution_count": 2,
   "id": "b0600de1",
   "metadata": {},
   "outputs": [
    {
     "data": {
      "text/plain": [
       "[1, 4, 9, 16, 25, 36]"
      ]
     },
     "execution_count": 2,
     "metadata": {},
     "output_type": "execute_result"
    }
   ],
   "source": [
    "lst_square([1,2,3,4,5,6])"
   ]
  },
  {
   "cell_type": "code",
   "execution_count": 5,
   "id": "4753e63e",
   "metadata": {},
   "outputs": [],
   "source": [
    "lst=[1,2,3,4,5,6,7,8]"
   ]
  },
  {
   "cell_type": "code",
   "execution_count": 11,
   "id": "9fb3727e",
   "metadata": {},
   "outputs": [],
   "source": [
    "## list comprehension\n",
    "lst2 = [i*i for i in lst]"
   ]
  },
  {
   "cell_type": "code",
   "execution_count": 12,
   "id": "d68be4e2",
   "metadata": {},
   "outputs": [
    {
     "data": {
      "text/plain": [
       "[1, 4, 9, 16, 25, 36, 49, 64]"
      ]
     },
     "execution_count": 12,
     "metadata": {},
     "output_type": "execute_result"
    }
   ],
   "source": [
    "lst2"
   ]
  },
  {
   "cell_type": "code",
   "execution_count": 13,
   "id": "0ce5ea51",
   "metadata": {},
   "outputs": [],
   "source": [
    "lst_even_sq = [i*i for i in lst if i%2==0]"
   ]
  },
  {
   "cell_type": "code",
   "execution_count": 14,
   "id": "88a2244a",
   "metadata": {},
   "outputs": [
    {
     "data": {
      "text/plain": [
       "[4, 16, 36, 64]"
      ]
     },
     "execution_count": 14,
     "metadata": {},
     "output_type": "execute_result"
    }
   ],
   "source": [
    "lst_even_sq"
   ]
  },
  {
   "cell_type": "markdown",
   "id": "8779af6f",
   "metadata": {},
   "source": [
    "## String Formatting"
   ]
  },
  {
   "cell_type": "code",
   "execution_count": 15,
   "id": "672083c6",
   "metadata": {},
   "outputs": [
    {
     "name": "stdout",
     "output_type": "stream",
     "text": [
      "Hello everyone\n"
     ]
    }
   ],
   "source": [
    "print(\"Hello everyone\")"
   ]
  },
  {
   "cell_type": "code",
   "execution_count": 16,
   "id": "3c4d9205",
   "metadata": {},
   "outputs": [],
   "source": [
    "str = \"Hello everyone\""
   ]
  },
  {
   "cell_type": "code",
   "execution_count": 17,
   "id": "09dc4d4c",
   "metadata": {},
   "outputs": [],
   "source": [
    "def greeting(name):\n",
    "    return \"Hello {}. Welcome to my page\".format(name)"
   ]
  },
  {
   "cell_type": "code",
   "execution_count": 18,
   "id": "ef3c536f",
   "metadata": {},
   "outputs": [
    {
     "data": {
      "text/plain": [
       "'Hello Singh. Welcome to my page'"
      ]
     },
     "execution_count": 18,
     "metadata": {},
     "output_type": "execute_result"
    }
   ],
   "source": [
    "greeting(\"Singh\")"
   ]
  },
  {
   "cell_type": "code",
   "execution_count": 35,
   "id": "d5f662a1",
   "metadata": {},
   "outputs": [],
   "source": [
    "def welcome_email(name,age):\n",
    "    return \"Welcome {name}. You age is {age}\".format( age=age, name=name)"
   ]
  },
  {
   "cell_type": "code",
   "execution_count": 33,
   "id": "0eb07cce",
   "metadata": {},
   "outputs": [],
   "source": [
    "def welcome_email(name,age):\n",
    "    return \"Welcome {}. You age is {}\".format( age, name)"
   ]
  },
  {
   "cell_type": "code",
   "execution_count": 38,
   "id": "ea0e7dfb",
   "metadata": {},
   "outputs": [],
   "source": [
    "def welcome_email(name,age):\n",
    "    return \"Welcome {name1}. You age is {age1}\".format( age1=age, name1=name) # can be a different placeholder names"
   ]
  },
  {
   "cell_type": "code",
   "execution_count": 34,
   "id": "b35cb48e",
   "metadata": {},
   "outputs": [
    {
     "data": {
      "text/plain": [
       "'Welcome 35. You age is Mappy'"
      ]
     },
     "execution_count": 34,
     "metadata": {},
     "output_type": "execute_result"
    }
   ],
   "source": [
    "welcome_email(\"Mappy\",35) # Using 2nd defn"
   ]
  },
  {
   "cell_type": "code",
   "execution_count": 39,
   "id": "085c74d7",
   "metadata": {},
   "outputs": [
    {
     "data": {
      "text/plain": [
       "'Welcome Mappy. You age is 35'"
      ]
     },
     "execution_count": 39,
     "metadata": {},
     "output_type": "execute_result"
    }
   ],
   "source": [
    "welcome_email(\"Mappy\",35) # Using 1st defn"
   ]
  },
  {
   "cell_type": "code",
   "execution_count": null,
   "id": "4a3f67ed",
   "metadata": {},
   "outputs": [],
   "source": []
  }
 ],
 "metadata": {
  "kernelspec": {
   "display_name": "Python 3 (ipykernel)",
   "language": "python",
   "name": "python3"
  },
  "language_info": {
   "codemirror_mode": {
    "name": "ipython",
    "version": 3
   },
   "file_extension": ".py",
   "mimetype": "text/x-python",
   "name": "python",
   "nbconvert_exporter": "python",
   "pygments_lexer": "ipython3",
   "version": "3.10.9"
  }
 },
 "nbformat": 4,
 "nbformat_minor": 5
}
