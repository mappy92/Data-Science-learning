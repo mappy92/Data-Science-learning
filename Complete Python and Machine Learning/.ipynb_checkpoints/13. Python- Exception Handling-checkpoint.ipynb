{
 "cells": [
  {
   "cell_type": "code",
   "execution_count": 1,
   "id": "e7db8a44",
   "metadata": {},
   "outputs": [],
   "source": [
    "a=10"
   ]
  },
  {
   "cell_type": "code",
   "execution_count": 2,
   "id": "866ad3d4",
   "metadata": {},
   "outputs": [
    {
     "ename": "NameError",
     "evalue": "name 'b' is not defined",
     "output_type": "error",
     "traceback": [
      "\u001b[1;31m---------------------------------------------------------------------------\u001b[0m",
      "\u001b[1;31mNameError\u001b[0m                                 Traceback (most recent call last)",
      "Cell \u001b[1;32mIn[2], line 1\u001b[0m\n\u001b[1;32m----> 1\u001b[0m a\u001b[38;5;241m=\u001b[39m\u001b[43mb\u001b[49m\n",
      "\u001b[1;31mNameError\u001b[0m: name 'b' is not defined"
     ]
    }
   ],
   "source": [
    "a=b # Exception class (main class)"
   ]
  },
  {
   "cell_type": "code",
   "execution_count": 3,
   "id": "b4efc17f",
   "metadata": {},
   "outputs": [
    {
     "name": "stdout",
     "output_type": "stream",
     "text": [
      "some problem may have occured\n"
     ]
    }
   ],
   "source": [
    "try:\n",
    "    ## code where the exception can occur\n",
    "    a=b\n",
    "except: \n",
    "    ## some problem may have occured\n",
    "    print(\"some problem may have occured\")"
   ]
  },
  {
   "cell_type": "code",
   "execution_count": 4,
   "id": "cf1a66d5",
   "metadata": {},
   "outputs": [
    {
     "name": "stdout",
     "output_type": "stream",
     "text": [
      "name 'b' is not defined\n"
     ]
    }
   ],
   "source": [
    "try:\n",
    "    ## code where the exception can occur\n",
    "    a=b\n",
    "except Exception as ex: \n",
    "    print(ex)"
   ]
  },
  {
   "cell_type": "code",
   "execution_count": 5,
   "id": "71bd7288",
   "metadata": {},
   "outputs": [
    {
     "name": "stdout",
     "output_type": "stream",
     "text": [
      "User may have not defined the variable\n"
     ]
    }
   ],
   "source": [
    "try:\n",
    "    ## code where the exception can occur\n",
    "    a=b\n",
    "except NameError as ex1:\n",
    "    print(\"User may have not defined the variable\")\n",
    "except Exception as ex: # Exception class at last\n",
    "    print(ex)"
   ]
  },
  {
   "cell_type": "code",
   "execution_count": null,
   "id": "fd73e69a",
   "metadata": {},
   "outputs": [],
   "source": []
  }
 ],
 "metadata": {
  "kernelspec": {
   "display_name": "Python 3 (ipykernel)",
   "language": "python",
   "name": "python3"
  },
  "language_info": {
   "codemirror_mode": {
    "name": "ipython",
    "version": 3
   },
   "file_extension": ".py",
   "mimetype": "text/x-python",
   "name": "python",
   "nbconvert_exporter": "python",
   "pygments_lexer": "ipython3",
   "version": "3.10.9"
  }
 },
 "nbformat": 4,
 "nbformat_minor": 5
}
