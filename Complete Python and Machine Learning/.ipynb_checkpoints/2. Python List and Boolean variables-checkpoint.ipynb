{
 "cells": [
  {
   "cell_type": "code",
   "execution_count": 1,
   "id": "db10aa3c",
   "metadata": {},
   "outputs": [
    {
     "name": "stdout",
     "output_type": "stream",
     "text": [
      "True False\n"
     ]
    }
   ],
   "source": [
    "print(True,False)"
   ]
  },
  {
   "cell_type": "code",
   "execution_count": 11,
   "id": "85cb73bd",
   "metadata": {},
   "outputs": [],
   "source": [
    "my_str = \"Mappy Singh9\""
   ]
  },
  {
   "cell_type": "code",
   "execution_count": 13,
   "id": "0110f249",
   "metadata": {},
   "outputs": [
    {
     "name": "stdout",
     "output_type": "stream",
     "text": [
      "False\n",
      "False\n",
      "False\n",
      "True\n",
      "False\n",
      "False\n",
      "False\n",
      "False\n",
      "True\n"
     ]
    }
   ],
   "source": [
    "print(my_str.isalnum()) #check if all char are numbers\n",
    "print(my_str.isalpha()) #check if all char in the string are alphabetic\n",
    "print(my_str.isdigit()) #test if string contains digits\n",
    "print(my_str.istitle()) #test if string contains title words like we have M as a capital letter\n",
    "print(my_str.isupper()) #test if string contains upper case\n",
    "print(my_str.islower()) #test if string contains lower case\n",
    "print(my_str.isspace()) #test if string contains spaces\n",
    "print(my_str.endswith('h')) #test if string endswith a d\n",
    "print(my_str.startswith('M')) #test if string startswith H"
   ]
  },
  {
   "cell_type": "markdown",
   "id": "d94594e5",
   "metadata": {},
   "source": [
    "## Boolean and logical operators "
   ]
  },
  {
   "cell_type": "code",
   "execution_count": 14,
   "id": "5ba0509b",
   "metadata": {},
   "outputs": [
    {
     "data": {
      "text/plain": [
       "True"
      ]
     },
     "execution_count": 14,
     "metadata": {},
     "output_type": "execute_result"
    }
   ],
   "source": [
    "True and True\n"
   ]
  },
  {
   "cell_type": "code",
   "execution_count": 15,
   "id": "cfb7b317",
   "metadata": {},
   "outputs": [
    {
     "data": {
      "text/plain": [
       "True"
      ]
     },
     "execution_count": 15,
     "metadata": {},
     "output_type": "execute_result"
    }
   ],
   "source": [
    "True or False"
   ]
  },
  {
   "cell_type": "code",
   "execution_count": 16,
   "id": "bc9683a6",
   "metadata": {},
   "outputs": [
    {
     "data": {
      "text/plain": [
       "False"
      ]
     },
     "execution_count": 16,
     "metadata": {},
     "output_type": "execute_result"
    }
   ],
   "source": [
    "False or False"
   ]
  },
  {
   "cell_type": "markdown",
   "id": "70955913",
   "metadata": {},
   "source": [
    "## Lists"
   ]
  },
  {
   "cell_type": "code",
   "execution_count": 17,
   "id": "4d25c844",
   "metadata": {},
   "outputs": [
    {
     "data": {
      "text/plain": [
       "list"
      ]
     },
     "execution_count": 17,
     "metadata": {},
     "output_type": "execute_result"
    }
   ],
   "source": [
    "type([])"
   ]
  },
  {
   "cell_type": "code",
   "execution_count": 19,
   "id": "6c97eda5",
   "metadata": {},
   "outputs": [
    {
     "data": {
      "text/plain": [
       "list"
      ]
     },
     "execution_count": 19,
     "metadata": {},
     "output_type": "execute_result"
    }
   ],
   "source": [
    "lst_example = []\n",
    "type(lst_example)"
   ]
  },
  {
   "cell_type": "code",
   "execution_count": 20,
   "id": "f5edbd3c",
   "metadata": {},
   "outputs": [],
   "source": [
    "lst = list()"
   ]
  },
  {
   "cell_type": "code",
   "execution_count": 21,
   "id": "cf109cc0",
   "metadata": {},
   "outputs": [
    {
     "data": {
      "text/plain": [
       "list"
      ]
     },
     "execution_count": 21,
     "metadata": {},
     "output_type": "execute_result"
    }
   ],
   "source": [
    "type(lst)"
   ]
  },
  {
   "cell_type": "code",
   "execution_count": 33,
   "id": "fc72f956",
   "metadata": {},
   "outputs": [],
   "source": [
    "lst = [\"Peele\", \"Burlington\", 43,45,43,12]"
   ]
  },
  {
   "cell_type": "code",
   "execution_count": 34,
   "id": "c543f3ac",
   "metadata": {},
   "outputs": [
    {
     "data": {
      "text/plain": [
       "6"
      ]
     },
     "execution_count": 34,
     "metadata": {},
     "output_type": "execute_result"
    }
   ],
   "source": [
    "len(lst)"
   ]
  },
  {
   "cell_type": "markdown",
   "id": "da9403f7",
   "metadata": {},
   "source": [
    "## Append"
   ]
  },
  {
   "cell_type": "code",
   "execution_count": 35,
   "id": "f5fe21f8",
   "metadata": {},
   "outputs": [],
   "source": [
    "lst.append(\"Singh\")"
   ]
  },
  {
   "cell_type": "code",
   "execution_count": 36,
   "id": "a38221aa",
   "metadata": {},
   "outputs": [
    {
     "data": {
      "text/plain": [
       "['Peele', 'Burlington', 43, 45, 43, 12, 'Singh']"
      ]
     },
     "execution_count": 36,
     "metadata": {},
     "output_type": "execute_result"
    }
   ],
   "source": [
    "lst"
   ]
  },
  {
   "cell_type": "code",
   "execution_count": 37,
   "id": "1d6cc2b4",
   "metadata": {},
   "outputs": [],
   "source": [
    "lst.append([3,4]) # nested list "
   ]
  },
  {
   "cell_type": "code",
   "execution_count": 38,
   "id": "a41e6ed8",
   "metadata": {},
   "outputs": [
    {
     "data": {
      "text/plain": [
       "['Peele', 'Burlington', 43, 45, 43, 12, 'Singh', [3, 4]]"
      ]
     },
     "execution_count": 38,
     "metadata": {},
     "output_type": "execute_result"
    }
   ],
   "source": [
    "lst"
   ]
  },
  {
   "cell_type": "code",
   "execution_count": 40,
   "id": "3da1c456",
   "metadata": {},
   "outputs": [
    {
     "data": {
      "text/plain": [
       "'Singh'"
      ]
     },
     "execution_count": 40,
     "metadata": {},
     "output_type": "execute_result"
    }
   ],
   "source": [
    "##Indexing in a list\n",
    "lst[6]"
   ]
  },
  {
   "cell_type": "code",
   "execution_count": 41,
   "id": "caa894d8",
   "metadata": {},
   "outputs": [
    {
     "data": {
      "text/plain": [
       "['Peele', 'Burlington', 43, 45, 43, 12, 'Singh', [3, 4]]"
      ]
     },
     "execution_count": 41,
     "metadata": {},
     "output_type": "execute_result"
    }
   ],
   "source": [
    "lst[:]"
   ]
  },
  {
   "cell_type": "code",
   "execution_count": 42,
   "id": "69d2ca2d",
   "metadata": {},
   "outputs": [
    {
     "data": {
      "text/plain": [
       "['Burlington', 43]"
      ]
     },
     "execution_count": 42,
     "metadata": {},
     "output_type": "execute_result"
    }
   ],
   "source": [
    "lst[1:3]"
   ]
  },
  {
   "cell_type": "markdown",
   "id": "a2d6e42e",
   "metadata": {},
   "source": [
    "## Insert"
   ]
  },
  {
   "cell_type": "code",
   "execution_count": 43,
   "id": "bb038fd0",
   "metadata": {},
   "outputs": [],
   "source": [
    "lst.insert(2, \"Mappy\")"
   ]
  },
  {
   "cell_type": "code",
   "execution_count": 44,
   "id": "d7d7ce52",
   "metadata": {},
   "outputs": [
    {
     "data": {
      "text/plain": [
       "['Peele', 'Burlington', 'Mappy', 43, 45, 43, 12, 'Singh', [3, 4]]"
      ]
     },
     "execution_count": 44,
     "metadata": {},
     "output_type": "execute_result"
    }
   ],
   "source": [
    "lst"
   ]
  },
  {
   "cell_type": "markdown",
   "id": "e181585d",
   "metadata": {},
   "source": [
    "## Extend method"
   ]
  },
  {
   "cell_type": "code",
   "execution_count": 45,
   "id": "2faa10ff",
   "metadata": {},
   "outputs": [],
   "source": [
    "lst.extend([3,4,\"hello\"])"
   ]
  },
  {
   "cell_type": "code",
   "execution_count": 46,
   "id": "b618de0f",
   "metadata": {},
   "outputs": [
    {
     "data": {
      "text/plain": [
       "['Peele',\n",
       " 'Burlington',\n",
       " 'Mappy',\n",
       " 43,\n",
       " 45,\n",
       " 43,\n",
       " 12,\n",
       " 'Singh',\n",
       " [3, 4],\n",
       " 3,\n",
       " 4,\n",
       " 'hello']"
      ]
     },
     "execution_count": 46,
     "metadata": {},
     "output_type": "execute_result"
    }
   ],
   "source": [
    "lst"
   ]
  },
  {
   "cell_type": "markdown",
   "id": "28ffbc2f",
   "metadata": {},
   "source": [
    "## Various Operations that we can perform in List"
   ]
  },
  {
   "cell_type": "code",
   "execution_count": 48,
   "id": "60ceb2d2",
   "metadata": {},
   "outputs": [
    {
     "data": {
      "text/plain": [
       "30"
      ]
     },
     "execution_count": 48,
     "metadata": {},
     "output_type": "execute_result"
    }
   ],
   "source": [
    "lst = [3, 4, 6 , 8, 9]\n",
    "sum(lst)"
   ]
  },
  {
   "cell_type": "code",
   "execution_count": 49,
   "id": "c2f4e2ab",
   "metadata": {},
   "outputs": [
    {
     "data": {
      "text/plain": [
       "[3, 4, 6, 8, 9, 3, 4, 6, 8, 9, 3, 4, 6, 8, 9]"
      ]
     },
     "execution_count": 49,
     "metadata": {},
     "output_type": "execute_result"
    }
   ],
   "source": [
    "lst*3"
   ]
  },
  {
   "cell_type": "markdown",
   "id": "8829d5ed",
   "metadata": {},
   "source": [
    "## pop() method\n"
   ]
  },
  {
   "cell_type": "code",
   "execution_count": 50,
   "id": "a3e2e61a",
   "metadata": {},
   "outputs": [
    {
     "data": {
      "text/plain": [
       "9"
      ]
     },
     "execution_count": 50,
     "metadata": {},
     "output_type": "execute_result"
    }
   ],
   "source": [
    "lst.pop()"
   ]
  },
  {
   "cell_type": "code",
   "execution_count": 51,
   "id": "0fdaa322",
   "metadata": {},
   "outputs": [
    {
     "data": {
      "text/plain": [
       "[3, 4, 6, 8]"
      ]
     },
     "execution_count": 51,
     "metadata": {},
     "output_type": "execute_result"
    }
   ],
   "source": [
    "lst"
   ]
  },
  {
   "cell_type": "code",
   "execution_count": 52,
   "id": "a5cd00f4",
   "metadata": {},
   "outputs": [
    {
     "data": {
      "text/plain": [
       "3"
      ]
     },
     "execution_count": 52,
     "metadata": {},
     "output_type": "execute_result"
    }
   ],
   "source": [
    "lst.pop(0)"
   ]
  },
  {
   "cell_type": "code",
   "execution_count": 53,
   "id": "e011da82",
   "metadata": {},
   "outputs": [
    {
     "data": {
      "text/plain": [
       "[4, 6, 8]"
      ]
     },
     "execution_count": 53,
     "metadata": {},
     "output_type": "execute_result"
    }
   ],
   "source": [
    "lst"
   ]
  },
  {
   "cell_type": "markdown",
   "id": "aee6bd15",
   "metadata": {},
   "source": [
    "## count():Calculates total occurrence of given element of List"
   ]
  },
  {
   "cell_type": "code",
   "execution_count": 58,
   "id": "5c07b46f",
   "metadata": {},
   "outputs": [
    {
     "data": {
      "text/plain": [
       "2"
      ]
     },
     "execution_count": 58,
     "metadata": {},
     "output_type": "execute_result"
    }
   ],
   "source": [
    "lst=[1,2,2,3,4,5]\n",
    "lst.count(2)"
   ]
  },
  {
   "cell_type": "code",
   "execution_count": 59,
   "id": "4d718b2a",
   "metadata": {},
   "outputs": [
    {
     "data": {
      "text/plain": [
       "6"
      ]
     },
     "execution_count": 59,
     "metadata": {},
     "output_type": "execute_result"
    }
   ],
   "source": [
    "#length:Calculates total length of List\n",
    "len(lst)"
   ]
  },
  {
   "cell_type": "code",
   "execution_count": 61,
   "id": "d4756fcc",
   "metadata": {},
   "outputs": [
    {
     "data": {
      "text/plain": [
       "2"
      ]
     },
     "execution_count": 61,
     "metadata": {},
     "output_type": "execute_result"
    }
   ],
   "source": [
    "# index(): Returns the index of first occurrence. Start and End index are not necessary parameters\n",
    "lst.index(2,2,4)"
   ]
  },
  {
   "cell_type": "code",
   "execution_count": 62,
   "id": "f132cddc",
   "metadata": {},
   "outputs": [
    {
     "data": {
      "text/plain": [
       "1"
      ]
     },
     "execution_count": 62,
     "metadata": {},
     "output_type": "execute_result"
    }
   ],
   "source": [
    "##Min and Max\n",
    "min(lst)"
   ]
  },
  {
   "cell_type": "code",
   "execution_count": 63,
   "id": "2f0bfb14",
   "metadata": {},
   "outputs": [
    {
     "data": {
      "text/plain": [
       "5"
      ]
     },
     "execution_count": 63,
     "metadata": {},
     "output_type": "execute_result"
    }
   ],
   "source": [
    "max(lst)"
   ]
  },
  {
   "cell_type": "code",
   "execution_count": null,
   "id": "9fd9977e",
   "metadata": {},
   "outputs": [],
   "source": []
  }
 ],
 "metadata": {
  "kernelspec": {
   "display_name": "Python 3 (ipykernel)",
   "language": "python",
   "name": "python3"
  },
  "language_info": {
   "codemirror_mode": {
    "name": "ipython",
    "version": 3
   },
   "file_extension": ".py",
   "mimetype": "text/x-python",
   "name": "python",
   "nbconvert_exporter": "python",
   "pygments_lexer": "ipython3",
   "version": "3.10.9"
  }
 },
 "nbformat": 4,
 "nbformat_minor": 5
}
