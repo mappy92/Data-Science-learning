{
 "cells": [
  {
   "cell_type": "code",
   "execution_count": null,
   "id": "0f96eaca-5569-4a7c-bdfe-62921b1b2887",
   "metadata": {},
   "outputs": [
    {
     "name": "stdout",
     "output_type": "stream",
     "text": [
      " * ngrok tunnel URL: NgrokTunnel: \"https://4029e8febec7.ngrok-free.app\" -> \"http://localhost:5000\"\n",
      " * Serving Flask app '__main__'\n",
      " * Debug mode: off\n"
     ]
    },
    {
     "name": "stderr",
     "output_type": "stream",
     "text": [
      "WARNING: This is a development server. Do not use it in a production deployment. Use a production WSGI server instead.\n",
      " * Running on http://127.0.0.1:5000\n",
      "Press CTRL+C to quit\n",
      "127.0.0.1 - - [11/Sep/2025 14:35:36] \"GET / HTTP/1.1\" 200 -\n",
      "127.0.0.1 - - [11/Sep/2025 14:35:36] \"GET /favicon.ico HTTP/1.1\" 404 -\n",
      "127.0.0.1 - - [11/Sep/2025 14:35:41] \"GET / HTTP/1.1\" 200 -\n",
      "127.0.0.1 - - [11/Sep/2025 14:36:13] \"GET / HTTP/1.1\" 200 -\n",
      "127.0.0.1 - - [11/Sep/2025 14:36:13] \"GET /favicon.ico HTTP/1.1\" 404 -\n",
      "127.0.0.1 - - [11/Sep/2025 14:37:26] \"GET / HTTP/1.1\" 200 -\n"
     ]
    }
   ],
   "source": [
    "## Testing the ngrok app \n",
    "\n",
    "from flask import Flask\n",
    "from pyngrok import ngrok\n",
    "\n",
    "ngrok.set_auth_token(\"32Z3QP59JMEqf56Bg4lPFhWnBth_3N7fdQo4QxP1VyzNJoN6t\")\n",
    "\n",
    "# Create Flask app\n",
    "app = Flask(__name__)\n",
    "@app.route(\"/\")\n",
    "def index():\n",
    "  return \"<h1>Go to Hell !</h1>\"\n",
    "@app.route(\"/get_details\")\n",
    "def get_details():\n",
    "  return \"<h1>This is get details page.</h1>\"\n",
    "@app.route(\"/test\")\n",
    "def test_page():\n",
    "  return \"<h1>This is test page.</h1>\"\n",
    "    \n",
    "# Start ngrok tunnel\n",
    "public_url = ngrok.connect(5000)\n",
    "print(\" * ngrok tunnel URL:\", public_url)\n",
    "\n",
    "# Run Flask app\n",
    "app.run(port=5000)"
   ]
  },
  {
   "cell_type": "code",
   "execution_count": null,
   "id": "e50c29c1-2652-4aa9-9fe4-da6f0bfe76f4",
   "metadata": {},
   "outputs": [],
   "source": []
  }
 ],
 "metadata": {
  "kernelspec": {
   "display_name": "Python 3 (ipykernel)",
   "language": "python",
   "name": "python3"
  },
  "language_info": {
   "codemirror_mode": {
    "name": "ipython",
    "version": 3
   },
   "file_extension": ".py",
   "mimetype": "text/x-python",
   "name": "python",
   "nbconvert_exporter": "python",
   "pygments_lexer": "ipython3",
   "version": "3.10.18"
  }
 },
 "nbformat": 4,
 "nbformat_minor": 5
}
