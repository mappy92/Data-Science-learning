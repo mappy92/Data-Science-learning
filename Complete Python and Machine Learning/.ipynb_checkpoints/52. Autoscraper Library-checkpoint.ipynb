{
 "cells": [
  {
   "cell_type": "code",
   "execution_count": 41,
   "id": "a84fceef-653a-48a2-829a-c63c1bee5f4e",
   "metadata": {},
   "outputs": [
    {
     "name": "stdout",
     "output_type": "stream",
     "text": [
      "Matched repos: []\n"
     ]
    }
   ],
   "source": [
    "from autoscraper import AutoScraper\n",
    "\n",
    "url = \"https://github.com/mappy92?tab=repositories\"\n",
    "\n",
    "# Train with known repo names from the page\n",
    "wanted_list = [\"Data-Science-learning\", \"Loan-Eligibility-Prediction\",\"Packages\"]\n",
    "\n",
    "scraper = AutoScraper()\n",
    "result = scraper.build(url, wanted_list)\n",
    "\n",
    "print(\"Matched repos:\", result)"
   ]
  },
  {
   "cell_type": "code",
   "execution_count": 15,
   "id": "a3bb4898-43ed-44ba-a0fe-20968fb62d33",
   "metadata": {},
   "outputs": [
    {
     "name": "stdout",
     "output_type": "stream",
     "text": [
      "Certifications -> None\n",
      "ChatServer -> Java\n",
      "Deep-Learning-concepts -> Jupyter Notebook\n",
      "HR_Data_analytics -> None\n",
      "Loan-Eligibility-Prediction -> Jupyter Notebook\n",
      "Machine-learning-concepts -> Jupyter Notebook\n",
      "mappy92.github.io -> CSS\n",
      "Pizza_sales -> None\n",
      "PokemonMultiplayerInJavaClient -> None\n",
      "practice -> JavaScript\n",
      "Sales-insights -> None\n",
      "SlidingMenu -> Java\n",
      "Small-Scale-Python-Projects -> Python\n"
     ]
    }
   ],
   "source": [
    "import requests\n",
    "\n",
    "username = \"mappy92\"\n",
    "url = f\"https://api.github.com/users/{username}/repos\"\n",
    "\n",
    "repos = requests.get(url).json()\n",
    "for repo in repos:\n",
    "    print(repo[\"name\"], \"->\", repo[\"language\"])"
   ]
  },
  {
   "cell_type": "code",
   "execution_count": 29,
   "id": "c00c0299-8cc7-43df-8c66-dfa424ad25ee",
   "metadata": {},
   "outputs": [
    {
     "name": "stdout",
     "output_type": "stream",
     "text": [
      "All repos: []\n"
     ]
    }
   ],
   "source": [
    "repos = scraper.get_result_similar(url)\n",
    "print(\"All repos:\", repos)"
   ]
  },
  {
   "cell_type": "code",
   "execution_count": 30,
   "id": "22c37029-a42f-47bc-9680-bb5a7f748ac4",
   "metadata": {},
   "outputs": [
    {
     "name": "stdout",
     "output_type": "stream",
     "text": [
      "[]\n"
     ]
    }
   ],
   "source": [
    "scraper.save(\"github_repo_scraper\")\n",
    "\n",
    "# Later\n",
    "scraper = AutoScraper()\n",
    "scraper.load(\"github_repo_scraper\")\n",
    "\n",
    "repos = scraper.get_result_similar(url)\n",
    "print(repos)"
   ]
  },
  {
   "cell_type": "code",
   "execution_count": 31,
   "id": "abf282f5-05c1-402b-9271-1f0dfebee00d",
   "metadata": {},
   "outputs": [
    {
     "name": "stdout",
     "output_type": "stream",
     "text": [
      "mappy92.github.io -> https://github.com/mappy92/mappy92.github.io\n",
      "Pizza_sales -> https://github.com/mappy92/Pizza_sales\n",
      "Deep-Learning-concepts -> https://github.com/mappy92/Deep-Learning-concepts\n",
      "HR_Data_analytics -> https://github.com/mappy92/HR_Data_analytics\n",
      "Loan-Eligibility-Prediction -> https://github.com/mappy92/Loan-Eligibility-Prediction\n",
      "Certifications -> https://github.com/mappy92/Certifications\n",
      "Machine-learning-concepts -> https://github.com/mappy92/Machine-learning-concepts\n",
      "Sales-insights -> https://github.com/mappy92/Sales-insights\n",
      "Small-Scale-Python-Projects -> https://github.com/mappy92/Small-Scale-Python-Projects\n",
      "practice -> https://github.com/mappy92/practice\n",
      "SlidingMenu -> https://github.com/mappy92/SlidingMenu\n",
      "PokemonMultiplayerInJavaClient -> https://github.com/mappy92/PokemonMultiplayerInJavaClient\n",
      "ChatServer -> https://github.com/mappy92/ChatServer\n"
     ]
    }
   ],
   "source": [
    "import requests\n",
    "from bs4 import BeautifulSoup\n",
    "\n",
    "url = \"https://github.com/mappy92?tab=repositories\"\n",
    "html = requests.get(url).text\n",
    "soup = BeautifulSoup(html, \"html.parser\")\n",
    "\n",
    "# Find all <h3 class=\"wb-break-all\"> elements\n",
    "repo_tags = soup.find_all(\"h3\", class_=\"wb-break-all\")\n",
    "\n",
    "# Extract repo name and link\n",
    "repos = []\n",
    "for tag in repo_tags:\n",
    "    a_tag = tag.find(\"a\", itemprop=\"name codeRepository\")\n",
    "    if a_tag:\n",
    "        repo_name = a_tag.text.strip()\n",
    "        repo_link = \"https://github.com\" + a_tag['href']\n",
    "        repos.append({\"name\": repo_name, \"link\": repo_link})\n",
    "\n",
    "# Print results\n",
    "for repo in repos:\n",
    "    print(repo[\"name\"], \"->\", repo[\"link\"])\n"
   ]
  },
  {
   "cell_type": "code",
   "execution_count": 35,
   "id": "b0e52fd0-f23b-4f72-9cb9-e9b95ac9cd9b",
   "metadata": {},
   "outputs": [
    {
     "name": "stdout",
     "output_type": "stream",
     "text": [
      "Matched repos: []\n",
      "All repos: []\n"
     ]
    }
   ],
   "source": [
    "from autoscraper import AutoScraper\n",
    "\n",
    "# GitHub repositories tab\n",
    "url = \"https://github.com/mappy92?tab=repositories\"\n",
    "\n",
    "# Pick one repo name exactly as it appears in the HTML\n",
    "wanted_list = [\"Data-Science-learning\"]\n",
    "\n",
    "scraper = AutoScraper()\n",
    "\n",
    "# Build the scraper\n",
    "result = scraper.build(url, wanted_list)\n",
    "\n",
    "print(\"Matched repos:\", result)\n",
    "\n",
    "# Fetch all repo names similar to the one used for training\n",
    "all_repos = scraper.get_result_similar(url)\n",
    "print(\"All repos:\", all_repos)\n",
    "\n",
    "# Optional: save the scraper for later\n",
    "scraper.save(\"github_repo_scraper\")"
   ]
  },
  {
   "cell_type": "code",
   "execution_count": 36,
   "id": "a2c41cf8-d8cc-41f6-be82-0a1cc81f0028",
   "metadata": {},
   "outputs": [
    {
     "name": "stdout",
     "output_type": "stream",
     "text": [
      "[]\n"
     ]
    }
   ],
   "source": [
    "from autoscraper import AutoScraper\n",
    "\n",
    "url = 'https://github.com/krishnaik06?tab=repositories'\n",
    "\n",
    "# We can add one or multiple candidates here.\n",
    "# You can also put urls here to retrieve urls.\n",
    "wanted_list = [\"85\",\"Car-Price-Prediction\",\"8.4k\"]\n",
    "\n",
    "scraper = AutoScraper()\n",
    "result = scraper.build(url, wanted_list)\n",
    "print(result)"
   ]
  },
  {
   "cell_type": "code",
   "execution_count": 37,
   "id": "ffd473d0-5158-4296-bcd7-fbfccba03f88",
   "metadata": {},
   "outputs": [],
   "source": [
    "amazon_url=\"https://www.amazon.in/s?k=iphones\"\n",
    "\n",
    "wanted_list=[\"₹58,400\",\"New Apple iPhone 11 (128GB) - Black\"]"
   ]
  },
  {
   "cell_type": "code",
   "execution_count": 38,
   "id": "47537597-32a0-4231-a332-d46b5b184677",
   "metadata": {},
   "outputs": [
    {
     "name": "stdout",
     "output_type": "stream",
     "text": [
      "[]\n"
     ]
    }
   ],
   "source": [
    "scraper=AutoScraper()\n",
    "result=scraper.build(amazon_url,wanted_list)\n",
    "print(result)"
   ]
  },
  {
   "cell_type": "code",
   "execution_count": 39,
   "id": "0d501404-16fa-4dbd-a2ab-a9d6602e2479",
   "metadata": {},
   "outputs": [
    {
     "name": "stdout",
     "output_type": "stream",
     "text": [
      "['Check each product page for other buying options.']\n",
      "['59,900', '69,900', '89,900', '59,900', '69,900']\n"
     ]
    }
   ],
   "source": [
    "import requests\n",
    "from bs4 import BeautifulSoup\n",
    "\n",
    "url = \"https://www.amazon.in/s?k=iphones\"\n",
    "\n",
    "headers = {\n",
    "    \"User-Agent\": \"Mozilla/5.0 (Windows NT 10.0; Win64; x64) \"\n",
    "                  \"AppleWebKit/537.36 (KHTML, like Gecko) \"\n",
    "                  \"Chrome/140.0.0.0 Safari/537.36\",\n",
    "    \"Accept-Language\": \"en-IN,en;q=0.9\"\n",
    "}\n",
    "\n",
    "html = requests.get(url, headers=headers).text\n",
    "soup = BeautifulSoup(html, \"html.parser\")\n",
    "\n",
    "# Example: scrape product titles\n",
    "titles = [title.text.strip() for title in soup.select(\"span.a-text-normal\")]\n",
    "print(titles[:5])\n",
    "\n",
    "# Example: scrape prices\n",
    "prices = [price.text.strip() for price in soup.select(\"span.a-price-whole\")]\n",
    "print(prices[:5])"
   ]
  },
  {
   "cell_type": "code",
   "execution_count": null,
   "id": "7eec3c35-dcda-444a-9f31-6ced99db8dc5",
   "metadata": {},
   "outputs": [],
   "source": []
  }
 ],
 "metadata": {
  "kernelspec": {
   "display_name": "Python 3 (ipykernel)",
   "language": "python",
   "name": "python3"
  },
  "language_info": {
   "codemirror_mode": {
    "name": "ipython",
    "version": 3
   },
   "file_extension": ".py",
   "mimetype": "text/x-python",
   "name": "python",
   "nbconvert_exporter": "python",
   "pygments_lexer": "ipython3",
   "version": "3.10.18"
  }
 },
 "nbformat": 4,
 "nbformat_minor": 5
}
