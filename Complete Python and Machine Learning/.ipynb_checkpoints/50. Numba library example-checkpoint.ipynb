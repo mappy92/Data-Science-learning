{
 "cells": [
  {
   "cell_type": "code",
   "execution_count": 7,
   "id": "4a3ea885-000c-4118-b28c-d288aa31c0e0",
   "metadata": {},
   "outputs": [
    {
     "name": "stdout",
     "output_type": "stream",
     "text": [
      "Python version time: 0.15994691848754883\n",
      "JIT compiled version time: 0.0\n"
     ]
    }
   ],
   "source": [
    "import numpy as np\n",
    "import time\n",
    "from numba import jit\n",
    "\n",
    "# JIT compiled version\n",
    "@jit(nopython=True)\n",
    "def tanh_py(x):\n",
    "    return np.tanh(x)\n",
    "\n",
    "# Input data\n",
    "x = np.arange(1000).reshape(100, 10)\n",
    "\n",
    "# Timing pure Python function\n",
    "start = time.time()\n",
    "tanh_py(x)\n",
    "end = time.time()\n",
    "print(\"Python version time:\", end - start)\n",
    "\n",
    "# Timing JIT compiled function\n",
    "start = time.time()\n",
    "tanh_py(x)\n",
    "end = time.time()\n",
    "print(\"JIT compiled version time:\", end - start)"
   ]
  },
  {
   "cell_type": "code",
   "execution_count": null,
   "id": "a7e6883f-424d-4a37-b6ea-5287a568d898",
   "metadata": {},
   "outputs": [],
   "source": []
  }
 ],
 "metadata": {
  "kernelspec": {
   "display_name": "Python 3 (ipykernel)",
   "language": "python",
   "name": "python3"
  },
  "language_info": {
   "codemirror_mode": {
    "name": "ipython",
    "version": 3
   },
   "file_extension": ".py",
   "mimetype": "text/x-python",
   "name": "python",
   "nbconvert_exporter": "python",
   "pygments_lexer": "ipython3",
   "version": "3.10.18"
  }
 },
 "nbformat": 4,
 "nbformat_minor": 5
}
