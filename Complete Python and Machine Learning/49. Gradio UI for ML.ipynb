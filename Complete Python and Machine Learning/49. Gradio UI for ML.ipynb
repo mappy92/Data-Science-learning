{
 "cells": [
  {
   "cell_type": "code",
   "execution_count": 1,
   "id": "bf0f588d-25ff-4445-98c9-46380bae540f",
   "metadata": {},
   "outputs": [],
   "source": [
    "import gradio "
   ]
  },
  {
   "cell_type": "code",
   "execution_count": 2,
   "id": "7b0d0b7b-d8f7-4191-bfc1-fe9a98716e23",
   "metadata": {},
   "outputs": [],
   "source": [
    "import gradio as gr\n",
    "import tensorflow as tf\n",
    "import numpy as np\n",
    "from PIL import Image\n",
    "import requests\n",
    "# Download human-readable labels for ImageNet.\n",
    "response = requests.get(\"https://git.io/JJkYN\")\n",
    "labels = response.text.split(\"\\n\")\n",
    "\n",
    "mobile_net = tf.keras.applications.MobileNetV2(weights=\"imagenet\")\n",
    "inception_net = tf.keras.applications.InceptionV3(weights=\"imagenet\")"
   ]
  },
  {
   "cell_type": "code",
   "execution_count": 3,
   "id": "5baef66a-15c0-4794-80e4-307482169163",
   "metadata": {},
   "outputs": [],
   "source": [
    "## labels"
   ]
  },
  {
   "cell_type": "code",
   "execution_count": 4,
   "id": "05925820-b6bd-4d30-8115-28169fc6965d",
   "metadata": {},
   "outputs": [],
   "source": [
    "def classify_image_with_mobile_net(im):\n",
    "    im = Image.fromarray(im.astype('uint8'), 'RGB')\n",
    "    im = im.resize((224, 224))\n",
    "    arr = np.array(im).reshape((-1, 224, 224, 3))\n",
    "    arr = tf.keras.applications.mobilenet.preprocess_input(arr)\n",
    "    prediction = mobile_net.predict(arr).flatten()\n",
    "    return {labels[i]: float(prediction[i]) for i in range(1000)}"
   ]
  },
  {
   "cell_type": "code",
   "execution_count": 5,
   "id": "09df7db7-f0ac-49ee-bf22-351324f8187d",
   "metadata": {},
   "outputs": [],
   "source": [
    "def classify_image_with_inception_net(im):\n",
    "    try:\n",
    "        im = Image.fromarray(im.astype(\"uint8\"), \"RGB\")\n",
    "        im = im.resize((299, 299))\n",
    "        arr = np.array(im).reshape((-1, 299, 299, 3))\n",
    "        arr = tf.keras.applications.inception_v3.preprocess_input(arr)\n",
    "        prediction = inception_net.predict(arr).flatten()\n",
    "        return {labels[i]: float(prediction[i]) for i in range(len(prediction))}\n",
    "    except Exception as e:\n",
    "        return {\"error\": str(e)}"
   ]
  },
  {
   "cell_type": "code",
   "execution_count": 6,
   "id": "5775d950-0ca2-4cd8-904c-cb42df63c061",
   "metadata": {},
   "outputs": [
    {
     "name": "stdout",
     "output_type": "stream",
     "text": [
      "* Running on local URL:  http://127.0.0.1:7860\n",
      "* To create a public link, set `share=True` in `launch()`.\n"
     ]
    },
    {
     "data": {
      "text/html": [
       "<div><iframe src=\"http://127.0.0.1:7860/\" width=\"100%\" height=\"500\" allow=\"autoplay; camera; microphone; clipboard-read; clipboard-write;\" frameborder=\"0\" allowfullscreen></iframe></div>"
      ],
      "text/plain": [
       "<IPython.core.display.HTML object>"
      ]
     },
     "metadata": {},
     "output_type": "display_data"
    },
    {
     "data": {
      "text/plain": []
     },
     "execution_count": 6,
     "metadata": {},
     "output_type": "execute_result"
    },
    {
     "name": "stderr",
     "output_type": "stream",
     "text": [
      "Traceback (most recent call last):\n",
      "  File \"C:\\Users\\manpr\\anaconda3\\lib\\site-packages\\gradio\\queueing.py\", line 745, in process_events\n",
      "    response = await route_utils.call_process_api(\n",
      "  File \"C:\\Users\\manpr\\anaconda3\\lib\\site-packages\\gradio\\route_utils.py\", line 349, in call_process_api\n",
      "    output = await app.get_blocks().process_api(\n",
      "  File \"C:\\Users\\manpr\\anaconda3\\lib\\site-packages\\gradio\\blocks.py\", line 2123, in process_api\n",
      "    result = await self.call_function(\n",
      "  File \"C:\\Users\\manpr\\anaconda3\\lib\\site-packages\\gradio\\blocks.py\", line 1630, in call_function\n",
      "    prediction = await anyio.to_thread.run_sync(  # type: ignore\n",
      "  File \"C:\\Users\\manpr\\anaconda3\\lib\\site-packages\\anyio\\to_thread.py\", line 56, in run_sync\n",
      "    return await get_async_backend().run_sync_in_worker_thread(\n",
      "  File \"C:\\Users\\manpr\\anaconda3\\lib\\site-packages\\anyio\\_backends\\_asyncio.py\", line 2476, in run_sync_in_worker_thread\n",
      "    return await future\n",
      "  File \"C:\\Users\\manpr\\anaconda3\\lib\\site-packages\\anyio\\_backends\\_asyncio.py\", line 967, in run\n",
      "    result = context.run(func, *args)\n",
      "  File \"C:\\Users\\manpr\\anaconda3\\lib\\site-packages\\gradio\\utils.py\", line 915, in wrapper\n",
      "    response = f(*args, **kwargs)\n",
      "  File \"C:\\Users\\manpr\\AppData\\Local\\Temp\\ipykernel_30116\\1360699567.py\", line 4, in compare_models\n",
      "    classify_image_with_mobile_net(img),\n",
      "  File \"C:\\Users\\manpr\\AppData\\Local\\Temp\\ipykernel_30116\\2490227093.py\", line 2, in classify_image_with_mobile_net\n",
      "    im = Image.fromarray(im.astype('uint8'), 'RGB')\n",
      "AttributeError: 'NoneType' object has no attribute 'astype'\n"
     ]
    }
   ],
   "source": [
    "# wrapper function that calls both models\n",
    "def compare_models(img):\n",
    "    return (\n",
    "        classify_image_with_mobile_net(img),\n",
    "        classify_image_with_inception_net(img)\n",
    "    )\n",
    "\n",
    "# Inputs and outputs\n",
    "imagein = gr.Image(type=\"numpy\")\n",
    "label1 = gr.Label(num_top_classes=3, label=\"MobileNet\")\n",
    "label2 = gr.Label(num_top_classes=3, label=\"InceptionNet\")\n",
    "\n",
    "# Interface\n",
    "demo = gr.Interface(\n",
    "    fn=compare_models,              # <-- pass ONE function\n",
    "    inputs=imagein,\n",
    "    outputs=[label1, label2],       # two outputs\n",
    "    examples=[\n",
    "        [\"cat.jpg\"],\n",
    "        [\"sailboat.jpg\"],\n",
    "        [\"bicycle.jpeg\"],\n",
    "    ],\n",
    "    title=\"MobileNet vs. InceptionNet\",\n",
    "    description=\"\"\"Let's compare 2 state-of-the-art machine learning models \n",
    "    that classify images into one of 1,000 categories.\"\"\"\n",
    ")\n",
    "\n",
    "demo.launch()"
   ]
  },
  {
   "cell_type": "code",
   "execution_count": null,
   "id": "8e81a89d-9fcb-4efc-b4dc-d0fc614f900c",
   "metadata": {},
   "outputs": [],
   "source": []
  }
 ],
 "metadata": {
  "kernelspec": {
   "display_name": "Python 3 (ipykernel)",
   "language": "python",
   "name": "python3"
  },
  "language_info": {
   "codemirror_mode": {
    "name": "ipython",
    "version": 3
   },
   "file_extension": ".py",
   "mimetype": "text/x-python",
   "name": "python",
   "nbconvert_exporter": "python",
   "pygments_lexer": "ipython3",
   "version": "3.10.18"
  }
 },
 "nbformat": 4,
 "nbformat_minor": 5
}
