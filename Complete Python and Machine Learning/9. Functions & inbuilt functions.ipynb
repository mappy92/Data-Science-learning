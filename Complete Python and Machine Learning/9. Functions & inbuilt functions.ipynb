{
 "cells": [
  {
   "cell_type": "markdown",
   "id": "c9485d2b",
   "metadata": {},
   "source": [
    "## Functions in Python\n",
    "* Why functions?\n",
    "* Function definition\n",
    "* Positional and keyword arguments in function"
   ]
  },
  {
   "cell_type": "markdown",
   "id": "fa3dbc64",
   "metadata": {},
   "source": [
    "A function is a set of statements that take inputs, do some specific computation and produces output. These functions are called user defined function."
   ]
  },
  {
   "cell_type": "code",
   "execution_count": 1,
   "id": "ced0fa56",
   "metadata": {},
   "outputs": [
    {
     "name": "stdout",
     "output_type": "stream",
     "text": [
      "number is even\n"
     ]
    }
   ],
   "source": [
    "num=24\n",
    "\n",
    "if num%2 ==0:\n",
    "    print(\"number is even\")\n",
    "else:\n",
    "    print(\"number is odd\")"
   ]
  },
  {
   "cell_type": "code",
   "execution_count": 2,
   "id": "23aaafe9",
   "metadata": {},
   "outputs": [
    {
     "name": "stdout",
     "output_type": "stream",
     "text": [
      "number is odd\n"
     ]
    }
   ],
   "source": [
    "def even_odd(num):\n",
    "    if num%2 ==0:\n",
    "        print(\"number is even\")\n",
    "    else:\n",
    "        print(\"number is odd\")\n",
    "even_odd(21)"
   ]
  },
  {
   "cell_type": "code",
   "execution_count": 3,
   "id": "0959c36f",
   "metadata": {},
   "outputs": [
    {
     "data": {
      "text/plain": [
       "'Hello World!'"
      ]
     },
     "execution_count": 3,
     "metadata": {},
     "output_type": "execute_result"
    }
   ],
   "source": [
    "# print vs return \n",
    "def hello_world():\n",
    "    return \"Hello World!\"\n",
    "hello_world()"
   ]
  },
  {
   "cell_type": "code",
   "execution_count": 4,
   "id": "431cf749",
   "metadata": {},
   "outputs": [
    {
     "name": "stdout",
     "output_type": "stream",
     "text": [
      "Hello World!\n"
     ]
    }
   ],
   "source": [
    "val = hello_world()\n",
    "print(val)"
   ]
  },
  {
   "cell_type": "code",
   "execution_count": 5,
   "id": "958cbc87",
   "metadata": {},
   "outputs": [],
   "source": [
    "def add_number(num1,num2):\n",
    "    return num1+num2"
   ]
  },
  {
   "cell_type": "code",
   "execution_count": 6,
   "id": "4c08968b",
   "metadata": {},
   "outputs": [],
   "source": [
    "val = add_number(2,4)"
   ]
  },
  {
   "cell_type": "code",
   "execution_count": 7,
   "id": "9cf95403",
   "metadata": {},
   "outputs": [
    {
     "data": {
      "text/plain": [
       "6"
      ]
     },
     "execution_count": 7,
     "metadata": {},
     "output_type": "execute_result"
    }
   ],
   "source": [
    "val"
   ]
  },
  {
   "cell_type": "code",
   "execution_count": 8,
   "id": "9df828b8",
   "metadata": {},
   "outputs": [],
   "source": [
    "## postional arguments - name \n",
    "## keyword arguments - age=29 (Key value pairs)\n",
    "def hello(name, age=29):\n",
    "    print(\"My name is {} and age is {}\".format(name,age))"
   ]
  },
  {
   "cell_type": "code",
   "execution_count": 9,
   "id": "cac659bc",
   "metadata": {},
   "outputs": [
    {
     "name": "stdout",
     "output_type": "stream",
     "text": [
      "My name is Manpreet and age is 29\n"
     ]
    }
   ],
   "source": [
    "hello('Manpreet')"
   ]
  },
  {
   "cell_type": "code",
   "execution_count": 10,
   "id": "4847f9d7",
   "metadata": {},
   "outputs": [
    {
     "ename": "TypeError",
     "evalue": "hello() missing 1 required positional argument: 'name'",
     "output_type": "error",
     "traceback": [
      "\u001b[1;31m---------------------------------------------------------------------------\u001b[0m",
      "\u001b[1;31mTypeError\u001b[0m                                 Traceback (most recent call last)",
      "Cell \u001b[1;32mIn[10], line 1\u001b[0m\n\u001b[1;32m----> 1\u001b[0m \u001b[43mhello\u001b[49m\u001b[43m(\u001b[49m\u001b[43m)\u001b[49m\n",
      "\u001b[1;31mTypeError\u001b[0m: hello() missing 1 required positional argument: 'name'"
     ]
    }
   ],
   "source": [
    "hello()"
   ]
  },
  {
   "cell_type": "code",
   "execution_count": 11,
   "id": "4d73f5a1",
   "metadata": {},
   "outputs": [],
   "source": [
    "def hello(*args, **kwargs):\n",
    "    print(args) # Positional arguments\n",
    "    print(kwargs) # Keyword arguments"
   ]
  },
  {
   "cell_type": "code",
   "execution_count": 12,
   "id": "425c27fb",
   "metadata": {},
   "outputs": [
    {
     "name": "stdout",
     "output_type": "stream",
     "text": [
      "('Manpreet', 'Singh')\n",
      "{'age': 35, 'DOB': 1990}\n"
     ]
    }
   ],
   "source": [
    "hello(\"Manpreet\", \"Singh\", age=35, DOB=1990)"
   ]
  },
  {
   "cell_type": "code",
   "execution_count": 13,
   "id": "6d2d0819",
   "metadata": {},
   "outputs": [],
   "source": [
    "lst = [\"Manpreet\", \"Singh\"]\n",
    "dict_args = {'age': 35, 'DOB':1990}"
   ]
  },
  {
   "cell_type": "code",
   "execution_count": 14,
   "id": "56c1812f",
   "metadata": {},
   "outputs": [
    {
     "name": "stdout",
     "output_type": "stream",
     "text": [
      "('Manpreet', 'Singh')\n",
      "{'age': 35, 'DOB': 1990}\n"
     ]
    }
   ],
   "source": [
    "hello(*lst, **dict_args) ## We can specify by * that these are my positional args and ** for keyword args"
   ]
  },
  {
   "cell_type": "code",
   "execution_count": 15,
   "id": "d5c723b7",
   "metadata": {},
   "outputs": [],
   "source": [
    "## If conditions  and for loops\n",
    "\n",
    "lst=[1,2,3,4,5,6,7,8,9,10,12,13,14,15]\n",
    "def even_odd_sum(lst):\n",
    "    even_sum=0\n",
    "    odd_sum=0\n",
    "    for i in lst:\n",
    "        if i%2==0:\n",
    "            even_sum=even_sum+i\n",
    "        else:\n",
    "            odd_sum=odd_sum+i\n",
    "    print(even_sum,odd_sum)"
   ]
  },
  {
   "cell_type": "code",
   "execution_count": 16,
   "id": "013e1203",
   "metadata": {},
   "outputs": [
    {
     "name": "stdout",
     "output_type": "stream",
     "text": [
      "56 53\n"
     ]
    }
   ],
   "source": [
    "even_odd_sum(lst)"
   ]
  },
  {
   "cell_type": "markdown",
   "id": "6a0e79ee",
   "metadata": {},
   "source": [
    "## Map function in python"
   ]
  },
  {
   "cell_type": "code",
   "execution_count": 17,
   "id": "909225dc",
   "metadata": {},
   "outputs": [],
   "source": [
    "def even_or_odd(num):\n",
    "    if num%2==0:\n",
    "        return \"The number {} is even.\".format(num)\n",
    "    else:\n",
    "        return \"The number {} is odd.\".format(num)"
   ]
  },
  {
   "cell_type": "code",
   "execution_count": 18,
   "id": "a9d2f005",
   "metadata": {},
   "outputs": [
    {
     "data": {
      "text/plain": [
       "'The number 34 is even.'"
      ]
     },
     "execution_count": 18,
     "metadata": {},
     "output_type": "execute_result"
    }
   ],
   "source": [
    "even_or_odd(34)"
   ]
  },
  {
   "cell_type": "code",
   "execution_count": 19,
   "id": "0f120830",
   "metadata": {},
   "outputs": [],
   "source": [
    "lst_num=[15,23,31,43,45,36,7,8,9,10,12,13,14,18]"
   ]
  },
  {
   "cell_type": "code",
   "execution_count": 20,
   "id": "98c7df0e",
   "metadata": {},
   "outputs": [
    {
     "data": {
      "text/plain": [
       "['The number 15 is odd.',\n",
       " 'The number 23 is odd.',\n",
       " 'The number 31 is odd.',\n",
       " 'The number 43 is odd.',\n",
       " 'The number 45 is odd.',\n",
       " 'The number 36 is even.',\n",
       " 'The number 7 is odd.',\n",
       " 'The number 8 is even.',\n",
       " 'The number 9 is odd.',\n",
       " 'The number 10 is even.',\n",
       " 'The number 12 is even.',\n",
       " 'The number 13 is odd.',\n",
       " 'The number 14 is even.',\n",
       " 'The number 18 is even.']"
      ]
     },
     "execution_count": 20,
     "metadata": {},
     "output_type": "execute_result"
    }
   ],
   "source": [
    "list(map(even_or_odd,lst_num))"
   ]
  },
  {
   "cell_type": "markdown",
   "id": "39d44636",
   "metadata": {},
   "source": [
    "## Lambda function"
   ]
  },
  {
   "cell_type": "markdown",
   "id": "3ffeafdb",
   "metadata": {},
   "source": [
    "* anonymous function (function with no name, works faster than normal function)"
   ]
  },
  {
   "cell_type": "code",
   "execution_count": 22,
   "id": "95f0bcc2",
   "metadata": {},
   "outputs": [],
   "source": [
    "def add(a, b):\n",
    "    return a+b"
   ]
  },
  {
   "cell_type": "code",
   "execution_count": 23,
   "id": "a8166493",
   "metadata": {},
   "outputs": [
    {
     "data": {
      "text/plain": [
       "9"
      ]
     },
     "execution_count": 23,
     "metadata": {},
     "output_type": "execute_result"
    }
   ],
   "source": [
    "add(4,5)"
   ]
  },
  {
   "cell_type": "code",
   "execution_count": 24,
   "id": "bf58a243",
   "metadata": {},
   "outputs": [],
   "source": [
    "addn = lambda a,b: a+b"
   ]
  },
  {
   "cell_type": "code",
   "execution_count": 25,
   "id": "30f9f78c",
   "metadata": {},
   "outputs": [
    {
     "data": {
      "text/plain": [
       "22"
      ]
     },
     "execution_count": 25,
     "metadata": {},
     "output_type": "execute_result"
    }
   ],
   "source": [
    "addn(12,10)"
   ]
  },
  {
   "cell_type": "code",
   "execution_count": 30,
   "id": "aa28c4d1",
   "metadata": {},
   "outputs": [],
   "source": [
    "def even(num):\n",
    "    if num%2==0:\n",
    "        return True"
   ]
  },
  {
   "cell_type": "code",
   "execution_count": 31,
   "id": "4e470ac2",
   "metadata": {},
   "outputs": [
    {
     "data": {
      "text/plain": [
       "True"
      ]
     },
     "execution_count": 31,
     "metadata": {},
     "output_type": "execute_result"
    }
   ],
   "source": [
    "even(22)"
   ]
  },
  {
   "cell_type": "code",
   "execution_count": 32,
   "id": "79acfbe0",
   "metadata": {},
   "outputs": [
    {
     "data": {
      "text/plain": [
       "True"
      ]
     },
     "execution_count": 32,
     "metadata": {},
     "output_type": "execute_result"
    }
   ],
   "source": [
    "even_lam = lambda a: a%2==0\n",
    "even_lam(10)"
   ]
  },
  {
   "cell_type": "code",
   "execution_count": 33,
   "id": "a3fd5914",
   "metadata": {},
   "outputs": [],
   "source": [
    "def addition(x,y,z):\n",
    "    return x+y+z"
   ]
  },
  {
   "cell_type": "code",
   "execution_count": 34,
   "id": "15c88d85",
   "metadata": {},
   "outputs": [
    {
     "data": {
      "text/plain": [
       "6"
      ]
     },
     "execution_count": 34,
     "metadata": {},
     "output_type": "execute_result"
    }
   ],
   "source": [
    "addition(1,2,3)"
   ]
  },
  {
   "cell_type": "code",
   "execution_count": 35,
   "id": "c1780d0d",
   "metadata": {},
   "outputs": [],
   "source": [
    "addition_lam = lambda x,y,z : x+y+z\n"
   ]
  },
  {
   "cell_type": "code",
   "execution_count": 36,
   "id": "ab0cfd18",
   "metadata": {},
   "outputs": [
    {
     "data": {
      "text/plain": [
       "12"
      ]
     },
     "execution_count": 36,
     "metadata": {},
     "output_type": "execute_result"
    }
   ],
   "source": [
    "addition_lam(3,4,5)"
   ]
  },
  {
   "cell_type": "markdown",
   "id": "87c16e87",
   "metadata": {},
   "source": [
    "## Filter function in python"
   ]
  },
  {
   "cell_type": "code",
   "execution_count": 41,
   "id": "707bad20",
   "metadata": {},
   "outputs": [],
   "source": [
    "# using even function from above \n",
    "lst_num_1=[15,23,31,43,45,36,7,8,9,10,12,13,14,18,0]"
   ]
  },
  {
   "cell_type": "code",
   "execution_count": 42,
   "id": "a267cf97",
   "metadata": {},
   "outputs": [
    {
     "data": {
      "text/plain": [
       "[36, 8, 10, 12, 14, 18, 0]"
      ]
     },
     "execution_count": 42,
     "metadata": {},
     "output_type": "execute_result"
    }
   ],
   "source": [
    "list(filter(even, lst_num_1))"
   ]
  },
  {
   "cell_type": "code",
   "execution_count": 44,
   "id": "57452d36",
   "metadata": {},
   "outputs": [
    {
     "data": {
      "text/plain": [
       "[36, 8, 10, 12, 14, 18, 0]"
      ]
     },
     "execution_count": 44,
     "metadata": {},
     "output_type": "execute_result"
    }
   ],
   "source": [
    "list(filter(lambda i: i%2==0, lst_num_1))"
   ]
  },
  {
   "cell_type": "code",
   "execution_count": 45,
   "id": "2cabb713",
   "metadata": {},
   "outputs": [
    {
     "data": {
      "text/plain": [
       "[False,\n",
       " False,\n",
       " False,\n",
       " False,\n",
       " False,\n",
       " True,\n",
       " False,\n",
       " True,\n",
       " False,\n",
       " True,\n",
       " True,\n",
       " False,\n",
       " True,\n",
       " True,\n",
       " True]"
      ]
     },
     "execution_count": 45,
     "metadata": {},
     "output_type": "execute_result"
    }
   ],
   "source": [
    "list(map(lambda i: i%2==0, lst_num_1))"
   ]
  },
  {
   "cell_type": "code",
   "execution_count": null,
   "id": "f8bc4b70",
   "metadata": {},
   "outputs": [],
   "source": []
  }
 ],
 "metadata": {
  "kernelspec": {
   "display_name": "Python 3 (ipykernel)",
   "language": "python",
   "name": "python3"
  },
  "language_info": {
   "codemirror_mode": {
    "name": "ipython",
    "version": 3
   },
   "file_extension": ".py",
   "mimetype": "text/x-python",
   "name": "python",
   "nbconvert_exporter": "python",
   "pygments_lexer": "ipython3",
   "version": "3.10.9"
  }
 },
 "nbformat": 4,
 "nbformat_minor": 5
}
