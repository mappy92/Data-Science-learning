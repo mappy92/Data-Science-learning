{
 "cells": [
  {
   "cell_type": "markdown",
   "id": "f5ae7996-2970-4571-8243-7b221711874d",
   "metadata": {},
   "source": [
    "## Text Blob Library"
   ]
  },
  {
   "cell_type": "code",
   "execution_count": 1,
   "id": "a3896bd7-9fdf-4653-8ca9-d3e5242fca15",
   "metadata": {},
   "outputs": [],
   "source": [
    "from textblob import TextBlob"
   ]
  },
  {
   "cell_type": "code",
   "execution_count": 10,
   "id": "6a472afd-7cbe-4361-a58c-877a62c23536",
   "metadata": {},
   "outputs": [
    {
     "name": "stdout",
     "output_type": "stream",
     "text": [
      "Python is a great language\n"
     ]
    }
   ],
   "source": [
    "b = TextBlob(\"Python is a grea languaa\")\n",
    "print(b.correct())"
   ]
  },
  {
   "cell_type": "code",
   "execution_count": null,
   "id": "fc3cfe87-ddd5-4df6-894f-a37d09842655",
   "metadata": {},
   "outputs": [],
   "source": []
  }
 ],
 "metadata": {
  "kernelspec": {
   "display_name": "Python 3 (ipykernel)",
   "language": "python",
   "name": "python3"
  },
  "language_info": {
   "codemirror_mode": {
    "name": "ipython",
    "version": 3
   },
   "file_extension": ".py",
   "mimetype": "text/x-python",
   "name": "python",
   "nbconvert_exporter": "python",
   "pygments_lexer": "ipython3",
   "version": "3.10.18"
  }
 },
 "nbformat": 4,
 "nbformat_minor": 5
}
