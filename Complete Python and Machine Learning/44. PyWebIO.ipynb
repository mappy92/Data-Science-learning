{
 "cells": [
  {
   "cell_type": "code",
   "execution_count": 1,
   "id": "93c29a5c-2135-47c5-9a6f-65a425c79816",
   "metadata": {},
   "outputs": [
    {
     "name": "stdin",
     "output_type": "stream",
     "text": [
      "Enter the name 12\n"
     ]
    },
    {
     "name": "stdout",
     "output_type": "stream",
     "text": [
      "12\n"
     ]
    }
   ],
   "source": [
    "a=input(\"Enter the name\")\n",
    "print(a)\n"
   ]
  },
  {
   "cell_type": "code",
   "execution_count": 2,
   "id": "83721963-f4b2-4722-9c14-7b74a3b7c5a5",
   "metadata": {},
   "outputs": [],
   "source": [
    "from pywebio.input import *\n",
    "from pywebio.output import *"
   ]
  },
  {
   "cell_type": "code",
   "execution_count": 3,
   "id": "c9cbcc17-9508-4d84-ba39-b8c16f222b38",
   "metadata": {},
   "outputs": [],
   "source": [
    "name=input(\"Enter the name\",type=\"text\")"
   ]
  },
  {
   "cell_type": "code",
   "execution_count": 4,
   "id": "26276f00-aa6a-4d32-a222-dd30fdf25201",
   "metadata": {},
   "outputs": [],
   "source": [
    "age=input(\"Enter the age\",type=NUMBER)"
   ]
  },
  {
   "cell_type": "code",
   "execution_count": 5,
   "id": "3dc9a55b-210a-4bbd-8dbc-2efa4bbbf324",
   "metadata": {},
   "outputs": [
    {
     "data": {
      "text/plain": [
       "23"
      ]
     },
     "execution_count": 5,
     "metadata": {},
     "output_type": "execute_result"
    }
   ],
   "source": [
    "age"
   ]
  },
  {
   "cell_type": "code",
   "execution_count": 6,
   "id": "21e34cb8-05a6-4d43-bdcc-eab217670735",
   "metadata": {},
   "outputs": [],
   "source": [
    "# Password input\n",
    "password = input(\"Input password\", type=PASSWORD)\n",
    "\n",
    "# Drop-down selection\n",
    "gift = select('Which gift you want?', ['keyboard', 'ipad'])\n",
    "\n",
    "# Checkbox\n",
    "agree = checkbox(\"User Term\", options=['I agree to terms and conditions'])\n",
    "\n",
    "# Single choice\n",
    "answer = radio(\"Choose one\", options=['A', 'B', 'C', 'D'])\n",
    "\n",
    "# Multi-line text input\n",
    "text = textarea('Text Area', rows=3, placeholder='Some text')\n",
    "\n",
    "# File Upload\n",
    "img = file_upload(\"Select a image:\", accept=\"image/*\")"
   ]
  },
  {
   "cell_type": "code",
   "execution_count": 7,
   "id": "c91e3be0-f18c-4a4f-9a9c-8711addfcc68",
   "metadata": {},
   "outputs": [
    {
     "data": {
      "text/plain": [
       "'ipad'"
      ]
     },
     "execution_count": 7,
     "metadata": {},
     "output_type": "execute_result"
    }
   ],
   "source": [
    "gift"
   ]
  },
  {
   "cell_type": "code",
   "execution_count": 8,
   "id": "e0ac7193-eb18-4ca6-890b-02b497c150be",
   "metadata": {},
   "outputs": [],
   "source": [
    "def check_age(p):  # return None when the check passes, otherwise return the error message\n",
    "    if p < 10:\n",
    "        return 'Too young!!'\n",
    "    if p > 60:\n",
    "        return 'Too old!!'\n",
    "\n",
    "age = input(\"How old are you?\", type=NUMBER, validate=check_age)"
   ]
  },
  {
   "cell_type": "code",
   "execution_count": 9,
   "id": "c3a3480d-dab7-46d7-ae91-22cdabb7b73b",
   "metadata": {},
   "outputs": [
    {
     "data": {
      "text/plain": [
       "35"
      ]
     },
     "execution_count": 9,
     "metadata": {},
     "output_type": "execute_result"
    }
   ],
   "source": [
    "age"
   ]
  },
  {
   "cell_type": "code",
   "execution_count": 10,
   "id": "09137b8b-b537-48e0-b783-9e0f98c0a71a",
   "metadata": {},
   "outputs": [],
   "source": [
    "code = textarea('Code Edit', code={\n",
    "    'mode': \"python\",  # code language\n",
    "    'theme': 'darcula',  # Codemirror theme. Visit https://codemirror.net/demo/theme.html#cobalt to get more themes\n",
    "}, value='import something\\n# Write your python code')"
   ]
  },
  {
   "cell_type": "code",
   "execution_count": 11,
   "id": "579d7e4c-11d1-46f1-b518-f671eb428360",
   "metadata": {},
   "outputs": [
    {
     "data": {
      "text/plain": [
       "'import something\\n# Write your python code'"
      ]
     },
     "execution_count": 11,
     "metadata": {},
     "output_type": "execute_result"
    }
   ],
   "source": [
    "code"
   ]
  },
  {
   "cell_type": "code",
   "execution_count": 12,
   "id": "434bc22a-2b5e-4719-ab82-bf8ec1338af5",
   "metadata": {},
   "outputs": [],
   "source": [
    "### Input group\n",
    "data = input_group(\"Basic info\",[\n",
    "  input('Input your name', name='name'),\n",
    "  input('Input your age', name='age', type=NUMBER, validate=check_age)\n",
    "])"
   ]
  },
  {
   "cell_type": "code",
   "execution_count": 13,
   "id": "5efced46-ea41-4fc3-b0d9-8327f9845484",
   "metadata": {},
   "outputs": [
    {
     "data": {
      "text/plain": [
       "{'name': 'mappy', 'age': 35}"
      ]
     },
     "execution_count": 13,
     "metadata": {},
     "output_type": "execute_result"
    }
   ],
   "source": [
    "data"
   ]
  },
  {
   "cell_type": "code",
   "execution_count": 14,
   "id": "cf4504a2-4355-4de3-9804-1ccd1c111b6b",
   "metadata": {},
   "outputs": [
    {
     "data": {
      "text/plain": [
       "<pywebio.output.use_scope_ at 0x281c83f7760>"
      ]
     },
     "execution_count": 14,
     "metadata": {},
     "output_type": "execute_result"
    }
   ],
   "source": [
    "from pywebio.output import *\n",
    "# Text Output\n",
    "put_text(\"Hello world!\")\n",
    "\n",
    "# Table Output\n",
    "put_table([\n",
    "    ['Commodity', 'Price'],\n",
    "    ['Apple', '5.5'],\n",
    "    ['Banana', '7'],\n",
    "])\n",
    "\n",
    "# Markdown Output\n",
    "put_markdown('~~Strikethrough~~')\n",
    "\n",
    "# File Output\n",
    "put_file('hello_word.txt', b'hello word!')\n",
    "\n",
    "# PopUp Output\n",
    "popup('popup title', 'popup text content')"
   ]
  },
  {
   "cell_type": "code",
   "execution_count": 15,
   "id": "30e24b9f-6d6e-457d-a92e-9cb5ef7827b3",
   "metadata": {},
   "outputs": [],
   "source": [
    "with put_collapse('This is title'):\n",
    "    for i in range(4):\n",
    "        put_text(i)\n",
    "\n",
    "    put_table([\n",
    "        ['Commodity', 'Price'],\n",
    "        ['Apple', '5.5'],\n",
    "        ['Banana', '7'],\n",
    "    ])"
   ]
  },
  {
   "cell_type": "markdown",
   "id": "87f3556d-8b36-49be-a4aa-7abb8756e9cf",
   "metadata": {},
   "source": [
    "## BMI Calculator"
   ]
  },
  {
   "cell_type": "code",
   "execution_count": 1,
   "id": "2e5e5bae-f90b-4660-8d6b-92ff612554fc",
   "metadata": {},
   "outputs": [],
   "source": [
    "### Create a BMI Calculation Application\n",
    "\n",
    "from pywebio.input import *\n",
    "from pywebio.output import *\n",
    "\n",
    "def bmicalculator():\n",
    "    height=input(\"Please enter the height in cm\",type=FLOAT)\n",
    "    weight=input(\"Please enter the weight in Kg\",type=FLOAT)\n",
    "    \n",
    "    bmi=weight/(height/100)**2\n",
    "    \n",
    "    bmi_output=[(16, 'Severely underweight'), (18.5, 'Underweight'),\n",
    "                  (25, 'Normal'), (30, 'Overweight'),\n",
    "                  (35, 'Moderately obese'), (float('inf'), 'Severely obese')]\n",
    "    \n",
    "    for tuple1,tuple2 in bmi_output:\n",
    "        if bmi<=tuple1:\n",
    "            put_text('Your BMI is :%.1f and the person is :%s'%(bmi,tuple2))\n",
    "            break\n",
    "        "
   ]
  },
  {
   "cell_type": "code",
   "execution_count": 2,
   "id": "b773ddb3-a975-4f5a-ae66-db386f7729d5",
   "metadata": {},
   "outputs": [],
   "source": [
    " bmicalculator()"
   ]
  },
  {
   "cell_type": "code",
   "execution_count": null,
   "id": "1035a187-94f9-4632-86bc-1205495adc14",
   "metadata": {},
   "outputs": [],
   "source": []
  }
 ],
 "metadata": {
  "kernelspec": {
   "display_name": "Python 3 (ipykernel)",
   "language": "python",
   "name": "python3"
  },
  "language_info": {
   "codemirror_mode": {
    "name": "ipython",
    "version": 3
   },
   "file_extension": ".py",
   "mimetype": "text/x-python",
   "name": "python",
   "nbconvert_exporter": "python",
   "pygments_lexer": "ipython3",
   "version": "3.10.18"
  }
 },
 "nbformat": 4,
 "nbformat_minor": 5
}
