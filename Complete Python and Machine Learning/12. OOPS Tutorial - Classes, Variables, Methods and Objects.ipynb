{
 "cells": [
  {
   "cell_type": "markdown",
   "id": "ced5de51",
   "metadata": {},
   "source": [
    "## OOPS in python"
   ]
  },
  {
   "cell_type": "code",
   "execution_count": 1,
   "id": "955ff9bb",
   "metadata": {},
   "outputs": [],
   "source": [
    "class Car:\n",
    "    pass"
   ]
  },
  {
   "cell_type": "code",
   "execution_count": 7,
   "id": "5201a4e9",
   "metadata": {},
   "outputs": [],
   "source": [
    "car1=Car()"
   ]
  },
  {
   "cell_type": "code",
   "execution_count": 3,
   "id": "e38540b9",
   "metadata": {},
   "outputs": [
    {
     "data": {
      "text/plain": [
       "<__main__.Car at 0x12c7c899630>"
      ]
     },
     "execution_count": 3,
     "metadata": {},
     "output_type": "execute_result"
    }
   ],
   "source": [
    "car1"
   ]
  },
  {
   "cell_type": "code",
   "execution_count": 8,
   "id": "437be0be",
   "metadata": {},
   "outputs": [],
   "source": [
    "car1.windows=5\n",
    "car1.doors=4"
   ]
  },
  {
   "cell_type": "code",
   "execution_count": 9,
   "id": "49066751",
   "metadata": {},
   "outputs": [
    {
     "name": "stdout",
     "output_type": "stream",
     "text": [
      "5\n"
     ]
    }
   ],
   "source": [
    "print(car1.windows)"
   ]
  },
  {
   "cell_type": "code",
   "execution_count": 10,
   "id": "5c1c0633",
   "metadata": {},
   "outputs": [],
   "source": [
    "car2=Car()"
   ]
  },
  {
   "cell_type": "code",
   "execution_count": 11,
   "id": "753da713",
   "metadata": {},
   "outputs": [
    {
     "name": "stdout",
     "output_type": "stream",
     "text": [
      "3\n"
     ]
    }
   ],
   "source": [
    "car2.windows=3\n",
    "print(car2.windows)"
   ]
  },
  {
   "cell_type": "code",
   "execution_count": 12,
   "id": "2b2cc567",
   "metadata": {},
   "outputs": [],
   "source": [
    "car2.engineType='gasoline' # can make another property"
   ]
  },
  {
   "cell_type": "code",
   "execution_count": 15,
   "id": "6012eab6",
   "metadata": {},
   "outputs": [
    {
     "data": {
      "text/plain": [
       "['__class__',\n",
       " '__delattr__',\n",
       " '__dict__',\n",
       " '__dir__',\n",
       " '__doc__',\n",
       " '__eq__',\n",
       " '__format__',\n",
       " '__ge__',\n",
       " '__getattribute__',\n",
       " '__gt__',\n",
       " '__hash__',\n",
       " '__init__',\n",
       " '__init_subclass__',\n",
       " '__le__',\n",
       " '__lt__',\n",
       " '__module__',\n",
       " '__ne__',\n",
       " '__new__',\n",
       " '__reduce__',\n",
       " '__reduce_ex__',\n",
       " '__repr__',\n",
       " '__setattr__',\n",
       " '__sizeof__',\n",
       " '__str__',\n",
       " '__subclasshook__',\n",
       " '__weakref__',\n",
       " 'doors',\n",
       " 'windows']"
      ]
     },
     "execution_count": 15,
     "metadata": {},
     "output_type": "execute_result"
    }
   ],
   "source": [
    "dir(car1) ## __init__ acts like a constructor"
   ]
  },
  {
   "cell_type": "code",
   "execution_count": 16,
   "id": "e00fb8ea",
   "metadata": {},
   "outputs": [],
   "source": [
    "class Car:\n",
    "    def __init__(self,windows,door,enginetype):\n",
    "        self.windows = windows\n",
    "        self.door = door\n",
    "        self.enginetype = enginetype\n",
    "    def self_driving(self,enginetype,):\n",
    "        re\n",
    "        "
   ]
  },
  {
   "cell_type": "code",
   "execution_count": 17,
   "id": "ce72e3bd",
   "metadata": {},
   "outputs": [
    {
     "ename": "TypeError",
     "evalue": "Car.__init__() missing 3 required positional arguments: 'windows', 'door', and 'enginetype'",
     "output_type": "error",
     "traceback": [
      "\u001b[1;31m---------------------------------------------------------------------------\u001b[0m",
      "\u001b[1;31mTypeError\u001b[0m                                 Traceback (most recent call last)",
      "Cell \u001b[1;32mIn[17], line 1\u001b[0m\n\u001b[1;32m----> 1\u001b[0m car1 \u001b[38;5;241m=\u001b[39m \u001b[43mCar\u001b[49m\u001b[43m(\u001b[49m\u001b[43m)\u001b[49m\n",
      "\u001b[1;31mTypeError\u001b[0m: Car.__init__() missing 3 required positional arguments: 'windows', 'door', and 'enginetype'"
     ]
    }
   ],
   "source": [
    "car1 = Car()"
   ]
  },
  {
   "cell_type": "code",
   "execution_count": 18,
   "id": "c85cb183",
   "metadata": {},
   "outputs": [],
   "source": [
    "car1=Car(4,3,'Petrol')"
   ]
  },
  {
   "cell_type": "code",
   "execution_count": 19,
   "id": "ce6b2451",
   "metadata": {},
   "outputs": [],
   "source": [
    "car2=Car(5,6,'Gas')"
   ]
  },
  {
   "cell_type": "code",
   "execution_count": 20,
   "id": "70888130",
   "metadata": {},
   "outputs": [
    {
     "name": "stdout",
     "output_type": "stream",
     "text": [
      "Gas\n"
     ]
    }
   ],
   "source": [
    "print(car2.enginetype)"
   ]
  },
  {
   "cell_type": "code",
   "execution_count": null,
   "id": "aae390e0",
   "metadata": {},
   "outputs": [],
   "source": []
  }
 ],
 "metadata": {
  "kernelspec": {
   "display_name": "Python 3 (ipykernel)",
   "language": "python",
   "name": "python3"
  },
  "language_info": {
   "codemirror_mode": {
    "name": "ipython",
    "version": 3
   },
   "file_extension": ".py",
   "mimetype": "text/x-python",
   "name": "python",
   "nbconvert_exporter": "python",
   "pygments_lexer": "ipython3",
   "version": "3.10.9"
  }
 },
 "nbformat": 4,
 "nbformat_minor": 5
}
