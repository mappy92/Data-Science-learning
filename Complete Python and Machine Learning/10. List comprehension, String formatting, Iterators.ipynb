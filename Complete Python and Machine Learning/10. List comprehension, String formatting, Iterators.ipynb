{
 "cells": [
  {
   "cell_type": "markdown",
   "id": "4c483427",
   "metadata": {},
   "source": [
    "## List comprehension\n",
    "\n",
    "List comprehension provides a concise way to create lists. It conssists of brackets containing an expression followed by for clause, then zero or more if clauses. The expressions can be anything, meaning you can put in all kinds of objects in lists."
   ]
  },
  {
   "cell_type": "code",
   "execution_count": 1,
   "id": "8b6b5705",
   "metadata": {},
   "outputs": [],
   "source": [
    "lst1=[]\n",
    "def lst_square(lst):\n",
    "    for i in lst:\n",
    "        lst1.append(i*i)\n",
    "    return lst1\n",
    "    "
   ]
  },
  {
   "cell_type": "code",
   "execution_count": 2,
   "id": "ed556b27",
   "metadata": {},
   "outputs": [
    {
     "data": {
      "text/plain": [
       "[1, 4, 9, 16, 25, 36]"
      ]
     },
     "execution_count": 2,
     "metadata": {},
     "output_type": "execute_result"
    }
   ],
   "source": [
    "lst_square([1,2,3,4,5,6])"
   ]
  },
  {
   "cell_type": "code",
   "execution_count": 5,
   "id": "208fdd60",
   "metadata": {},
   "outputs": [],
   "source": [
    "lst=[1,2,3,4,5,6,7,8]"
   ]
  },
  {
   "cell_type": "code",
   "execution_count": 11,
   "id": "ee09f81d",
   "metadata": {},
   "outputs": [],
   "source": [
    "## list comprehension\n",
    "lst2 = [i*i for i in lst]"
   ]
  },
  {
   "cell_type": "code",
   "execution_count": 12,
   "id": "1a1ca366",
   "metadata": {},
   "outputs": [
    {
     "data": {
      "text/plain": [
       "[1, 4, 9, 16, 25, 36, 49, 64]"
      ]
     },
     "execution_count": 12,
     "metadata": {},
     "output_type": "execute_result"
    }
   ],
   "source": [
    "lst2"
   ]
  },
  {
   "cell_type": "code",
   "execution_count": 13,
   "id": "f4d1fb27",
   "metadata": {},
   "outputs": [],
   "source": [
    "lst_even_sq = [i*i for i in lst if i%2==0]"
   ]
  },
  {
   "cell_type": "code",
   "execution_count": 14,
   "id": "c7bf6b22",
   "metadata": {},
   "outputs": [
    {
     "data": {
      "text/plain": [
       "[4, 16, 36, 64]"
      ]
     },
     "execution_count": 14,
     "metadata": {},
     "output_type": "execute_result"
    }
   ],
   "source": [
    "lst_even_sq"
   ]
  },
  {
   "cell_type": "markdown",
   "id": "c908c73a",
   "metadata": {},
   "source": [
    "## String Formatting"
   ]
  },
  {
   "cell_type": "code",
   "execution_count": 15,
   "id": "8234ddfc",
   "metadata": {},
   "outputs": [
    {
     "name": "stdout",
     "output_type": "stream",
     "text": [
      "Hello everyone\n"
     ]
    }
   ],
   "source": [
    "print(\"Hello everyone\")"
   ]
  },
  {
   "cell_type": "code",
   "execution_count": 16,
   "id": "78fc86cb",
   "metadata": {},
   "outputs": [],
   "source": [
    "str = \"Hello everyone\""
   ]
  },
  {
   "cell_type": "code",
   "execution_count": 17,
   "id": "77b3efce",
   "metadata": {},
   "outputs": [],
   "source": [
    "def greeting(name):\n",
    "    return \"Hello {}. Welcome to my page\".format(name)"
   ]
  },
  {
   "cell_type": "code",
   "execution_count": 18,
   "id": "f72bc253",
   "metadata": {},
   "outputs": [
    {
     "data": {
      "text/plain": [
       "'Hello Singh. Welcome to my page'"
      ]
     },
     "execution_count": 18,
     "metadata": {},
     "output_type": "execute_result"
    }
   ],
   "source": [
    "greeting(\"Singh\")"
   ]
  },
  {
   "cell_type": "code",
   "execution_count": 35,
   "id": "46cb3b7c",
   "metadata": {},
   "outputs": [],
   "source": [
    "def welcome_email(name,age):\n",
    "    return \"Welcome {name}. You age is {age}\".format( age=age, name=name)"
   ]
  },
  {
   "cell_type": "code",
   "execution_count": 33,
   "id": "b77193f3",
   "metadata": {},
   "outputs": [],
   "source": [
    "def welcome_email(name,age):\n",
    "    return \"Welcome {}. You age is {}\".format( age, name)"
   ]
  },
  {
   "cell_type": "code",
   "execution_count": 38,
   "id": "a8f76f60",
   "metadata": {},
   "outputs": [],
   "source": [
    "def welcome_email(name,age):\n",
    "    return \"Welcome {name1}. You age is {age1}\".format( age1=age, name1=name) # can be a different placeholder names"
   ]
  },
  {
   "cell_type": "code",
   "execution_count": 34,
   "id": "687b87d5",
   "metadata": {},
   "outputs": [
    {
     "data": {
      "text/plain": [
       "'Welcome 35. You age is Mappy'"
      ]
     },
     "execution_count": 34,
     "metadata": {},
     "output_type": "execute_result"
    }
   ],
   "source": [
    "welcome_email(\"Mappy\",35) # Using 2nd defn"
   ]
  },
  {
   "cell_type": "code",
   "execution_count": 39,
   "id": "7ed17988",
   "metadata": {},
   "outputs": [
    {
     "data": {
      "text/plain": [
       "'Welcome Mappy. You age is 35'"
      ]
     },
     "execution_count": 39,
     "metadata": {},
     "output_type": "execute_result"
    }
   ],
   "source": [
    "welcome_email(\"Mappy\",35) # Using 1st defn"
   ]
  },
  {
   "cell_type": "markdown",
   "id": "00e5b7c3",
   "metadata": {},
   "source": [
    "## Python List iterables or Iterators"
   ]
  },
  {
   "cell_type": "code",
   "execution_count": 59,
   "id": "cb1d8efb",
   "metadata": {},
   "outputs": [
    {
     "name": "stdout",
     "output_type": "stream",
     "text": [
      "1\n",
      "2\n",
      "3\n",
      "4\n",
      "5\n",
      "6\n",
      "7\n",
      "8\n"
     ]
    }
   ],
   "source": [
    "lst = [1,2,3,4,5,6,7,8]\n",
    "\n",
    "for i in lst:\n",
    "    print(i)\n",
    "    \n",
    "# List is iterable - means iterating through memory locations and printing it"
   ]
  },
  {
   "cell_type": "code",
   "execution_count": 60,
   "id": "aee75927",
   "metadata": {},
   "outputs": [
    {
     "data": {
      "text/plain": [
       "<list_iterator at 0x295e8dd3850>"
      ]
     },
     "execution_count": 60,
     "metadata": {},
     "output_type": "execute_result"
    }
   ],
   "source": [
    "iter(lst)"
   ]
  },
  {
   "cell_type": "code",
   "execution_count": 61,
   "id": "1e63a214",
   "metadata": {},
   "outputs": [],
   "source": [
    "lst1 = iter(lst) # Values in the list are not intialized in memory location until we call an inbuilt function next()"
   ]
  },
  {
   "cell_type": "code",
   "execution_count": 62,
   "id": "db154f89",
   "metadata": {},
   "outputs": [
    {
     "data": {
      "text/plain": [
       "1"
      ]
     },
     "execution_count": 62,
     "metadata": {},
     "output_type": "execute_result"
    }
   ],
   "source": [
    "next(lst1) # now we have memory location for first element"
   ]
  },
  {
   "cell_type": "code",
   "execution_count": 58,
   "id": "b5dff253",
   "metadata": {},
   "outputs": [
    {
     "ename": "StopIteration",
     "evalue": "",
     "output_type": "error",
     "traceback": [
      "\u001b[1;31m---------------------------------------------------------------------------\u001b[0m",
      "\u001b[1;31mStopIteration\u001b[0m                             Traceback (most recent call last)",
      "Cell \u001b[1;32mIn[58], line 1\u001b[0m\n\u001b[1;32m----> 1\u001b[0m \u001b[38;5;28;43mnext\u001b[39;49m\u001b[43m(\u001b[49m\u001b[43mlst1\u001b[49m\u001b[43m)\u001b[49m\n",
      "\u001b[1;31mStopIteration\u001b[0m: "
     ]
    }
   ],
   "source": [
    "next(lst1)"
   ]
  },
  {
   "cell_type": "code",
   "execution_count": 64,
   "id": "cdc4678c",
   "metadata": {},
   "outputs": [
    {
     "name": "stdout",
     "output_type": "stream",
     "text": [
      "2\n",
      "3\n",
      "4\n",
      "5\n",
      "6\n",
      "7\n",
      "8\n"
     ]
    }
   ],
   "source": [
    "for i in lst1: ## because we have executed next function once separately\n",
    "    print(i)"
   ]
  },
  {
   "cell_type": "code",
   "execution_count": null,
   "id": "7901f142",
   "metadata": {},
   "outputs": [],
   "source": []
  }
 ],
 "metadata": {
  "kernelspec": {
   "display_name": "Python 3 (ipykernel)",
   "language": "python",
   "name": "python3"
  },
  "language_info": {
   "codemirror_mode": {
    "name": "ipython",
    "version": 3
   },
   "file_extension": ".py",
   "mimetype": "text/x-python",
   "name": "python",
   "nbconvert_exporter": "python",
   "pygments_lexer": "ipython3",
   "version": "3.10.9"
  }
 },
 "nbformat": 4,
 "nbformat_minor": 5
}
