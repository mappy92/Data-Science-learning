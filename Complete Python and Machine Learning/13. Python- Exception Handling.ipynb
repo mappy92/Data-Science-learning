{
 "cells": [
  {
   "cell_type": "code",
   "execution_count": 1,
   "id": "022471a2",
   "metadata": {},
   "outputs": [],
   "source": [
    "a=10"
   ]
  },
  {
   "cell_type": "code",
   "execution_count": 2,
   "id": "edf73e5e",
   "metadata": {},
   "outputs": [
    {
     "ename": "NameError",
     "evalue": "name 'b' is not defined",
     "output_type": "error",
     "traceback": [
      "\u001b[1;31m---------------------------------------------------------------------------\u001b[0m",
      "\u001b[1;31mNameError\u001b[0m                                 Traceback (most recent call last)",
      "Cell \u001b[1;32mIn[2], line 1\u001b[0m\n\u001b[1;32m----> 1\u001b[0m a\u001b[38;5;241m=\u001b[39m\u001b[43mb\u001b[49m\n",
      "\u001b[1;31mNameError\u001b[0m: name 'b' is not defined"
     ]
    }
   ],
   "source": [
    "a=b # Exception class (main class)"
   ]
  },
  {
   "cell_type": "code",
   "execution_count": 3,
   "id": "fcfc4816",
   "metadata": {},
   "outputs": [
    {
     "name": "stdout",
     "output_type": "stream",
     "text": [
      "some problem may have occured\n"
     ]
    }
   ],
   "source": [
    "try:\n",
    "    ## code where the exception can occur\n",
    "    a=b\n",
    "except: \n",
    "    ## some problem may have occured\n",
    "    print(\"some problem may have occured\")"
   ]
  },
  {
   "cell_type": "code",
   "execution_count": 6,
   "id": "6ac4070c",
   "metadata": {},
   "outputs": [
    {
     "name": "stdout",
     "output_type": "stream",
     "text": [
      "name 'b' is not defined\n"
     ]
    }
   ],
   "source": [
    "try:\n",
    "    ## code where the exception can occur\n",
    "    a=b\n",
    "except Exception as ex: \n",
    "    print(ex)"
   ]
  },
  {
   "cell_type": "code",
   "execution_count": 7,
   "id": "23c242fe",
   "metadata": {},
   "outputs": [
    {
     "name": "stdout",
     "output_type": "stream",
     "text": [
      "User may have not defined the variable\n"
     ]
    }
   ],
   "source": [
    "try:\n",
    "    ## code where the exception can occur\n",
    "    a=b\n",
    "except NameError as ex1:\n",
    "    print(\"User may have not defined the variable\")\n",
    "except Exception as ex: # Exception class at last\n",
    "    print(ex)"
   ]
  },
  {
   "cell_type": "code",
   "execution_count": 10,
   "id": "6f75c7e7",
   "metadata": {},
   "outputs": [
    {
     "name": "stdout",
     "output_type": "stream",
     "text": [
      "The addition can possible for similar datatype.\n"
     ]
    }
   ],
   "source": [
    "try:\n",
    "    ## code where the exception can occur\n",
    "    a=1\n",
    "    b=\"s\"\n",
    "    c=a+b\n",
    "except NameError as ex1:\n",
    "    print(\"User may have not defined the variable\")\n",
    "except TypeError as ex2:\n",
    "    print(\"The addition can possible for similar datatype.\")\n",
    "except Exception as ex: # Exception class at last\n",
    "    print(ex)"
   ]
  },
  {
   "cell_type": "code",
   "execution_count": 17,
   "id": "a1003561",
   "metadata": {},
   "outputs": [
    {
     "name": "stdout",
     "output_type": "stream",
     "text": [
      "Enter the number 12\n",
      "Enter the number 22\n",
      "1.0\n",
      "4\n",
      "4\n",
      "else block 1.0 4 4\n"
     ]
    }
   ],
   "source": [
    "try:\n",
    "    ## code where the exception can occur\n",
    "    a=int(input(\"Enter the number 1\"))\n",
    "    b=int(input(\"Enter the number 2\"))\n",
    "    c=a/b\n",
    "    d=a*b\n",
    "    e=a+b\n",
    "    print(c)\n",
    "    print(d)\n",
    "    print(e)\n",
    "except NameError as ex1:\n",
    "    print(\"User may have not defined the variable\")\n",
    "except TypeError as ex2:\n",
    "    print(\"The addition can possible for similar datatype.\")\n",
    "except Exception as ex: # Exception class at last\n",
    "    print(ex)\n",
    "else:\n",
    "    print(\"else block\",c,d,e)"
   ]
  },
  {
   "cell_type": "code",
   "execution_count": 15,
   "id": "fd30caa4",
   "metadata": {},
   "outputs": [
    {
     "ename": "ZeroDivisionError",
     "evalue": "division by zero",
     "output_type": "error",
     "traceback": [
      "\u001b[1;31m---------------------------------------------------------------------------\u001b[0m",
      "\u001b[1;31mZeroDivisionError\u001b[0m                         Traceback (most recent call last)",
      "Cell \u001b[1;32mIn[15], line 1\u001b[0m\n\u001b[1;32m----> 1\u001b[0m \u001b[38;5;241;43m12\u001b[39;49m\u001b[38;5;241;43m/\u001b[39;49m\u001b[38;5;241;43m0\u001b[39;49m\n",
      "\u001b[1;31mZeroDivisionError\u001b[0m: division by zero"
     ]
    }
   ],
   "source": [
    "12/0 # can handle ZeroDivisionError"
   ]
  },
  {
   "cell_type": "code",
   "execution_count": 21,
   "id": "2bbcaf69",
   "metadata": {},
   "outputs": [
    {
     "name": "stdout",
     "output_type": "stream",
     "text": [
      "Enter the number 112\n",
      "Enter the number 24\n",
      "3.0\n",
      "else block 3.0 4 4\n",
      "DONE !\n"
     ]
    }
   ],
   "source": [
    "## try else finally\n",
    "try:\n",
    "    ## code where the exception can occur\n",
    "    a=int(input(\"Enter the number 1\"))\n",
    "    b=int(input(\"Enter the number 2\"))\n",
    "    c=a/b\n",
    "    print(c)\n",
    "except NameError as ex1:\n",
    "    print(\"User may have not defined the variable\")\n",
    "except TypeError as ex2:\n",
    "    print(\"The addition can possible for similar datatype.\")\n",
    "except Exception as ex: # Exception class at last\n",
    "    print(ex)\n",
    "else:\n",
    "    print(\"else block\",c,d,e)\n",
    "finally:\n",
    "    print(\"DONE !\")"
   ]
  },
  {
   "cell_type": "markdown",
   "id": "0e526eb2",
   "metadata": {},
   "source": [
    "## Custom Exception Handling"
   ]
  },
  {
   "cell_type": "code",
   "execution_count": 22,
   "id": "58fe103a",
   "metadata": {},
   "outputs": [],
   "source": [
    "class Error(Exception):\n",
    "    pass\n",
    "\n",
    "class dobException(Error):\n",
    "    pass\n"
   ]
  },
  {
   "cell_type": "code",
   "execution_count": 25,
   "id": "1a06bba5",
   "metadata": {},
   "outputs": [
    {
     "name": "stdout",
     "output_type": "stream",
     "text": [
      "Please enter the year of birth1993\n",
      "The year range is not valid\n"
     ]
    }
   ],
   "source": [
    "year=int(input(\"Please enter the year of birth\"))\n",
    "age = 2025-year\n",
    "try:\n",
    "    if(age<=30 & age>20):\n",
    "        print(\"Age is valid for the exam !\")\n",
    "    else:\n",
    "        raise dobException\n",
    "except dobException:\n",
    "    print(\"The year range is not valid\")\n",
    "    "
   ]
  },
  {
   "cell_type": "code",
   "execution_count": null,
   "id": "351061c3",
   "metadata": {},
   "outputs": [],
   "source": []
  }
 ],
 "metadata": {
  "kernelspec": {
   "display_name": "Python 3 (ipykernel)",
   "language": "python",
   "name": "python3"
  },
  "language_info": {
   "codemirror_mode": {
    "name": "ipython",
    "version": 3
   },
   "file_extension": ".py",
   "mimetype": "text/x-python",
   "name": "python",
   "nbconvert_exporter": "python",
   "pygments_lexer": "ipython3",
   "version": "3.10.9"
  }
 },
 "nbformat": 4,
 "nbformat_minor": 5
}
