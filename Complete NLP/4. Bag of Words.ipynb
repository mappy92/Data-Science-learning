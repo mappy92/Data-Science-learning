{
 "cells": [
  {
   "cell_type": "code",
   "execution_count": 68,
   "id": "50ec2135-a400-4de8-bb26-d6a03edc816e",
   "metadata": {},
   "outputs": [],
   "source": [
    "import nltk\n",
    "\n",
    "paragraph =  \"\"\"I have three visions for India. In 3000 years of our history, people from all over \n",
    "               the world have come and invaded us, captured our lands, conquered our minds. \n",
    "               From Alexander onwards, the Greeks, the Turks, the Moguls, the Portuguese, the British,\n",
    "               the French, the Dutch, all of them came and looted us, took over what was ours. \n",
    "               Yet we have not done this to any other nation. We have not conquered anyone. \n",
    "               We have not grabbed their land, their culture, \n",
    "               their history and tried to enforce our way of life on them. \n",
    "               Why? Because we respect the freedom of others.That is why my \n",
    "               first vision is that of freedom. I believe that India got its first vision of \n",
    "               this in 1857, when we started the War of Independence. It is this freedom that\n",
    "               we must protect and nurture and build on. If we are not free, no one will respect us.\n",
    "               My second vision for India’s development. For fifty years we have been a developing nation.\n",
    "               It is time we see ourselves as a developed nation. We are among the top 5 nations of the world\n",
    "               in terms of GDP. We have a 10 percent growth rate in most areas. Our poverty levels are falling.\n",
    "               Our achievements are being globally recognised today. Yet we lack the self-confidence to\n",
    "               see ourselves as a developed nation, self-reliant and self-assured. Isn’t this incorrect?\n",
    "               I have a third vision. India must stand up to the world. Because I believe that unless India \n",
    "               stands up to the world, no one will respect us. Only strength respects strength. We must be \n",
    "               strong not only as a military power but also as an economic power. Both must go hand-in-hand. \n",
    "               My good fortune was to have worked with three great minds. Dr. Vikram Sarabhai of the Dept. of \n",
    "               space, Professor Satish Dhawan, who succeeded him and Dr. Brahm Prakash, father of nuclear material.\n",
    "               I was lucky to have worked with all three of them closely and consider this the great opportunity of my life. \n",
    "               I see four milestones in my career\"\"\"\n",
    "               \n",
    "               \n",
    "# Cleaning the texts\n",
    "import re\n",
    "from nltk.corpus import stopwords\n",
    "from nltk.stem.porter import PorterStemmer\n",
    "from nltk.stem import WordNetLemmatizer\n",
    "\n",
    "ps = PorterStemmer()\n",
    "wordnet=WordNetLemmatizer()\n",
    "sentences = nltk.sent_tokenize(paragraph)\n",
    "corpus = []\n",
    "uniq_words_list = []\n",
    "uniq_words_set = set()\n",
    "stop_words = set(stopwords.words('english'))\n",
    "for i in range(len(sentences)):\n",
    "    #review = re.sub('[^a-zA-Z]', ' ', sentences[i])\n",
    "    #review = review.lower()\n",
    "    #review = review.split()\n",
    "    #review = [wordnet.lemmatize(word) for word in review if not word in set(stopwords.words('english'))]\n",
    "    review = re.sub('[^a-zA-Z]', ' ', sentences[i]).lower().split()\n",
    "    review = [wordnet.lemmatize(word.strip()) for word in review if word.strip() not in stop_words]\n",
    "    \n",
    "    #uniq_words = [w for w in review if w not in uniq_words]\n",
    "    #uniq_words_list.extend(uniq_words)\n",
    "    # Add only new words to global unique list\n",
    "    for w in review:\n",
    "        if w not in uniq_words_set:\n",
    "            uniq_words_set.add(w)\n",
    "            uniq_words_list.append(w)\n",
    "    review = ' '.join(review)\n",
    "    corpus.append(review)"
   ]
  },
  {
   "cell_type": "code",
   "execution_count": 72,
   "id": "63d8eda8-a867-4072-9b40-39daec55f046",
   "metadata": {},
   "outputs": [],
   "source": [
    "## print(\"Number of unique words:\", len(uniq_words_list)) ##Fix it"
   ]
  },
  {
   "cell_type": "code",
   "execution_count": 12,
   "id": "7053db34-48b6-440f-9a69-f5f3a7b16f78",
   "metadata": {},
   "outputs": [],
   "source": [
    "# Creating the Bag of Words model\n",
    "from sklearn.feature_extraction.text import CountVectorizer\n",
    "cv = CountVectorizer(max_features = 1500)\n",
    "X = cv.fit_transform(corpus).toarray()"
   ]
  },
  {
   "cell_type": "code",
   "execution_count": 13,
   "id": "074fab30-0169-422b-ab0f-3bd8739c5134",
   "metadata": {},
   "outputs": [
    {
     "data": {
      "text/plain": [
       "array([[0, 0, 0, ..., 0, 0, 0],\n",
       "       [0, 0, 0, ..., 1, 1, 0],\n",
       "       [0, 1, 0, ..., 0, 0, 0],\n",
       "       ...,\n",
       "       [0, 0, 0, ..., 0, 0, 0],\n",
       "       [0, 0, 0, ..., 0, 0, 0],\n",
       "       [0, 0, 0, ..., 0, 0, 0]], dtype=int64)"
      ]
     },
     "execution_count": 13,
     "metadata": {},
     "output_type": "execute_result"
    }
   ],
   "source": [
    "X"
   ]
  },
  {
   "cell_type": "code",
   "execution_count": 14,
   "id": "065d7e7c-fea4-4c8f-8f52-29b238fc0c99",
   "metadata": {},
   "outputs": [
    {
     "data": {
      "text/plain": [
       "(31, 114)"
      ]
     },
     "execution_count": 14,
     "metadata": {},
     "output_type": "execute_result"
    }
   ],
   "source": [
    "X.shape"
   ]
  },
  {
   "cell_type": "code",
   "execution_count": 57,
   "id": "300a2560-8edc-481d-92e3-1499023f693c",
   "metadata": {},
   "outputs": [
    {
     "name": "stdout",
     "output_type": "stream",
     "text": [
      "Number of unique words: 114\n"
     ]
    }
   ],
   "source": [
    "import nltk\n",
    "from nltk.corpus import stopwords\n",
    "from nltk.stem import WordNetLemmatizer\n",
    "import re\n",
    "\n",
    "paragraph = \"\"\"I have three visions for India. In 3000 years of our history, people from all over \n",
    "the world have come and invaded us, captured our lands, conquered our minds. \n",
    "From Alexander onwards, the Greeks, the Turks, the Moguls, the Portuguese, the British,\n",
    "the French, the Dutch, all of them came and looted us, took over what was ours. \n",
    "Yet we have not done this to any other nation. We have not conquered anyone. \n",
    "We have not grabbed their land, their culture, \n",
    "their history and tried to enforce our way of life on them. \n",
    "Why? Because we respect the freedom of others.That is why my \n",
    "first vision is that of freedom. I believe that India got its first vision of \n",
    "this in 1857, when we started the War of Independence. It is this freedom that\n",
    "we must protect and nurture and build on. If we are not free, no one will respect us.\n",
    "My second vision for India’s development. For fifty years we have been a developing nation.\n",
    "It is time we see ourselves as a developed nation. We are among the top 5 nations of the world\n",
    "in terms of GDP. We have a 10 percent growth rate in most areas. Our poverty levels are falling.\n",
    "Our achievements are being globally recognised today. Yet we lack the self-confidence to\n",
    "see ourselves as a developed nation, self-reliant and self-assured. Isn’t this incorrect?\n",
    "I have a third vision. India must stand up to the world. Because I believe that unless India \n",
    "stands up to the world, no one will respect us. Only strength respects strength. We must be \n",
    "strong not only as a military power but also as an economic power. Both must go hand-in-hand. \n",
    "My good fortune was to have worked with three great minds. Dr. Vikram Sarabhai of the Dept. of \n",
    "space, Professor Satish Dhawan, who succeeded him and Dr. Brahm Prakash, father of nuclear material.\n",
    "I was lucky to have worked with all three of them closely and consider this the great opportunity of my life. \n",
    "I see four milestones in my career\"\"\"\n",
    "\n",
    "# Initialize lemmatizer and stopwords\n",
    "lemmatizer = WordNetLemmatizer()\n",
    "stop_words = set(stopwords.words('english'))\n",
    "\n",
    "# Tokenize words\n",
    "words = nltk.word_tokenize(paragraph)\n",
    "\n",
    "# Clean words: lowercase, remove punctuation, remove stopwords, lemmatize\n",
    "cleaned_words = []\n",
    "for w in words:\n",
    "    w = re.sub(r'[^a-zA-Z]', '', w).lower()  # keep only letters, lowercase\n",
    "    if w and w not in stop_words:            # ignore empty strings and stopwords\n",
    "        w = lemmatizer.lemmatize(w)\n",
    "        cleaned_words.append(w)\n",
    "\n",
    "# Get unique words\n",
    "unique_words = list(set(cleaned_words))\n",
    "unique_words.sort()  # optional: sorted alphabetically\n",
    "\n",
    "print(\"Number of unique words:\", len(unique_words))\n"
   ]
  },
  {
   "cell_type": "code",
   "execution_count": null,
   "id": "e338cc8a-9aa0-41e1-afc6-5074aba73e70",
   "metadata": {},
   "outputs": [],
   "source": []
  }
 ],
 "metadata": {
  "kernelspec": {
   "display_name": "Python 3 (ipykernel)",
   "language": "python",
   "name": "python3"
  },
  "language_info": {
   "codemirror_mode": {
    "name": "ipython",
    "version": 3
   },
   "file_extension": ".py",
   "mimetype": "text/x-python",
   "name": "python",
   "nbconvert_exporter": "python",
   "pygments_lexer": "ipython3",
   "version": "3.10.18"
  }
 },
 "nbformat": 4,
 "nbformat_minor": 5
}
